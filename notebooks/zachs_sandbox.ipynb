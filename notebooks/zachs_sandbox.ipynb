{
 "cells": [
  {
   "cell_type": "markdown",
   "metadata": {
    "collapsed": false
   },
   "source": [
    "# MDI+: Example Usages"
   ]
  },
  {
   "cell_type": "code",
   "execution_count": 22,
   "metadata": {
    "collapsed": false
   },
   "outputs": [],
   "source": [
    "%reload_ext autoreload\n",
    "%autoreload 2\n",
    "import sys\n",
    "sys.path.append(\"../\")\n",
    "sys.path.append(\"../../\")\n",
    "\n",
    "import numpy as np\n",
    "import pandas as pd\n",
    "import shap\n",
    "import lime\n",
    "import time\n",
    "from joblib import Parallel, delayed\n",
    "import matplotlib.pyplot as plt\n",
    "from sklearn.model_selection import train_test_split\n",
    "from sklearn.ensemble import RandomForestRegressor, RandomForestClassifier\n",
    "from sklearn.metrics import r2_score, mean_absolute_error, accuracy_score, roc_auc_score, mean_squared_error\n",
    "import copy\n",
    "\n",
    "from imodels.importance import RandomForestPlusRegressor, RandomForestPlusClassifier, \\\n",
    "    RidgeRegressorPPM, LassoRegressorPPM, IdentityTransformer\n",
    "from imodels.importance.rf_plus import _fast_r2_score"
   ]
  },
  {
   "cell_type": "code",
   "execution_count": 23,
   "metadata": {
    "collapsed": false
   },
   "outputs": [],
   "source": [
    "# helper variables\n",
    "rf_regressor = RandomForestRegressor(n_estimators=100, min_samples_leaf=5, max_features=0.33, random_state=331)\n",
    "rf_classifier = RandomForestClassifier(n_estimators=100, min_samples_leaf=1, max_features=\"sqrt\", random_state=331)"
   ]
  },
  {
   "cell_type": "markdown",
   "metadata": {
    "collapsed": false
   },
   "source": [
    "## 1. Regression Example"
   ]
  },
  {
   "cell_type": "code",
   "execution_count": 24,
   "metadata": {
    "collapsed": false
   },
   "outputs": [],
   "source": [
    "# generate data from linear model: y = x1 + x2 + N(0, 1)\n",
    "n = 200\n",
    "p = 10\n",
    "s = 2\n",
    "X = np.random.normal(size=(n, p))\n",
    "beta = np.concatenate((np.ones(s), np.zeros(p-s)))\n",
    "y = np.matmul(X, beta) + np.random.normal(size=n) > np.mean(np.matmul(X, beta) + np.random.normal(size=n))\n",
    "X_train, X_test, y_train, y_test = train_test_split(X, y, test_size=0.33, random_state=12345)"
   ]
  },
  {
   "cell_type": "code",
   "execution_count": 15,
   "metadata": {},
   "outputs": [],
   "source": [
    "rf_plus_model = RandomForestPlusClassifier(rf_model=rf_classifier, calc_loo_coef=False)\n",
    "rf_plus_model.fit(X_train, y_train)"
   ]
  },
  {
   "cell_type": "markdown",
   "metadata": {
    "collapsed": false
   },
   "source": [
    "### 1.1 Local MDI+ (Feature Contribution) w/ Regression"
   ]
  },
  {
   "cell_type": "code",
   "execution_count": 25,
   "metadata": {
    "collapsed": false
   },
   "outputs": [],
   "source": [
    "# fit RF+\n",
    "rf_plus_model = RandomForestPlusRegressor(rf_model=rf_regressor,\n",
    "                                          include_raw=False, cv_ridge=0,\n",
    "                                          calc_loo_coef=False,\n",
    "                                          sample_split=\"oob\", fit_on=\"test\")\n",
    "rf_plus_model.fit(X_train, y_train)"
   ]
  },
  {
   "cell_type": "code",
   "execution_count": 28,
   "metadata": {},
   "outputs": [],
   "source": [
    "mdi_plus_scores = rf_plus_model.get_mdi_plus_scores(X_test, y_test, lfi=True,\n",
    "                                                    lfi_abs = \"none\",\n",
    "                                                    train_or_test = \"test\",\n",
    "                                                    sample_split=None)\n"
   ]
  },
  {
   "cell_type": "code",
   "execution_count": 30,
   "metadata": {},
   "outputs": [
    {
     "data": {
      "text/html": [
       "<div>\n",
       "<style scoped>\n",
       "    .dataframe tbody tr th:only-of-type {\n",
       "        vertical-align: middle;\n",
       "    }\n",
       "\n",
       "    .dataframe tbody tr th {\n",
       "        vertical-align: top;\n",
       "    }\n",
       "\n",
       "    .dataframe thead th {\n",
       "        text-align: right;\n",
       "    }\n",
       "</style>\n",
       "<table border=\"1\" class=\"dataframe\">\n",
       "  <thead>\n",
       "    <tr style=\"text-align: right;\">\n",
       "      <th></th>\n",
       "      <th>0</th>\n",
       "      <th>1</th>\n",
       "      <th>2</th>\n",
       "      <th>3</th>\n",
       "      <th>4</th>\n",
       "      <th>5</th>\n",
       "      <th>6</th>\n",
       "      <th>7</th>\n",
       "      <th>8</th>\n",
       "      <th>9</th>\n",
       "    </tr>\n",
       "  </thead>\n",
       "  <tbody>\n",
       "    <tr>\n",
       "      <th>0</th>\n",
       "      <td>0.020770</td>\n",
       "      <td>0.168805</td>\n",
       "      <td>-0.000939</td>\n",
       "      <td>-0.000867</td>\n",
       "      <td>-0.001676</td>\n",
       "      <td>0.005908</td>\n",
       "      <td>0.004436</td>\n",
       "      <td>-0.028987</td>\n",
       "      <td>-0.003391</td>\n",
       "      <td>0.004943</td>\n",
       "    </tr>\n",
       "    <tr>\n",
       "      <th>1</th>\n",
       "      <td>0.008959</td>\n",
       "      <td>0.127249</td>\n",
       "      <td>0.008298</td>\n",
       "      <td>0.005297</td>\n",
       "      <td>-0.001317</td>\n",
       "      <td>-0.019274</td>\n",
       "      <td>0.010357</td>\n",
       "      <td>0.005421</td>\n",
       "      <td>0.011844</td>\n",
       "      <td>0.012727</td>\n",
       "    </tr>\n",
       "    <tr>\n",
       "      <th>2</th>\n",
       "      <td>0.016815</td>\n",
       "      <td>-0.103798</td>\n",
       "      <td>0.012182</td>\n",
       "      <td>-0.012937</td>\n",
       "      <td>-0.005876</td>\n",
       "      <td>0.007132</td>\n",
       "      <td>-0.003507</td>\n",
       "      <td>-0.002392</td>\n",
       "      <td>-0.013829</td>\n",
       "      <td>0.008644</td>\n",
       "    </tr>\n",
       "    <tr>\n",
       "      <th>3</th>\n",
       "      <td>-0.035698</td>\n",
       "      <td>-0.122811</td>\n",
       "      <td>0.008632</td>\n",
       "      <td>0.006172</td>\n",
       "      <td>-0.010619</td>\n",
       "      <td>0.003305</td>\n",
       "      <td>-0.003808</td>\n",
       "      <td>0.004921</td>\n",
       "      <td>-0.003312</td>\n",
       "      <td>0.006767</td>\n",
       "    </tr>\n",
       "    <tr>\n",
       "      <th>4</th>\n",
       "      <td>0.024110</td>\n",
       "      <td>0.179263</td>\n",
       "      <td>0.013023</td>\n",
       "      <td>0.001499</td>\n",
       "      <td>-0.007794</td>\n",
       "      <td>0.006421</td>\n",
       "      <td>0.009052</td>\n",
       "      <td>-0.012938</td>\n",
       "      <td>-0.006440</td>\n",
       "      <td>-0.008404</td>\n",
       "    </tr>\n",
       "    <tr>\n",
       "      <th>...</th>\n",
       "      <td>...</td>\n",
       "      <td>...</td>\n",
       "      <td>...</td>\n",
       "      <td>...</td>\n",
       "      <td>...</td>\n",
       "      <td>...</td>\n",
       "      <td>...</td>\n",
       "      <td>...</td>\n",
       "      <td>...</td>\n",
       "      <td>...</td>\n",
       "    </tr>\n",
       "    <tr>\n",
       "      <th>61</th>\n",
       "      <td>-0.082584</td>\n",
       "      <td>-0.074386</td>\n",
       "      <td>-0.008465</td>\n",
       "      <td>0.008068</td>\n",
       "      <td>-0.014146</td>\n",
       "      <td>-0.003432</td>\n",
       "      <td>-0.005769</td>\n",
       "      <td>-0.004329</td>\n",
       "      <td>-0.006871</td>\n",
       "      <td>0.001739</td>\n",
       "    </tr>\n",
       "    <tr>\n",
       "      <th>62</th>\n",
       "      <td>0.068635</td>\n",
       "      <td>0.136299</td>\n",
       "      <td>0.006935</td>\n",
       "      <td>-0.004596</td>\n",
       "      <td>0.002857</td>\n",
       "      <td>0.002149</td>\n",
       "      <td>0.003890</td>\n",
       "      <td>0.009977</td>\n",
       "      <td>0.000773</td>\n",
       "      <td>-0.010808</td>\n",
       "    </tr>\n",
       "    <tr>\n",
       "      <th>63</th>\n",
       "      <td>0.000945</td>\n",
       "      <td>0.128456</td>\n",
       "      <td>-0.002995</td>\n",
       "      <td>-0.009583</td>\n",
       "      <td>0.000257</td>\n",
       "      <td>0.010119</td>\n",
       "      <td>-0.008907</td>\n",
       "      <td>-0.006135</td>\n",
       "      <td>0.002204</td>\n",
       "      <td>0.007159</td>\n",
       "    </tr>\n",
       "    <tr>\n",
       "      <th>64</th>\n",
       "      <td>0.014883</td>\n",
       "      <td>-0.125738</td>\n",
       "      <td>0.010927</td>\n",
       "      <td>0.003088</td>\n",
       "      <td>-0.014089</td>\n",
       "      <td>0.005688</td>\n",
       "      <td>-0.002844</td>\n",
       "      <td>0.011194</td>\n",
       "      <td>0.004951</td>\n",
       "      <td>-0.008574</td>\n",
       "    </tr>\n",
       "    <tr>\n",
       "      <th>65</th>\n",
       "      <td>-0.079580</td>\n",
       "      <td>-0.084364</td>\n",
       "      <td>0.004993</td>\n",
       "      <td>-0.006788</td>\n",
       "      <td>-0.004706</td>\n",
       "      <td>0.006899</td>\n",
       "      <td>0.000065</td>\n",
       "      <td>-0.005205</td>\n",
       "      <td>0.013302</td>\n",
       "      <td>-0.004369</td>\n",
       "    </tr>\n",
       "  </tbody>\n",
       "</table>\n",
       "<p>66 rows × 10 columns</p>\n",
       "</div>"
      ],
      "text/plain": [
       "           0         1         2         3         4         5         6  \\\n",
       "0   0.020770  0.168805 -0.000939 -0.000867 -0.001676  0.005908  0.004436   \n",
       "1   0.008959  0.127249  0.008298  0.005297 -0.001317 -0.019274  0.010357   \n",
       "2   0.016815 -0.103798  0.012182 -0.012937 -0.005876  0.007132 -0.003507   \n",
       "3  -0.035698 -0.122811  0.008632  0.006172 -0.010619  0.003305 -0.003808   \n",
       "4   0.024110  0.179263  0.013023  0.001499 -0.007794  0.006421  0.009052   \n",
       "..       ...       ...       ...       ...       ...       ...       ...   \n",
       "61 -0.082584 -0.074386 -0.008465  0.008068 -0.014146 -0.003432 -0.005769   \n",
       "62  0.068635  0.136299  0.006935 -0.004596  0.002857  0.002149  0.003890   \n",
       "63  0.000945  0.128456 -0.002995 -0.009583  0.000257  0.010119 -0.008907   \n",
       "64  0.014883 -0.125738  0.010927  0.003088 -0.014089  0.005688 -0.002844   \n",
       "65 -0.079580 -0.084364  0.004993 -0.006788 -0.004706  0.006899  0.000065   \n",
       "\n",
       "           7         8         9  \n",
       "0  -0.028987 -0.003391  0.004943  \n",
       "1   0.005421  0.011844  0.012727  \n",
       "2  -0.002392 -0.013829  0.008644  \n",
       "3   0.004921 -0.003312  0.006767  \n",
       "4  -0.012938 -0.006440 -0.008404  \n",
       "..       ...       ...       ...  \n",
       "61 -0.004329 -0.006871  0.001739  \n",
       "62  0.009977  0.000773 -0.010808  \n",
       "63 -0.006135  0.002204  0.007159  \n",
       "64  0.011194  0.004951 -0.008574  \n",
       "65 -0.005205  0.013302 -0.004369  \n",
       "\n",
       "[66 rows x 10 columns]"
      ]
     },
     "execution_count": 30,
     "metadata": {},
     "output_type": "execute_result"
    }
   ],
   "source": [
    "mdi_plus_scores[\"lfi\"]"
   ]
  },
  {
   "cell_type": "code",
   "execution_count": 5,
   "metadata": {},
   "outputs": [],
   "source": [
    "mdi_plus_scores = rf_plus_model.get_mdi_plus_scores(X_train, y_train, lfi=True,\n",
    "                                                    lfi_abs = \"none\")"
   ]
  },
  {
   "cell_type": "code",
   "execution_count": 6,
   "metadata": {},
   "outputs": [
    {
     "ename": "ValueError",
     "evalue": "Set sample_split=None to fit MDI+ on non-training X and y. To use other sample_split schemes, input the training X and y data.",
     "output_type": "error",
     "traceback": [
      "\u001b[0;31m---------------------------------------------------------------------------\u001b[0m",
      "\u001b[0;31mValueError\u001b[0m                                Traceback (most recent call last)",
      "Cell \u001b[0;32mIn[6], line 1\u001b[0m\n\u001b[0;32m----> 1\u001b[0m mdi_plus_scores_test \u001b[38;5;241m=\u001b[39m \u001b[43mrf_plus_model\u001b[49m\u001b[38;5;241;43m.\u001b[39;49m\u001b[43mget_mdi_plus_scores\u001b[49m\u001b[43m(\u001b[49m\u001b[43mX_test\u001b[49m\u001b[43m,\u001b[49m\u001b[43m \u001b[49m\u001b[43my_test\u001b[49m\u001b[43m,\u001b[49m\u001b[43m \u001b[49m\u001b[43mlfi\u001b[49m\u001b[38;5;241;43m=\u001b[39;49m\u001b[38;5;28;43;01mTrue\u001b[39;49;00m\u001b[43m,\u001b[49m\n\u001b[1;32m      2\u001b[0m \u001b[43m                                                         \u001b[49m\u001b[43mlfi_abs\u001b[49m\u001b[43m \u001b[49m\u001b[38;5;241;43m=\u001b[39;49m\u001b[43m \u001b[49m\u001b[38;5;124;43m\"\u001b[39;49m\u001b[38;5;124;43mnone\u001b[39;49m\u001b[38;5;124;43m\"\u001b[39;49m\u001b[43m,\u001b[49m\u001b[43m \u001b[49m\u001b[43mtrain_or_test\u001b[49m\u001b[43m \u001b[49m\u001b[38;5;241;43m=\u001b[39;49m\u001b[43m \u001b[49m\u001b[38;5;124;43m\"\u001b[39;49m\u001b[38;5;124;43mtest\u001b[39;49m\u001b[38;5;124;43m\"\u001b[39;49m\u001b[43m)\u001b[49m\n",
      "File \u001b[0;32m~/research/imodels/notebooks/../imodels/importance/rf_plus.py:474\u001b[0m, in \u001b[0;36m_RandomForestPlus.get_mdi_plus_scores\u001b[0;34m(self, X, y, scoring_fns, local_scoring_fns, sample_split, mode, version, lfi, lfi_abs, train_or_test)\u001b[0m\n\u001b[1;32m    472\u001b[0m     sample_split \u001b[38;5;241m=\u001b[39m \u001b[38;5;28mself\u001b[39m\u001b[38;5;241m.\u001b[39msample_split\n\u001b[1;32m    473\u001b[0m \u001b[38;5;28;01mif\u001b[39;00m X\u001b[38;5;241m.\u001b[39mshape[\u001b[38;5;241m0\u001b[39m] \u001b[38;5;241m!=\u001b[39m \u001b[38;5;28mself\u001b[39m\u001b[38;5;241m.\u001b[39m_n_samples_train \u001b[38;5;129;01mand\u001b[39;00m sample_split \u001b[38;5;129;01mis\u001b[39;00m \u001b[38;5;129;01mnot\u001b[39;00m \u001b[38;5;28;01mNone\u001b[39;00m:\n\u001b[0;32m--> 474\u001b[0m     \u001b[38;5;28;01mraise\u001b[39;00m \u001b[38;5;167;01mValueError\u001b[39;00m(\u001b[38;5;124m\"\u001b[39m\u001b[38;5;124mSet sample_split=None to fit MDI+ on non-training X and y. \u001b[39m\u001b[38;5;124m\"\u001b[39m\n\u001b[1;32m    475\u001b[0m                      \u001b[38;5;124m\"\u001b[39m\u001b[38;5;124mTo use other sample_split schemes, input the training X and y data.\u001b[39m\u001b[38;5;124m\"\u001b[39m)\n\u001b[1;32m    476\u001b[0m \u001b[38;5;28;01mif\u001b[39;00m scoring_fns \u001b[38;5;241m==\u001b[39m \u001b[38;5;124m\"\u001b[39m\u001b[38;5;124mauto\u001b[39m\u001b[38;5;124m\"\u001b[39m:\n\u001b[1;32m    477\u001b[0m     scoring_fns \u001b[38;5;241m=\u001b[39m _fast_r2_score \u001b[38;5;28;01mif\u001b[39;00m \u001b[38;5;28mself\u001b[39m\u001b[38;5;241m.\u001b[39m_task \u001b[38;5;241m==\u001b[39m \u001b[38;5;124m\"\u001b[39m\u001b[38;5;124mregression\u001b[39m\u001b[38;5;124m\"\u001b[39m \\\n\u001b[1;32m    478\u001b[0m         \u001b[38;5;28;01melse\u001b[39;00m _neg_log_loss\n",
      "\u001b[0;31mValueError\u001b[0m: Set sample_split=None to fit MDI+ on non-training X and y. To use other sample_split schemes, input the training X and y data."
     ]
    }
   ],
   "source": [
    "mdi_plus_scores_test = rf_plus_model.get_mdi_plus_scores(X_test, y_test, lfi=True,\n",
    "                                                         lfi_abs = \"none\", train_or_test = \"test\")"
   ]
  },
  {
   "cell_type": "code",
   "execution_count": 25,
   "metadata": {},
   "outputs": [],
   "source": [
    "rf_plus_model = RandomForestPlusRegressor(rf_model=rf_regressor, include_raw=False, cv_ridge = 0, calc_loo_coef=False, sample_split = \"inbag\")\n"
   ]
  },
  {
   "cell_type": "code",
   "execution_count": 27,
   "metadata": {},
   "outputs": [],
   "source": [
    "rf_plus_model.fit(X_train, y_train)\n",
    "mdi_plus_scores = rf_plus_model.get_mdi_plus_scores(X_train, y_train, lfi=True, lfi_abs = \"none\", train_or_test = \"test\")\n"
   ]
  },
  {
   "cell_type": "code",
   "execution_count": 29,
   "metadata": {},
   "outputs": [
    {
     "data": {
      "text/html": [
       "<div>\n",
       "<style scoped>\n",
       "    .dataframe tbody tr th:only-of-type {\n",
       "        vertical-align: middle;\n",
       "    }\n",
       "\n",
       "    .dataframe tbody tr th {\n",
       "        vertical-align: top;\n",
       "    }\n",
       "\n",
       "    .dataframe thead th {\n",
       "        text-align: right;\n",
       "    }\n",
       "</style>\n",
       "<table border=\"1\" class=\"dataframe\">\n",
       "  <thead>\n",
       "    <tr style=\"text-align: right;\">\n",
       "      <th></th>\n",
       "      <th>0</th>\n",
       "      <th>1</th>\n",
       "      <th>2</th>\n",
       "      <th>3</th>\n",
       "      <th>4</th>\n",
       "      <th>5</th>\n",
       "      <th>6</th>\n",
       "      <th>7</th>\n",
       "      <th>8</th>\n",
       "      <th>9</th>\n",
       "    </tr>\n",
       "  </thead>\n",
       "  <tbody>\n",
       "    <tr>\n",
       "      <th>0</th>\n",
       "      <td>-0.139284</td>\n",
       "      <td>0.191465</td>\n",
       "      <td>0.024844</td>\n",
       "      <td>-0.038117</td>\n",
       "      <td>-0.008584</td>\n",
       "      <td>-0.043134</td>\n",
       "      <td>-0.032553</td>\n",
       "      <td>-0.007732</td>\n",
       "      <td>-0.013938</td>\n",
       "      <td>-0.005468</td>\n",
       "    </tr>\n",
       "    <tr>\n",
       "      <th>1</th>\n",
       "      <td>0.099140</td>\n",
       "      <td>-0.080170</td>\n",
       "      <td>-0.044105</td>\n",
       "      <td>-0.006234</td>\n",
       "      <td>0.000942</td>\n",
       "      <td>0.005567</td>\n",
       "      <td>-0.044161</td>\n",
       "      <td>-0.022435</td>\n",
       "      <td>-0.003193</td>\n",
       "      <td>-0.004151</td>\n",
       "    </tr>\n",
       "    <tr>\n",
       "      <th>2</th>\n",
       "      <td>-0.009905</td>\n",
       "      <td>0.199633</td>\n",
       "      <td>0.009259</td>\n",
       "      <td>-0.019737</td>\n",
       "      <td>-0.037750</td>\n",
       "      <td>-0.036211</td>\n",
       "      <td>-0.033331</td>\n",
       "      <td>0.016655</td>\n",
       "      <td>-0.004734</td>\n",
       "      <td>-0.015823</td>\n",
       "    </tr>\n",
       "    <tr>\n",
       "      <th>3</th>\n",
       "      <td>-0.137153</td>\n",
       "      <td>-0.083783</td>\n",
       "      <td>0.015747</td>\n",
       "      <td>0.001931</td>\n",
       "      <td>-0.012761</td>\n",
       "      <td>-0.016168</td>\n",
       "      <td>0.027330</td>\n",
       "      <td>0.007407</td>\n",
       "      <td>-0.008788</td>\n",
       "      <td>-0.018566</td>\n",
       "    </tr>\n",
       "    <tr>\n",
       "      <th>4</th>\n",
       "      <td>-0.001098</td>\n",
       "      <td>-0.194839</td>\n",
       "      <td>-0.024378</td>\n",
       "      <td>-0.001441</td>\n",
       "      <td>-0.002646</td>\n",
       "      <td>-0.008623</td>\n",
       "      <td>-0.004728</td>\n",
       "      <td>-0.011484</td>\n",
       "      <td>0.025961</td>\n",
       "      <td>-0.013047</td>\n",
       "    </tr>\n",
       "    <tr>\n",
       "      <th>...</th>\n",
       "      <td>...</td>\n",
       "      <td>...</td>\n",
       "      <td>...</td>\n",
       "      <td>...</td>\n",
       "      <td>...</td>\n",
       "      <td>...</td>\n",
       "      <td>...</td>\n",
       "      <td>...</td>\n",
       "      <td>...</td>\n",
       "      <td>...</td>\n",
       "    </tr>\n",
       "    <tr>\n",
       "      <th>129</th>\n",
       "      <td>-0.001734</td>\n",
       "      <td>-0.184378</td>\n",
       "      <td>0.024892</td>\n",
       "      <td>0.008749</td>\n",
       "      <td>-0.013073</td>\n",
       "      <td>-0.000735</td>\n",
       "      <td>-0.030924</td>\n",
       "      <td>0.012709</td>\n",
       "      <td>-0.025072</td>\n",
       "      <td>0.002980</td>\n",
       "    </tr>\n",
       "    <tr>\n",
       "      <th>130</th>\n",
       "      <td>0.025761</td>\n",
       "      <td>-0.101633</td>\n",
       "      <td>0.052673</td>\n",
       "      <td>0.021734</td>\n",
       "      <td>-0.000260</td>\n",
       "      <td>0.011169</td>\n",
       "      <td>0.046666</td>\n",
       "      <td>-0.004532</td>\n",
       "      <td>0.012005</td>\n",
       "      <td>0.033238</td>\n",
       "    </tr>\n",
       "    <tr>\n",
       "      <th>131</th>\n",
       "      <td>-0.011169</td>\n",
       "      <td>-0.220058</td>\n",
       "      <td>0.033874</td>\n",
       "      <td>-0.000538</td>\n",
       "      <td>-0.012269</td>\n",
       "      <td>-0.013107</td>\n",
       "      <td>-0.005493</td>\n",
       "      <td>-0.013255</td>\n",
       "      <td>-0.029515</td>\n",
       "      <td>-0.006010</td>\n",
       "    </tr>\n",
       "    <tr>\n",
       "      <th>132</th>\n",
       "      <td>-0.008343</td>\n",
       "      <td>0.013380</td>\n",
       "      <td>0.038296</td>\n",
       "      <td>0.002364</td>\n",
       "      <td>-0.019995</td>\n",
       "      <td>0.039084</td>\n",
       "      <td>-0.006361</td>\n",
       "      <td>-0.002748</td>\n",
       "      <td>0.028122</td>\n",
       "      <td>0.034199</td>\n",
       "    </tr>\n",
       "    <tr>\n",
       "      <th>133</th>\n",
       "      <td>-0.050346</td>\n",
       "      <td>-0.057415</td>\n",
       "      <td>-0.020899</td>\n",
       "      <td>0.013921</td>\n",
       "      <td>-0.003727</td>\n",
       "      <td>0.072191</td>\n",
       "      <td>-0.015631</td>\n",
       "      <td>0.025435</td>\n",
       "      <td>0.020264</td>\n",
       "      <td>0.001406</td>\n",
       "    </tr>\n",
       "  </tbody>\n",
       "</table>\n",
       "<p>134 rows × 10 columns</p>\n",
       "</div>"
      ],
      "text/plain": [
       "            0         1         2         3         4         5         6  \\\n",
       "0   -0.139284  0.191465  0.024844 -0.038117 -0.008584 -0.043134 -0.032553   \n",
       "1    0.099140 -0.080170 -0.044105 -0.006234  0.000942  0.005567 -0.044161   \n",
       "2   -0.009905  0.199633  0.009259 -0.019737 -0.037750 -0.036211 -0.033331   \n",
       "3   -0.137153 -0.083783  0.015747  0.001931 -0.012761 -0.016168  0.027330   \n",
       "4   -0.001098 -0.194839 -0.024378 -0.001441 -0.002646 -0.008623 -0.004728   \n",
       "..        ...       ...       ...       ...       ...       ...       ...   \n",
       "129 -0.001734 -0.184378  0.024892  0.008749 -0.013073 -0.000735 -0.030924   \n",
       "130  0.025761 -0.101633  0.052673  0.021734 -0.000260  0.011169  0.046666   \n",
       "131 -0.011169 -0.220058  0.033874 -0.000538 -0.012269 -0.013107 -0.005493   \n",
       "132 -0.008343  0.013380  0.038296  0.002364 -0.019995  0.039084 -0.006361   \n",
       "133 -0.050346 -0.057415 -0.020899  0.013921 -0.003727  0.072191 -0.015631   \n",
       "\n",
       "            7         8         9  \n",
       "0   -0.007732 -0.013938 -0.005468  \n",
       "1   -0.022435 -0.003193 -0.004151  \n",
       "2    0.016655 -0.004734 -0.015823  \n",
       "3    0.007407 -0.008788 -0.018566  \n",
       "4   -0.011484  0.025961 -0.013047  \n",
       "..        ...       ...       ...  \n",
       "129  0.012709 -0.025072  0.002980  \n",
       "130 -0.004532  0.012005  0.033238  \n",
       "131 -0.013255 -0.029515 -0.006010  \n",
       "132 -0.002748  0.028122  0.034199  \n",
       "133  0.025435  0.020264  0.001406  \n",
       "\n",
       "[134 rows x 10 columns]"
      ]
     },
     "execution_count": 29,
     "metadata": {},
     "output_type": "execute_result"
    }
   ],
   "source": [
    "mdi_plus_scores[\"lfi\"]"
   ]
  },
  {
   "cell_type": "code",
   "execution_count": 8,
   "metadata": {},
   "outputs": [],
   "source": [
    "rf_plus_model = RandomForestPlusRegressor(rf_model=rf_regressor, cv_ridge=5,\n",
    "                                          calc_loo_coef=False)\n",
    "rf_plus_model.fit(X_train, y_train)\n",
    "# mdi_plus_scores = rf_plus_model.get_mdi_plus_scores(X_train, y_train, lfi=True,\n",
    "#                                                     lfi_abs = \"none\")\n",
    "# mdi_plus_scores_test = rf_plus_model.get_mdi_plus_scores(X_test, y_test, lfi=True,\n",
    "#                                                          lfi_abs = \"none\", train_or_test = \"test\")"
   ]
  },
  {
   "cell_type": "code",
   "execution_count": 12,
   "metadata": {},
   "outputs": [],
   "source": [
    "mdi_plus_scores = rf_plus_model.get_mdi_plus_scores(X_test, y_test, lfi=True,\n",
    "                                                    lfi_abs = \"none\",\n",
    "                                                    train_or_test = \"test\",\n",
    "                                                    sample_split = None)"
   ]
  },
  {
   "cell_type": "code",
   "execution_count": 11,
   "metadata": {},
   "outputs": [],
   "source": [
    "rf_plus_model = RandomForestPlusRegressor(rf_model=rf_regressor, cv_ridge = 0)\n",
    "rf_plus_model.fit(X_train, y_train)"
   ]
  },
  {
   "cell_type": "code",
   "execution_count": 22,
   "metadata": {},
   "outputs": [
    {
     "data": {
      "text/html": [
       "<style>#sk-container-id-1 {color: black;background-color: white;}#sk-container-id-1 pre{padding: 0;}#sk-container-id-1 div.sk-toggleable {background-color: white;}#sk-container-id-1 label.sk-toggleable__label {cursor: pointer;display: block;width: 100%;margin-bottom: 0;padding: 0.3em;box-sizing: border-box;text-align: center;}#sk-container-id-1 label.sk-toggleable__label-arrow:before {content: \"▸\";float: left;margin-right: 0.25em;color: #696969;}#sk-container-id-1 label.sk-toggleable__label-arrow:hover:before {color: black;}#sk-container-id-1 div.sk-estimator:hover label.sk-toggleable__label-arrow:before {color: black;}#sk-container-id-1 div.sk-toggleable__content {max-height: 0;max-width: 0;overflow: hidden;text-align: left;background-color: #f0f8ff;}#sk-container-id-1 div.sk-toggleable__content pre {margin: 0.2em;color: black;border-radius: 0.25em;background-color: #f0f8ff;}#sk-container-id-1 input.sk-toggleable__control:checked~div.sk-toggleable__content {max-height: 200px;max-width: 100%;overflow: auto;}#sk-container-id-1 input.sk-toggleable__control:checked~label.sk-toggleable__label-arrow:before {content: \"▾\";}#sk-container-id-1 div.sk-estimator input.sk-toggleable__control:checked~label.sk-toggleable__label {background-color: #d4ebff;}#sk-container-id-1 div.sk-label input.sk-toggleable__control:checked~label.sk-toggleable__label {background-color: #d4ebff;}#sk-container-id-1 input.sk-hidden--visually {border: 0;clip: rect(1px 1px 1px 1px);clip: rect(1px, 1px, 1px, 1px);height: 1px;margin: -1px;overflow: hidden;padding: 0;position: absolute;width: 1px;}#sk-container-id-1 div.sk-estimator {font-family: monospace;background-color: #f0f8ff;border: 1px dotted black;border-radius: 0.25em;box-sizing: border-box;margin-bottom: 0.5em;}#sk-container-id-1 div.sk-estimator:hover {background-color: #d4ebff;}#sk-container-id-1 div.sk-parallel-item::after {content: \"\";width: 100%;border-bottom: 1px solid gray;flex-grow: 1;}#sk-container-id-1 div.sk-label:hover label.sk-toggleable__label {background-color: #d4ebff;}#sk-container-id-1 div.sk-serial::before {content: \"\";position: absolute;border-left: 1px solid gray;box-sizing: border-box;top: 0;bottom: 0;left: 50%;z-index: 0;}#sk-container-id-1 div.sk-serial {display: flex;flex-direction: column;align-items: center;background-color: white;padding-right: 0.2em;padding-left: 0.2em;position: relative;}#sk-container-id-1 div.sk-item {position: relative;z-index: 1;}#sk-container-id-1 div.sk-parallel {display: flex;align-items: stretch;justify-content: center;background-color: white;position: relative;}#sk-container-id-1 div.sk-item::before, #sk-container-id-1 div.sk-parallel-item::before {content: \"\";position: absolute;border-left: 1px solid gray;box-sizing: border-box;top: 0;bottom: 0;left: 50%;z-index: -1;}#sk-container-id-1 div.sk-parallel-item {display: flex;flex-direction: column;z-index: 1;position: relative;background-color: white;}#sk-container-id-1 div.sk-parallel-item:first-child::after {align-self: flex-end;width: 50%;}#sk-container-id-1 div.sk-parallel-item:last-child::after {align-self: flex-start;width: 50%;}#sk-container-id-1 div.sk-parallel-item:only-child::after {width: 0;}#sk-container-id-1 div.sk-dashed-wrapped {border: 1px dashed gray;margin: 0 0.4em 0.5em 0.4em;box-sizing: border-box;padding-bottom: 0.4em;background-color: white;}#sk-container-id-1 div.sk-label label {font-family: monospace;font-weight: bold;display: inline-block;line-height: 1.2em;}#sk-container-id-1 div.sk-label-container {text-align: center;}#sk-container-id-1 div.sk-container {/* jupyter's `normalize.less` sets `[hidden] { display: none; }` but bootstrap.min.css set `[hidden] { display: none !important; }` so we also need the `!important` here to be able to override the default hidden behavior on the sphinx rendered scikit-learn.org. See: https://github.com/scikit-learn/scikit-learn/issues/21755 */display: inline-block !important;position: relative;}#sk-container-id-1 div.sk-text-repr-fallback {display: none;}</style><div id=\"sk-container-id-1\" class=\"sk-top-container\"><div class=\"sk-text-repr-fallback\"><pre>RandomForestRegressor(max_features=0.33, min_samples_leaf=5, random_state=331)</pre><b>In a Jupyter environment, please rerun this cell to show the HTML representation or trust the notebook. <br />On GitHub, the HTML representation is unable to render, please try loading this page with nbviewer.org.</b></div><div class=\"sk-container\" hidden><div class=\"sk-item\"><div class=\"sk-estimator sk-toggleable\"><input class=\"sk-toggleable__control sk-hidden--visually\" id=\"sk-estimator-id-1\" type=\"checkbox\" checked><label for=\"sk-estimator-id-1\" class=\"sk-toggleable__label sk-toggleable__label-arrow\">RandomForestRegressor</label><div class=\"sk-toggleable__content\"><pre>RandomForestRegressor(max_features=0.33, min_samples_leaf=5, random_state=331)</pre></div></div></div></div></div>"
      ],
      "text/plain": [
       "RandomForestRegressor(max_features=0.33, min_samples_leaf=5, random_state=331)"
      ]
     },
     "execution_count": 22,
     "metadata": {},
     "output_type": "execute_result"
    }
   ],
   "source": [
    "# get the subset of the training data to use\n",
    "rf_regressor.fit(X_train, y_train)"
   ]
  },
  {
   "cell_type": "code",
   "execution_count": 24,
   "metadata": {},
   "outputs": [
    {
     "name": "stderr",
     "output_type": "stream",
     "text": [
      "The `ipykernel.comm.Comm` class has been deprecated. Please use the `comm` module instead.For creating comms, use the function `from comm import create_comm`.\n",
      "The `ipykernel.comm.Comm` class has been deprecated. Please use the `comm` module instead.For creating comms, use the function `from comm import create_comm`.\n",
      "The `ipykernel.comm.Comm` class has been deprecated. Please use the `comm` module instead.For creating comms, use the function `from comm import create_comm`.\n",
      "The `ipykernel.comm.Comm` class has been deprecated. Please use the `comm` module instead.For creating comms, use the function `from comm import create_comm`.\n",
      "The `ipykernel.comm.Comm` class has been deprecated. Please use the `comm` module instead.For creating comms, use the function `from comm import create_comm`.\n",
      "The `ipykernel.comm.Comm` class has been deprecated. Please use the `comm` module instead.For creating comms, use the function `from comm import create_comm`.\n",
      "The `ipykernel.comm.Comm` class has been deprecated. Please use the `comm` module instead.For creating comms, use the function `from comm import create_comm`.\n",
      "The `ipykernel.comm.Comm` class has been deprecated. Please use the `comm` module instead.For creating comms, use the function `from comm import create_comm`.\n",
      "The `ipykernel.comm.Comm` class has been deprecated. Please use the `comm` module instead.For creating comms, use the function `from comm import create_comm`.\n",
      "The `ipykernel.comm.Comm` class has been deprecated. Please use the `comm` module instead.For creating comms, use the function `from comm import create_comm`.\n",
      "The `ipykernel.comm.Comm` class has been deprecated. Please use the `comm` module instead.For creating comms, use the function `from comm import create_comm`.\n"
     ]
    },
    {
     "data": {
      "application/vnd.jupyter.widget-view+json": {
       "model_id": "2668d2101c6d4666bb6dff5b3850f4d1",
       "version_major": 2,
       "version_minor": 0
      },
      "text/plain": [
       "  0%|          | 0/66 [00:00<?, ?it/s]"
      ]
     },
     "metadata": {},
     "output_type": "display_data"
    }
   ],
   "source": [
    "n_train = X_train.shape[0]\n",
    "trainX_subset = shap.utils.sample(X_train, int(.2 * n_train))\n",
    "        \n",
    "# fit the KernelSHAP model\n",
    "shap_model = shap.KernelExplainer(rf_regressor.predict, trainX_subset)\n",
    "        \n",
    "# get the SHAP values\n",
    "shap_values = shap_model.shap_values(X_test)"
   ]
  },
  {
   "cell_type": "code",
   "execution_count": 6,
   "metadata": {},
   "outputs": [
    {
     "name": "stderr",
     "output_type": "stream",
     "text": [
      "The `ipykernel.comm.Comm` class has been deprecated. Please use the `comm` module instead.For creating comms, use the function `from comm import create_comm`.\n",
      "The `ipykernel.comm.Comm` class has been deprecated. Please use the `comm` module instead.For creating comms, use the function `from comm import create_comm`.\n",
      "The `ipykernel.comm.Comm` class has been deprecated. Please use the `comm` module instead.For creating comms, use the function `from comm import create_comm`.\n",
      "The `ipykernel.comm.Comm` class has been deprecated. Please use the `comm` module instead.For creating comms, use the function `from comm import create_comm`.\n",
      "The `ipykernel.comm.Comm` class has been deprecated. Please use the `comm` module instead.For creating comms, use the function `from comm import create_comm`.\n",
      "The `ipykernel.comm.Comm` class has been deprecated. Please use the `comm` module instead.For creating comms, use the function `from comm import create_comm`.\n",
      "The `ipykernel.comm.Comm` class has been deprecated. Please use the `comm` module instead.For creating comms, use the function `from comm import create_comm`.\n",
      "The `ipykernel.comm.Comm` class has been deprecated. Please use the `comm` module instead.For creating comms, use the function `from comm import create_comm`.\n",
      "The `ipykernel.comm.Comm` class has been deprecated. Please use the `comm` module instead.For creating comms, use the function `from comm import create_comm`.\n",
      "The `ipykernel.comm.Comm` class has been deprecated. Please use the `comm` module instead.For creating comms, use the function `from comm import create_comm`.\n",
      "The `ipykernel.comm.Comm` class has been deprecated. Please use the `comm` module instead.For creating comms, use the function `from comm import create_comm`.\n"
     ]
    },
    {
     "data": {
      "application/vnd.jupyter.widget-view+json": {
       "model_id": "97593b0d59f740b5a78d8cbe51312979",
       "version_major": 2,
       "version_minor": 0
      },
      "text/plain": [
       "  0%|          | 0/66 [00:00<?, ?it/s]"
      ]
     },
     "metadata": {},
     "output_type": "display_data"
    },
    {
     "data": {
      "text/plain": [
       "array([[-2.54968558e-01,  1.97038835e-01,  4.57521870e-03,\n",
       "         1.22903766e-02, -4.25344542e-02, -1.93971379e-02,\n",
       "        -9.56099519e-03,  1.63637477e-02, -1.32114128e-02,\n",
       "         3.53730153e-03],\n",
       "       [-9.53848852e-02,  1.11830883e-01, -1.62499600e-02,\n",
       "         3.54063277e-04, -5.28111772e-03,  1.92823256e-03,\n",
       "        -9.84195885e-04, -1.16731409e-03,  1.31981345e-04,\n",
       "         3.91244245e-03],\n",
       "       [ 1.96425775e-04, -2.07772313e-01,  9.17093476e-03,\n",
       "         3.60409881e-02,  4.54300472e-02, -5.48653098e-02,\n",
       "         7.54877771e-04, -1.18201815e-03,  1.38661172e-02,\n",
       "        -3.46220254e-03],\n",
       "       [ 2.20976485e-01, -6.69584551e-03, -1.12887295e-02,\n",
       "        -9.58294730e-03, -3.25337717e-03, -5.94184344e-04,\n",
       "        -1.81419078e-06, -5.49174537e-03, -2.65132402e-02,\n",
       "         7.11969501e-03],\n",
       "       [-1.05121087e-01,  1.01437938e-01,  6.34066482e-03,\n",
       "        -9.33389499e-03,  2.58987672e-03,  3.84727520e-03,\n",
       "         5.29472745e-03, -1.49795353e-04,  2.29729109e-02,\n",
       "         5.82912904e-03],\n",
       "       [ 1.18554406e-01,  8.79890942e-04,  1.11523597e-02,\n",
       "        -1.10173170e-02,  1.48996531e-04, -7.63725230e-03,\n",
       "         5.25889235e-03, -1.68071123e-04, -2.63923175e-02,\n",
       "         8.03678536e-03],\n",
       "       [ 9.42877711e-02,  2.45468354e-01,  5.18702130e-03,\n",
       "         2.53971030e-02,  1.65964971e-02,  1.16772849e-03,\n",
       "         5.87371852e-03,  3.29255810e-03, -2.40824442e-02,\n",
       "        -5.40228418e-03],\n",
       "       [ 1.34030628e-01,  3.99404852e-01,  1.16763703e-02,\n",
       "        -2.11453484e-04, -2.62296239e-03, -3.24465952e-03,\n",
       "         5.71373640e-03, -2.67753611e-02,  3.03601424e-04,\n",
       "        -3.26406371e-03],\n",
       "       [ 1.91401201e-01,  2.31196141e-01,  5.99246336e-03,\n",
       "        -3.74696415e-03, -7.75482370e-04,  2.76909828e-02,\n",
       "        -6.38552431e-03,  6.97069667e-03,  1.15119289e-02,\n",
       "         7.75929117e-03],\n",
       "       [ 2.31087091e-01, -2.60696124e-01,  1.01735707e-02,\n",
       "         2.84617981e-02, -2.22817014e-02, -6.86057468e-02,\n",
       "         8.57204135e-04, -5.29503761e-03, -1.32299288e-02,\n",
       "         3.63119478e-03],\n",
       "       [ 2.14805792e-01, -2.03452508e-01, -2.43861055e-02,\n",
       "        -1.19795567e-03, -5.36361137e-03,  2.84119209e-02,\n",
       "        -1.99712188e-06, -9.34592096e-03, -2.33234399e-02,\n",
       "        -2.51167610e-03],\n",
       "       [ 7.46161256e-02, -2.20325374e-01, -4.06766290e-02,\n",
       "         1.14808374e-02,  9.09135656e-04, -1.91647943e-02,\n",
       "         1.82701922e-03,  3.40380525e-04, -2.24519664e-02,\n",
       "        -1.11270342e-02],\n",
       "       [ 1.80213480e-01,  2.11157343e-01,  1.15216313e-02,\n",
       "        -8.20249686e-03, -1.81508557e-03, -5.62255040e-04,\n",
       "        -3.52206726e-03, -4.74398718e-03,  1.25268739e-02,\n",
       "         6.50297150e-03],\n",
       "       [ 1.19187548e-01, -1.76082453e-02, -2.01036156e-02,\n",
       "         1.00336358e-02,  1.28474469e-02,  1.13146451e-03,\n",
       "         6.37398168e-03,  4.62544702e-04,  1.76785141e-02,\n",
       "        -5.31163988e-03],\n",
       "       [ 5.83739979e-02, -5.01852196e-01, -2.72848410e-03,\n",
       "         8.58402743e-03, -1.28100270e-03, -1.21455306e-03,\n",
       "         1.70773458e-03, -1.85044263e-02, -2.64910897e-02,\n",
       "        -2.36985223e-02],\n",
       "       [ 1.25119676e-01, -2.27973695e-01,  2.17412052e-02,\n",
       "        -8.60012574e-03,  1.95296916e-02, -1.45681400e-03,\n",
       "        -3.16379456e-03, -1.37804980e-02,  6.07494847e-05,\n",
       "         3.02669825e-03],\n",
       "       [-3.38447306e-02, -1.38595043e-01,  1.25738731e-02,\n",
       "        -1.15811057e-02,  6.18142372e-02, -4.78217544e-02,\n",
       "         6.34314412e-05,  3.69414896e-03, -1.47372675e-02,\n",
       "        -1.62263817e-02],\n",
       "       [-6.46818536e-02,  3.38624591e-01, -2.33462440e-04,\n",
       "         2.25840495e-02,  5.79243880e-02,  4.05763329e-02,\n",
       "        -9.87551444e-03,  1.64286657e-02, -5.88465574e-03,\n",
       "         5.22952499e-04],\n",
       "       [-2.36195274e-01, -4.05057925e-01,  8.77940996e-03,\n",
       "         4.56398933e-04, -1.38362116e-04,  1.03020256e-02,\n",
       "         3.20135442e-03, -4.33505501e-03,  1.30983506e-02,\n",
       "         7.03055877e-03],\n",
       "       [ 1.18299921e-01,  6.59369215e-02,  1.13494300e-02,\n",
       "        -1.45398403e-02, -7.08385290e-04, -7.00449363e-03,\n",
       "         1.24766954e-04,  1.89845941e-04, -2.10591243e-02,\n",
       "        -1.03382514e-02],\n",
       "       [-4.25793206e-02, -2.20007340e-01, -8.17688639e-03,\n",
       "        -7.75769138e-03,  3.92885064e-02,  3.02369727e-03,\n",
       "         5.57956793e-03,  3.63834665e-02,  1.94543356e-02,\n",
       "         2.35693921e-03],\n",
       "       [ 9.55351005e-02, -1.87994668e-02, -8.09648934e-03,\n",
       "         2.60644717e-02,  2.20984055e-02, -6.17993572e-03,\n",
       "         3.68428241e-03, -3.97068911e-03, -9.26807095e-03,\n",
       "         3.04322741e-03],\n",
       "       [-1.34655380e-01, -1.74515375e-01, -2.25002713e-03,\n",
       "        -5.33491413e-03, -3.45102231e-02,  5.23009562e-03,\n",
       "         1.40060638e-02, -8.69719766e-04, -1.69033229e-02,\n",
       "        -2.17844004e-02],\n",
       "       [ 1.12432603e-01,  8.69024749e-03,  8.28413124e-03,\n",
       "        -2.06216497e-02, -2.10733736e-03, -3.60334233e-02,\n",
       "        -5.96496877e-03, -9.36925039e-03,  2.33333305e-02,\n",
       "         6.68570410e-03],\n",
       "       [ 9.90424465e-02,  2.99071127e-01, -1.97637289e-03,\n",
       "        -9.46436379e-05, -1.44301390e-03, -5.25627177e-03,\n",
       "        -1.41306980e-03, -2.59001578e-03, -1.03358579e-02,\n",
       "        -9.97793487e-03],\n",
       "       [-4.66831065e-02,  2.86867244e-02, -1.77216639e-02,\n",
       "        -1.11622117e-04, -2.24910566e-02, -2.73402656e-04,\n",
       "         5.84668504e-03, -1.83535353e-02,  2.51021155e-02,\n",
       "        -3.63327002e-03],\n",
       "       [-1.95741350e-01,  7.30361923e-03,  5.02272700e-03,\n",
       "         3.41134542e-02,  3.27798991e-02,  1.20953137e-03,\n",
       "         3.93989451e-03, -4.21539765e-03,  2.80645665e-02,\n",
       "         1.08484691e-02],\n",
       "       [ 1.26662108e-01,  1.48917554e-01, -4.29099127e-02,\n",
       "        -9.31795403e-03,  1.22252645e-02,  2.09673753e-02,\n",
       "         1.29854008e-02, -3.43825339e-03,  6.57980134e-03,\n",
       "         2.55319712e-03],\n",
       "       [-1.72399562e-01, -4.45012401e-01, -1.10246560e-03,\n",
       "         2.55148417e-02,  4.87907120e-02, -8.99949507e-04,\n",
       "         8.78219545e-04, -8.20628071e-03,  1.69000162e-02,\n",
       "        -4.44359822e-03],\n",
       "       [-8.66783969e-02, -2.81986558e-01, -4.61740156e-03,\n",
       "        -1.44672863e-02,  5.26536475e-02,  7.61786994e-03,\n",
       "         7.73311415e-03,  3.18189068e-03, -4.37829667e-03,\n",
       "        -1.39466341e-02],\n",
       "       [-1.36821227e-01, -2.13410570e-01, -2.15074396e-02,\n",
       "         2.44166472e-02,  1.40827938e-02, -1.91221309e-02,\n",
       "         8.67066883e-03,  8.88446240e-03,  2.28537528e-02,\n",
       "        -4.02782421e-03],\n",
       "       [ 2.20229982e-01,  1.74174857e-02,  9.83952919e-03,\n",
       "        -1.15808980e-02,  1.60453462e-03, -4.46447851e-02,\n",
       "         5.01643217e-03, -2.47189131e-03,  1.50276447e-02,\n",
       "        -8.12134621e-03],\n",
       "       [-1.26756236e-02,  2.10336761e-01,  4.44159042e-03,\n",
       "         1.94744190e-03, -1.91664578e-02,  3.93390170e-04,\n",
       "        -5.30075348e-03, -6.51563991e-03, -9.72188603e-03,\n",
       "         3.41502851e-03],\n",
       "       [-9.08217109e-02, -3.60293139e-01, -3.69544120e-03,\n",
       "         1.55158770e-02,  1.22784660e-02, -4.91029146e-04,\n",
       "         1.56224114e-02,  7.55515987e-04,  2.16122538e-02,\n",
       "        -8.37793050e-03],\n",
       "       [ 7.40472044e-02, -3.03044797e-01,  1.73691523e-02,\n",
       "         1.62327126e-02,  4.37817905e-02,  2.42522293e-02,\n",
       "        -8.04696491e-04, -3.05205649e-04,  8.83191545e-03,\n",
       "        -1.14329724e-03],\n",
       "       [ 1.63920589e-01, -1.34403610e-01,  1.41727829e-02,\n",
       "        -5.40910354e-03,  2.31574764e-02,  1.20169767e-02,\n",
       "         1.53562582e-03,  4.23941692e-02, -8.13912123e-03,\n",
       "        -2.42426925e-03],\n",
       "       [-5.49456412e-02, -2.31383806e-01,  1.14582635e-02,\n",
       "        -1.28775109e-02,  6.28004708e-02, -1.98535589e-02,\n",
       "         3.81221897e-03, -1.96178485e-02,  3.44783727e-02,\n",
       "         5.41565488e-03],\n",
       "       [ 1.64272423e-01,  2.49348321e-02, -2.82637210e-03,\n",
       "        -8.98054284e-03, -3.56256632e-02,  1.31613075e-02,\n",
       "         1.30797643e-03, -1.41153190e-02, -2.26599504e-02,\n",
       "         4.04875377e-03],\n",
       "       [ 1.43774677e-01, -3.93487733e-01, -1.98511214e-03,\n",
       "        -1.08237813e-03, -4.67692113e-02,  4.65747534e-02,\n",
       "         1.05659062e-04, -4.45242973e-04, -2.09453543e-02,\n",
       "        -1.20500721e-03],\n",
       "       [-2.58494774e-01,  2.10562895e-01, -6.30665024e-04,\n",
       "        -1.53257912e-02,  1.68250223e-02,  7.01895410e-04,\n",
       "         3.44507914e-03,  1.39886226e-03,  1.41005205e-02,\n",
       "        -2.78563932e-02],\n",
       "       [ 2.15423686e-01, -3.42849480e-01, -2.32798940e-02,\n",
       "        -1.04324824e-02, -4.91498110e-03,  4.31408447e-03,\n",
       "         1.19120371e-02,  2.98687615e-02, -1.37820732e-02,\n",
       "        -1.48053459e-02],\n",
       "       [ 7.08431451e-02, -3.14672036e-01, -2.23547368e-03,\n",
       "         4.22573639e-03,  4.56265037e-03, -8.23066268e-02,\n",
       "         1.24354674e-02,  3.23440754e-04,  1.55299094e-02,\n",
       "         1.43172656e-02],\n",
       "       [ 7.50754500e-02, -2.15648537e-01, -2.24341334e-02,\n",
       "        -2.49249736e-03,  3.94644778e-03, -3.13092898e-03,\n",
       "        -3.10989666e-03, -1.74634435e-02, -2.06444749e-02,\n",
       "        -1.59095650e-02],\n",
       "       [ 1.11272793e-01, -2.03622354e-01, -1.31307303e-03,\n",
       "         7.43610683e-03, -3.54959842e-03, -4.04917732e-03,\n",
       "         6.22285161e-03, -1.31498777e-03, -2.06396309e-02,\n",
       "        -1.60581269e-02],\n",
       "       [ 3.04140581e-01, -8.17596320e-02, -1.18605166e-02,\n",
       "        -2.34751125e-03, -1.27868500e-02, -7.16519043e-02,\n",
       "         4.71647532e-03, -8.14234669e-04,  2.88970466e-02,\n",
       "         1.59691014e-03],\n",
       "       [-4.79536491e-02, -9.68190134e-02,  8.10783171e-03,\n",
       "         3.89743811e-02,  6.52890961e-02, -5.06921017e-03,\n",
       "         5.21104646e-03, -1.18849490e-02, -2.31222211e-02,\n",
       "        -7.75173438e-03],\n",
       "       [ 1.76684313e-01, -3.78997121e-01, -5.24886796e-03,\n",
       "        -9.88191657e-03, -1.28992829e-02,  4.57411002e-03,\n",
       "         8.62940553e-04, -2.04045501e-03,  8.44399770e-03,\n",
       "        -3.64757052e-03],\n",
       "       [-1.74812619e-01, -4.96661146e-01,  1.82720715e-04,\n",
       "         2.90309633e-02, -5.74611187e-04, -3.05303377e-02,\n",
       "        -6.73398875e-03, -6.32527205e-03,  2.07636395e-02,\n",
       "         3.20178714e-03],\n",
       "       [-2.45698107e-01,  3.08345131e-01,  2.99265383e-04,\n",
       "         1.85222005e-02,  2.98298112e-02, -5.62477850e-03,\n",
       "        -6.60867003e-04,  9.68131308e-05,  1.64553095e-02,\n",
       "        -1.53693893e-02],\n",
       "       [-7.34754559e-02, -1.46008489e-02, -1.78722447e-02,\n",
       "         2.75590425e-02, -3.07194403e-03, -9.15015805e-03,\n",
       "        -5.30373596e-04,  4.05923336e-03, -2.86178646e-03,\n",
       "        -6.21403752e-03],\n",
       "       [-1.19195144e-01, -2.05049276e-01, -4.19097341e-02,\n",
       "        -2.97327606e-04, -2.59764486e-02,  3.31424142e-02,\n",
       "         4.69881105e-04, -5.64261929e-03, -4.42133945e-03,\n",
       "        -7.69415145e-03],\n",
       "       [-5.44331710e-02,  2.34178771e-01, -3.89332001e-02,\n",
       "        -8.27506138e-04,  4.11540157e-02,  1.83465486e-03,\n",
       "         1.32637586e-03, -2.09328304e-02,  7.00846726e-03,\n",
       "         4.41129761e-03],\n",
       "       [ 1.68871811e-01, -1.31744651e-01, -6.49964614e-03,\n",
       "        -9.18035239e-03, -3.00387132e-03,  5.36296602e-03,\n",
       "         6.29016618e-03, -3.38944173e-03,  1.81537434e-02,\n",
       "        -2.15357790e-03],\n",
       "       [-7.52516155e-02,  2.00614966e-01,  3.18326596e-03,\n",
       "        -1.70126791e-02,  2.54943825e-02, -2.08959804e-02,\n",
       "        -1.01193317e-03, -8.87452811e-04, -6.64170644e-03,\n",
       "         5.36146077e-03],\n",
       "       [-5.95209105e-02, -2.42670015e-01,  1.50003691e-02,\n",
       "        -1.24824575e-02,  2.18614280e-03, -5.60608467e-03,\n",
       "        -7.74071217e-03,  2.66026399e-02, -1.76988397e-02,\n",
       "         6.54781411e-03],\n",
       "       [-1.93657536e-01, -3.16185967e-01, -3.61389993e-02,\n",
       "        -9.66938657e-04,  3.18133604e-03, -1.92306139e-02,\n",
       "         1.36801176e-02,  3.59898548e-04, -2.08967171e-02,\n",
       "        -6.04893904e-03],\n",
       "       [ 1.06872125e-01, -2.22778929e-01, -2.35050993e-04,\n",
       "        -1.19870976e-03, -3.35116220e-02, -2.93479132e-03,\n",
       "        -4.95616257e-03, -4.37115667e-03,  6.21756051e-03,\n",
       "        -1.08735496e-03],\n",
       "       [ 1.19300059e-01, -2.97019793e-01, -1.65361518e-03,\n",
       "        -9.97713402e-03, -4.30578000e-03,  1.86340165e-03,\n",
       "         7.55092791e-07,  1.61236303e-04, -8.58949034e-03,\n",
       "        -1.37583645e-02],\n",
       "       [ 3.74982995e-02,  2.10789387e-01,  4.25807987e-03,\n",
       "        -9.88725208e-03, -3.73674697e-02,  4.14717962e-03,\n",
       "         3.97803951e-03,  1.66015164e-02,  6.55239773e-03,\n",
       "         1.45838564e-03],\n",
       "       [ 2.49582203e-01, -2.15994199e-01, -1.33600497e-02,\n",
       "        -1.60180747e-03, -4.42341622e-04,  1.14561074e-02,\n",
       "         7.55500732e-03, -9.85095726e-04, -1.13815212e-02,\n",
       "        -7.81859217e-03],\n",
       "       [ 1.14781302e-01,  2.52146510e-01, -3.26791188e-03,\n",
       "        -8.79050125e-03,  1.72483739e-02, -3.60953148e-04,\n",
       "        -7.46839704e-03, -3.47451681e-03,  8.02736459e-03,\n",
       "        -1.68445086e-02],\n",
       "       [ 1.11027807e-01,  4.72369056e-01,  8.65460027e-03,\n",
       "         1.69512962e-02,  1.00239724e-02, -2.87368495e-04,\n",
       "        -1.37227549e-03,  5.81585279e-04,  1.03017066e-02,\n",
       "        -4.03465187e-03],\n",
       "       [-8.56502993e-02,  2.76202592e-01, -2.11925235e-02,\n",
       "        -1.35739643e-02,  3.15870926e-03,  1.98594711e-03,\n",
       "         5.40088219e-04, -5.49330903e-03, -5.55576499e-03,\n",
       "         5.81481429e-03],\n",
       "       [-1.47251843e-01, -2.85740405e-01, -3.91300492e-03,\n",
       "        -1.42510031e-02, -2.16053014e-02, -3.12152652e-02,\n",
       "         9.06108578e-03, -2.48165287e-03, -1.45603194e-02,\n",
       "        -6.29764154e-03],\n",
       "       [ 8.03165768e-02,  2.44289663e-02, -6.94543261e-04,\n",
       "         1.93254181e-02, -3.50170145e-03,  1.17478918e-02,\n",
       "         8.38140412e-05,  6.69286854e-04,  3.67822872e-02,\n",
       "         8.46910750e-03],\n",
       "       [ 1.59908133e-01,  1.00822018e-01,  2.11988235e-04,\n",
       "         4.17714620e-04,  2.72865865e-02,  5.90093602e-03,\n",
       "        -4.85958067e-05, -7.94443673e-03, -7.36994006e-03,\n",
       "        -1.61164882e-02]])"
      ]
     },
     "execution_count": 6,
     "metadata": {},
     "output_type": "execute_result"
    }
   ],
   "source": [
    "rf_plus_model.get_kernel_shap_scores(X_train, X_test)"
   ]
  },
  {
   "cell_type": "code",
   "execution_count": null,
   "metadata": {},
   "outputs": [
    {
     "name": "stderr",
     "output_type": "stream",
     "text": [
      "ExactExplainer explainer: 67it [06:21,  5.78s/it]                        \n"
     ]
    },
    {
     "data": {
      "text/plain": [
       "(66, 10)"
      ]
     },
     "execution_count": 8,
     "metadata": {},
     "output_type": "execute_result"
    }
   ],
   "source": [
    "shap_vals = rf_plus_model.get_shap_scores(X_test)\n",
    "shap_vals.shape"
   ]
  },
  {
   "cell_type": "code",
   "execution_count": 7,
   "metadata": {},
   "outputs": [
    {
     "name": "stdout",
     "output_type": "stream",
     "text": [
      "(66, 10)\n",
      "    Feature_0  Feature_1  Feature_2  Feature_3  Feature_4  Feature_5  \\\n",
      "0    0.231672   0.403740   0.013008   0.006994   0.039893   0.016016   \n",
      "1    0.068604   0.107175   0.026435   0.013184   0.015723   0.000762   \n",
      "2    0.094529   0.133974   0.012845   0.036937   0.049604   0.070655   \n",
      "3    0.211723   0.143213   0.020968   0.006956   0.025893   0.005555   \n",
      "4    0.075930   0.123153   0.015861   0.014568   0.016098   0.020074   \n",
      "..        ...        ...        ...        ...        ...        ...   \n",
      "61   0.211851   0.396640   0.004246   0.023261   0.050342   0.009674   \n",
      "62   0.075497   0.390427   0.013398   0.017451   0.004189   0.008822   \n",
      "63   0.230193   0.372953   0.002914   0.012426   0.038177   0.057627   \n",
      "64   0.099025   0.126327   0.025658   0.025958   0.024727   0.037335   \n",
      "65   0.220020   0.120919   0.009639   0.017509   0.049207   0.015797   \n",
      "\n",
      "    Feature_6  Feature_7  Feature_8  Feature_9  \n",
      "0    0.006775   0.034193   0.027412   0.006069  \n",
      "1    0.006499   0.010538   0.005091   0.012494  \n",
      "2    0.007114   0.007128   0.035938   0.018171  \n",
      "3    0.006952   0.016307   0.009974   0.008672  \n",
      "4    0.004855   0.011090   0.010884   0.008633  \n",
      "..        ...        ...        ...        ...  \n",
      "61   0.017166   0.009507   0.013708   0.014239  \n",
      "62   0.003176   0.019136   0.001746   0.003280  \n",
      "63   0.008162   0.005079   0.024628   0.005979  \n",
      "64   0.001907   0.003071   0.022971   0.010214  \n",
      "65   0.029673   0.024593   0.004789   0.021253  \n",
      "\n",
      "[66 rows x 10 columns]\n"
     ]
    }
   ],
   "source": [
    "lime_vals = rf_plus_model.get_lime_scores(X_train, X_test)\n",
    "print(lime_vals.shape)\n",
    "print(lime_vals)"
   ]
  },
  {
   "cell_type": "markdown",
   "metadata": {},
   "source": [
    "#### Leave-One-Out Coefficients: $LFI(i,k)=\\sum_{j=1}^p|\\hat{\\beta}^{(k)}_{-i,j}*\\Psi^{(k)}_{i,j}|$"
   ]
  },
  {
   "cell_type": "code",
   "execution_count": null,
   "metadata": {
    "collapsed": false
   },
   "outputs": [],
   "source": [
    "# get MDI+ scores (higher r^2 value = greater importance)\n",
    "mdi_plus_scores = rf_plus_model.get_mdi_plus_scores(X_train, y_train, lfi=True,\n",
    "                                                    lfi_abs = \"inside\")"
   ]
  },
  {
   "cell_type": "code",
   "execution_count": null,
   "metadata": {},
   "outputs": [
    {
     "name": "stdout",
     "output_type": "stream",
     "text": [
      "Local MDI+ w/ Leave-One-Out Coefficients and Inner Absolute Value\n",
      "------------------------------------\n",
      "            0         1         2         3         4         5         6  \\\n",
      "0    0.385685  0.627804  0.060028  0.020120  0.071880  0.189458  0.074230   \n",
      "1    0.466992  0.560566  0.011346  0.017843  0.064390  0.284060  0.050136   \n",
      "2    0.480946  0.621191  0.041604  0.009861  0.036911  0.263868  0.065983   \n",
      "3    0.764723  0.539639  0.050710  0.002520  0.041262  0.184088  0.032263   \n",
      "4    0.402080  0.682606  0.011859  0.004537  0.050737  0.248860  0.068785   \n",
      "..        ...       ...       ...       ...       ...       ...       ...   \n",
      "129  0.629989  0.488329  0.008280  0.014412  0.110607  0.190692  0.043245   \n",
      "130  0.393692  0.618965  0.015074  0.028726  0.058258  0.218798  0.115411   \n",
      "131  0.608362  0.501846  0.009644  0.001936  0.082649  0.182462  0.037651   \n",
      "132  0.460159  0.518042  0.011483  0.030405  0.055896  0.289896  0.069399   \n",
      "133  0.559800  0.589213  0.025547  0.001933  0.061624  0.317836  0.043758   \n",
      "\n",
      "            7         8         9  \n",
      "0    0.025887  0.038363  0.088573  \n",
      "1    0.038006  0.068417  0.079201  \n",
      "2    0.020492  0.053938  0.035866  \n",
      "3    0.012757  0.063226  0.019105  \n",
      "4    0.010433  0.039612  0.128300  \n",
      "..        ...       ...       ...  \n",
      "129  0.009343  0.109888  0.040334  \n",
      "130  0.021304  0.047584  0.044683  \n",
      "131  0.012779  0.085799  0.043764  \n",
      "132  0.050157  0.075134  0.041348  \n",
      "133  0.012980  0.052220  0.019974  \n",
      "\n",
      "[134 rows x 10 columns]\n",
      "------------------------------------\n",
      "Recall that the first two columns are the only ones with signal.\n",
      "Histogram of Rank of First Column (Red) and Second Column (Blue)\n"
     ]
    },
    {
     "data": {
      "image/png": "[encoded data removed]",
      "text/plain": [
       "<Figure size 640x480 with 1 Axes>"
      ]
     },
     "metadata": {},
     "output_type": "display_data"
    }
   ],
   "source": [
    "print(\"Local MDI+ w/ Leave-One-Out Coefficients and Inner Absolute Value\")\n",
    "print(\"------------------------------------\")\n",
    "lfi_loo_inner = mdi_plus_scores[\"lfi\"]\n",
    "print(lfi_loo_inner)\n",
    "print(\"------------------------------------\")\n",
    "print(\"Recall that the first two columns are the only ones with signal.\")\n",
    "print(\"Histogram of Rank of First Column (Red) and Second Column (Blue)\")\n",
    "lfi_rank = lfi_loo_inner.rank(axis=1, method=\"dense\", ascending=False)\n",
    "fig, ax = plt.subplots()\n",
    "ax.hist(lfi_rank.iloc[:, 0], alpha = 0.5, label='Feature #1', align = \"left\",\n",
    "        width = 0.4, color = \"red\")\n",
    "ax.hist(lfi_rank.iloc[:, 1], alpha = 0.5, label='Feature #2', align = \"right\",\n",
    "        width = 0.4, color = \"blue\")\n",
    "ax.set_xlabel('Ranked Importance')\n",
    "ax.set_ylabel('Frequency')\n",
    "ax.set_title('Paired Histogram')\n",
    "ax.legend()\n",
    "plt.show()"
   ]
  },
  {
   "cell_type": "markdown",
   "metadata": {},
   "source": [
    "#### Leave-One-Out Coefficients: $LFI(i,k)=|\\sum_{j=1}^p\\hat{\\beta}^{(k)}_{-i,j}*\\Psi^{(k)}_{i,j}|$"
   ]
  },
  {
   "cell_type": "code",
   "execution_count": null,
   "metadata": {},
   "outputs": [],
   "source": [
    "# get MDI+ scores (higher r^2 value = greater importance)\n",
    "mdi_plus_scores = rf_plus_model.get_mdi_plus_scores(X_train, y_train, lfi=True,\n",
    "                                                    lfi_abs = \"outside\")"
   ]
  },
  {
   "cell_type": "code",
   "execution_count": null,
   "metadata": {},
   "outputs": [
    {
     "name": "stdout",
     "output_type": "stream",
     "text": [
      "Local MDI+ w/ Leave-One-Out Coefficients and Outer Absolute Value\n",
      "------------------------------------\n",
      "            0         1         2         3         4         5         6  \\\n",
      "0    0.365882  0.467509  0.060028  0.019932  0.066963  0.160788  0.072834   \n",
      "1    0.417968  0.526865  0.010895  0.017436  0.059940  0.266433  0.047938   \n",
      "2    0.371145  0.573485  0.041056  0.009861  0.031074  0.249940  0.054656   \n",
      "3    0.665515  0.444734  0.049755  0.002332  0.037100  0.169925  0.021878   \n",
      "4    0.387816  0.647481  0.010901  0.004349  0.044848  0.243326  0.066636   \n",
      "..        ...       ...       ...       ...       ...       ...       ...   \n",
      "129  0.506242  0.450557  0.006300  0.014224  0.102166  0.148780  0.037630   \n",
      "130  0.281367  0.532424  0.014622  0.028539  0.053334  0.217060  0.114074   \n",
      "131  0.569960  0.467156  0.009193  0.001748  0.073323  0.168968  0.030483   \n",
      "132  0.447619  0.441143  0.011033  0.029998  0.035700  0.287065  0.066531   \n",
      "133  0.520198  0.566316  0.024062  0.001746  0.057398  0.294644  0.033612   \n",
      "\n",
      "            7         8         9  \n",
      "0    0.025744  0.038007  0.072539  \n",
      "1    0.037728  0.066672  0.078213  \n",
      "2    0.011010  0.043281  0.034653  \n",
      "3    0.012622  0.062665  0.016291  \n",
      "4    0.010153  0.039159  0.128049  \n",
      "..        ...       ...       ...  \n",
      "129  0.009065  0.107831  0.039420  \n",
      "130  0.021025  0.047326  0.043027  \n",
      "131  0.012501  0.070066  0.042731  \n",
      "132  0.050014  0.060053  0.039681  \n",
      "133  0.012845  0.051660  0.016867  \n",
      "\n",
      "[134 rows x 10 columns]\n",
      "------------------------------------\n",
      "Recall that the first two columns are the only ones with signal.\n",
      "Histogram of Rank of First Column (Red) and Second Column (Blue)\n"
     ]
    },
    {
     "data": {
      "image/png": "[encoded data removed]",
      "text/plain": [
       "<Figure size 640x480 with 1 Axes>"
      ]
     },
     "metadata": {},
     "output_type": "display_data"
    }
   ],
   "source": [
    "print(\"Local MDI+ w/ Leave-One-Out Coefficients and Outer Absolute Value\")\n",
    "print(\"------------------------------------\")\n",
    "lfi_loo_outer = mdi_plus_scores[\"lfi\"]\n",
    "print(lfi_loo_outer)\n",
    "print(\"------------------------------------\")\n",
    "print(\"Recall that the first two columns are the only ones with signal.\")\n",
    "print(\"Histogram of Rank of First Column (Red) and Second Column (Blue)\")\n",
    "lfi_rank = lfi_loo_outer.rank(axis=1, method=\"dense\", ascending=False)\n",
    "fig, ax = plt.subplots()\n",
    "ax.hist(lfi_rank.iloc[:, 0], alpha = 0.5, label='Feature #1', align = \"left\",\n",
    "        width = 0.4, color = \"red\")\n",
    "ax.hist(lfi_rank.iloc[:, 1], alpha = 0.5, label='Feature #2', align = \"right\",\n",
    "        width = 0.4, color = \"blue\")\n",
    "ax.set_xlabel('Ranked Importance')\n",
    "ax.set_ylabel('Frequency')\n",
    "ax.set_title('Paired Histogram')\n",
    "ax.legend()\n",
    "plt.show()"
   ]
  },
  {
   "cell_type": "markdown",
   "metadata": {},
   "source": [
    "#### Leave-One-Out Coefficients: $LFI(i,k)=\\sum_{j=1}^p\\hat{\\beta}^{(k)}_{-i,j}*\\Psi^{(k)}_{i,j}$"
   ]
  },
  {
   "cell_type": "code",
   "execution_count": 27,
   "metadata": {},
   "outputs": [],
   "source": [
    "# get MDI+ scores (higher r^2 value = greater importance)\n",
    "Xtraincopy = copy.deepcopy(X_train)\n",
    "mdi_plus_scores = rf_plus_model.get_mdi_plus_scores(X_train, y_train, lfi=True,\n",
    "                                                    lfi_abs = \"none\")"
   ]
  },
  {
   "cell_type": "code",
   "execution_count": 29,
   "metadata": {},
   "outputs": [
    {
     "data": {
      "text/plain": [
       "True"
      ]
     },
     "execution_count": 29,
     "metadata": {},
     "output_type": "execute_result"
    }
   ],
   "source": [
    "var = None\n",
    "var == None"
   ]
  },
  {
   "cell_type": "code",
   "execution_count": 28,
   "metadata": {},
   "outputs": [],
   "source": [
    "# get MDI+ scores (higher r^2 value = greater importance)\n",
    "Xtestcopy = copy.deepcopy(X_test)\n",
    "mdi_plus_scores = rf_plus_model.get_mdi_plus_scores(X_test, y_test, lfi=True,\n",
    "                                                    lfi_abs = \"none\", train_or_test = \"test\",\n",
    "                                                    sample_split = None)"
   ]
  },
  {
   "cell_type": "code",
   "execution_count": null,
   "metadata": {},
   "outputs": [
    {
     "name": "stdout",
     "output_type": "stream",
     "text": [
      "Local MDI+ w/ Leave-One-Out Coefficients and Outer Absolute Value\n",
      "------------------------------------\n",
      "           0         1         2         3         4         5         6  \\\n",
      "0  -0.213956  0.361180  0.065797 -0.012176  0.034219  0.207805  0.061114   \n",
      "1  -0.000343  0.323149 -0.033386 -0.021101  0.044373  0.220555  0.017237   \n",
      "2  -0.556527  0.566311  0.002294  0.000844  0.021416 -0.271043 -0.009625   \n",
      "3  -0.163165 -0.522586  0.003663  0.000793 -0.021905 -0.301561 -0.006066   \n",
      "4  -0.440632  0.614201 -0.003225  0.000844 -0.000574 -0.298860  0.069638   \n",
      "..       ...       ...       ...       ...       ...       ...       ...   \n",
      "61 -0.420012 -0.459298 -0.015341  0.001005  0.040652  0.172204 -0.044853   \n",
      "62 -0.496337 -0.501884  0.005395 -0.009218 -0.066419  0.114333 -0.023772   \n",
      "63  0.305943 -0.579880  0.020643 -0.009619  0.032142  0.089096  0.028367   \n",
      "64  0.054427  0.406116 -0.027123  0.007368 -0.041229  0.219835 -0.002591   \n",
      "65 -0.553095  0.462157 -0.027867 -0.000320 -0.001789  0.153097 -0.000969   \n",
      "\n",
      "           7         8         9  \n",
      "0  -0.003245  0.028849 -0.028158  \n",
      "1  -0.003245 -0.036164  0.065794  \n",
      "2  -0.005188  0.039254 -0.022635  \n",
      "3  -0.022991  0.043481  0.017659  \n",
      "4   0.029032  0.047315 -0.040819  \n",
      "..       ...       ...       ...  \n",
      "61 -0.000877  0.012443  0.023279  \n",
      "62 -0.011057 -0.100401 -0.009470  \n",
      "63 -0.036936  0.012901  0.047562  \n",
      "64  0.035868 -0.018396 -0.003457  \n",
      "65 -0.038879  0.004487 -0.000311  \n",
      "\n",
      "[66 rows x 10 columns]\n",
      "------------------------------------\n",
      "Recall that the first two columns are the only ones with signal.\n",
      "Histogram of Rank of First Column (Red) and Second Column (Blue)\n"
     ]
    },
    {
     "data": {
      "image/png": "[encoded data removed]",
      "text/plain": [
       "<Figure size 640x480 with 1 Axes>"
      ]
     },
     "metadata": {},
     "output_type": "display_data"
    }
   ],
   "source": [
    "print(\"Local MDI+ w/ Leave-One-Out Coefficients and Outer Absolute Value\")\n",
    "print(\"------------------------------------\")\n",
    "lfi_loo_outer = mdi_plus_scores[\"lfi\"]\n",
    "print(lfi_loo_outer)\n",
    "print(\"------------------------------------\")\n",
    "print(\"Recall that the first two columns are the only ones with signal.\")\n",
    "print(\"Histogram of Rank of First Column (Red) and Second Column (Blue)\")\n",
    "lfi_rank = lfi_loo_outer.rank(axis=1, method=\"dense\", ascending=False)\n",
    "fig, ax = plt.subplots()\n",
    "ax.hist(lfi_rank.iloc[:, 0], alpha = 0.5, label='Feature #1', align = \"left\",\n",
    "        width = 0.4, color = \"red\")\n",
    "ax.hist(lfi_rank.iloc[:, 1], alpha = 0.5, label='Feature #2', align = \"right\",\n",
    "        width = 0.4, color = \"blue\")\n",
    "ax.set_xlabel('Ranked Importance')\n",
    "ax.set_ylabel('Frequency')\n",
    "ax.set_title('Paired Histogram')\n",
    "ax.legend()\n",
    "plt.show()"
   ]
  }
 ],
 "metadata": {
  "kernelspec": {
   "display_name": "base",
   "language": "python",
   "name": "python3"
  },
  "language_info": {
   "codemirror_mode": {
    "name": "ipython",
    "version": 3
   },
   "file_extension": ".py",
   "mimetype": "text/x-python",
   "name": "python",
   "nbconvert_exporter": "python",
   "pygments_lexer": "ipython3",
   "version": "3.11.0"
  }
 },
 "nbformat": 4,
 "nbformat_minor": 0
}
