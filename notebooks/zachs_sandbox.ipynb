{
 "cells": [
  {
   "cell_type": "markdown",
   "metadata": {
    "collapsed": false
   },
   "source": [
    "# MDI+: Example Usages"
   ]
  },
  {
   "cell_type": "code",
   "execution_count": 1,
   "metadata": {
    "collapsed": false
   },
   "outputs": [],
   "source": [
    "%reload_ext autoreload\n",
    "%autoreload 2\n",
    "import sys\n",
    "sys.path.append(\"../\")\n",
    "sys.path.append(\"../../\")\n",
    "\n",
    "import numpy as np\n",
    "import pandas as pd\n",
    "import matplotlib.pyplot as plt\n",
    "from sklearn.model_selection import train_test_split\n",
    "from sklearn.ensemble import RandomForestRegressor, RandomForestClassifier\n",
    "from sklearn.metrics import r2_score, mean_absolute_error, accuracy_score, roc_auc_score, mean_squared_error\n",
    "import copy\n",
    "\n",
    "from imodels.importance import RandomForestPlusRegressor, RandomForestPlusClassifier, \\\n",
    "    RidgeRegressorPPM, LassoRegressorPPM, IdentityTransformer\n",
    "from imodels.importance.rf_plus import _fast_r2_score"
   ]
  },
  {
   "cell_type": "code",
   "execution_count": 2,
   "metadata": {
    "collapsed": false
   },
   "outputs": [],
   "source": [
    "# helper variables\n",
    "rf_regressor = RandomForestRegressor(n_estimators=100, min_samples_leaf=5, max_features=0.33, random_state=331)\n",
    "rf_classifier = RandomForestClassifier(n_estimators=100, min_samples_leaf=1, max_features=\"sqrt\", random_state=331)"
   ]
  },
  {
   "cell_type": "markdown",
   "metadata": {
    "collapsed": false
   },
   "source": [
    "## 1. Regression Example"
   ]
  },
  {
   "cell_type": "code",
   "execution_count": 3,
   "metadata": {
    "collapsed": false
   },
   "outputs": [],
   "source": [
    "# generate data from linear model: y = x1 + x2 + N(0, 1)\n",
    "n = 200\n",
    "p = 10\n",
    "s = 2\n",
    "X = np.random.normal(size=(n, p))\n",
    "beta = np.concatenate((np.ones(s), np.zeros(p-s)))\n",
    "y = np.matmul(X, beta) + np.random.normal(size=n)\n",
    "X_train, X_test, y_train, y_test = train_test_split(X, y, test_size=0.33, random_state=12345)"
   ]
  },
  {
   "cell_type": "markdown",
   "metadata": {
    "collapsed": false
   },
   "source": [
    "### 1.1 Local MDI+ (Feature Contribution) w/ Regression"
   ]
  },
  {
   "cell_type": "code",
   "execution_count": 4,
   "metadata": {
    "collapsed": false
   },
   "outputs": [],
   "source": [
    "# fit RF+\n",
    "rf_plus_model = RandomForestPlusRegressor(rf_model=rf_regressor, include_raw=False)\n",
    "rf_plus_model.fit(X_train, y_train)"
   ]
  },
  {
   "cell_type": "code",
   "execution_count": 5,
   "metadata": {
    "collapsed": false
   },
   "outputs": [
    {
     "data": {
      "text/plain": [
       "0.3636246290125099"
      ]
     },
     "execution_count": 5,
     "metadata": {},
     "output_type": "execute_result"
    }
   ],
   "source": [
    "# make predictions with RF+\n",
    "preds = rf_plus_model.predict(X_test)\n",
    "r2_score(y_test, preds)"
   ]
  },
  {
   "cell_type": "markdown",
   "metadata": {},
   "source": [
    "#### Leave-One-Out Coefficients: $LFI(i,k)=\\sum_{j=1}^p|\\hat{\\beta}^{(k)}_{-i,j}*\\Psi^{(k)}_{i,j}|$"
   ]
  },
  {
   "cell_type": "code",
   "execution_count": 6,
   "metadata": {
    "collapsed": false
   },
   "outputs": [],
   "source": [
    "# get MDI+ scores (higher r^2 value = greater importance)\n",
    "mdi_plus_scores = rf_plus_model.get_mdi_plus_scores(X_train, y_train, lfi=True,\n",
    "                                                    lfi_abs = \"inside\")"
   ]
  },
  {
   "cell_type": "code",
   "execution_count": 7,
   "metadata": {},
   "outputs": [
    {
     "name": "stdout",
     "output_type": "stream",
     "text": [
      "Local MDI+ w/ Leave-One-Out Coefficients and Inner Absolute Value\n",
      "------------------------------------\n",
      "            0         1         2         3         4         5         6  \\\n",
      "0    0.608185  0.550630  0.020854  0.045005  0.096493  0.077575  0.115203   \n",
      "1    0.636225  0.492562  0.015898  0.070490  0.089043  0.059321  0.151142   \n",
      "2    0.664347  0.708128  0.051095  0.050765  0.100931  0.065101  0.051117   \n",
      "3    0.755061  0.660813  0.031509  0.053803  0.133723  0.055421  0.115279   \n",
      "4    0.725802  0.657923  0.043663  0.085427  0.113600  0.063547  0.057758   \n",
      "..        ...       ...       ...       ...       ...       ...       ...   \n",
      "129  0.802217  0.555734  0.057806  0.073170  0.150834  0.046640  0.054222   \n",
      "130  0.737610  0.525766  0.020153  0.059622  0.115602  0.039295  0.096992   \n",
      "131  0.759395  0.754096  0.035229  0.065062  0.091480  0.090577  0.055108   \n",
      "132  0.546094  0.658316  0.022907  0.063193  0.088292  0.054754  0.088160   \n",
      "133  0.744669  0.766035  0.048084  0.055177  0.093510  0.053658  0.078956   \n",
      "\n",
      "            7         8         9  \n",
      "0    0.037753  0.179658  0.077706  \n",
      "1    0.053391  0.098593  0.079639  \n",
      "2    0.043455  0.046797  0.140794  \n",
      "3    0.031786  0.086499  0.051325  \n",
      "4    0.029623  0.073047  0.088858  \n",
      "..        ...       ...       ...  \n",
      "129  0.029627  0.060355  0.095471  \n",
      "130  0.037490  0.058513  0.080459  \n",
      "131  0.035079  0.101358  0.069545  \n",
      "132  0.028757  0.107871  0.134444  \n",
      "133  0.033060  0.055147  0.097874  \n",
      "\n",
      "[134 rows x 10 columns]\n",
      "------------------------------------\n",
      "Recall that the first two columns are the only ones with signal.\n",
      "Histogram of Rank of First Column (Red) and Second Column (Blue)\n"
     ]
    },
    {
     "data": {
      "image/png": "[encoded data removed]",
      "text/plain": [
       "<Figure size 640x480 with 1 Axes>"
      ]
     },
     "metadata": {},
     "output_type": "display_data"
    }
   ],
   "source": [
    "print(\"Local MDI+ w/ Leave-One-Out Coefficients and Inner Absolute Value\")\n",
    "print(\"------------------------------------\")\n",
    "lfi_loo_inner = mdi_plus_scores[\"lfi\"]\n",
    "print(lfi_loo_inner)\n",
    "print(\"------------------------------------\")\n",
    "print(\"Recall that the first two columns are the only ones with signal.\")\n",
    "print(\"Histogram of Rank of First Column (Red) and Second Column (Blue)\")\n",
    "lfi_rank = lfi_loo_inner.rank(axis=1, method=\"dense\", ascending=False)\n",
    "fig, ax = plt.subplots()\n",
    "ax.hist(lfi_rank.iloc[:, 0], alpha = 0.5, label='Feature #1', align = \"left\",\n",
    "        width = 0.4, color = \"red\")\n",
    "ax.hist(lfi_rank.iloc[:, 1], alpha = 0.5, label='Feature #2', align = \"right\",\n",
    "        width = 0.4, color = \"blue\")\n",
    "ax.set_xlabel('Ranked Importance')\n",
    "ax.set_ylabel('Frequency')\n",
    "ax.set_title('Paired Histogram')\n",
    "ax.legend()\n",
    "plt.show()"
   ]
  },
  {
   "cell_type": "markdown",
   "metadata": {},
   "source": [
    "#### Leave-One-Out Coefficients: $LFI(i,k)=|\\sum_{j=1}^p\\hat{\\beta}^{(k)}_{-i,j}*\\Psi^{(k)}_{i,j}|$"
   ]
  },
  {
   "cell_type": "code",
   "execution_count": 8,
   "metadata": {},
   "outputs": [],
   "source": [
    "# get MDI+ scores (higher r^2 value = greater importance)\n",
    "mdi_plus_scores = rf_plus_model.get_mdi_plus_scores(X_train, y_train, lfi=True,\n",
    "                                                    lfi_abs = \"outside\")"
   ]
  },
  {
   "cell_type": "code",
   "execution_count": 9,
   "metadata": {},
   "outputs": [
    {
     "name": "stdout",
     "output_type": "stream",
     "text": [
      "Local MDI+ w/ Leave-One-Out Coefficients and Outer Absolute Value\n",
      "------------------------------------\n",
      "            0         1         2         3         4         5         6  \\\n",
      "0    0.422315  0.425202  0.020069  0.039757  0.090442  0.069194  0.098220   \n",
      "1    0.467669  0.360619  0.015183  0.056617  0.074321  0.051299  0.135890   \n",
      "2    0.470798  0.634474  0.046767  0.041558  0.081441  0.059472  0.040333   \n",
      "3    0.735644  0.642640  0.030044  0.047706  0.120986  0.051880  0.106644   \n",
      "4    0.501932  0.589312  0.042987  0.081045  0.109697  0.054156  0.053157   \n",
      "..        ...       ...       ...       ...       ...       ...       ...   \n",
      "129  0.735409  0.487187  0.057017  0.064289  0.145858  0.044710  0.044878   \n",
      "130  0.662528  0.497686  0.018442  0.052805  0.104725  0.036073  0.080771   \n",
      "131  0.722433  0.736415  0.034158  0.058703  0.078662  0.085876  0.050006   \n",
      "132  0.422830  0.633389  0.020639  0.058062  0.085350  0.053636  0.078052   \n",
      "133  0.512170  0.724235  0.047081  0.048256  0.071720  0.044226  0.069321   \n",
      "\n",
      "            7         8         9  \n",
      "0    0.036911  0.177466  0.068774  \n",
      "1    0.052242  0.096204  0.068136  \n",
      "2    0.042514  0.039905  0.130528  \n",
      "3    0.026799  0.081969  0.046384  \n",
      "4    0.028476  0.054816  0.080332  \n",
      "..        ...       ...       ...  \n",
      "129  0.028254  0.053973  0.085893  \n",
      "130  0.036404  0.053692  0.076556  \n",
      "131  0.030168  0.098416  0.059790  \n",
      "132  0.027421  0.095680  0.123218  \n",
      "133  0.032463  0.047071  0.091998  \n",
      "\n",
      "[134 rows x 10 columns]\n",
      "------------------------------------\n",
      "Recall that the first two columns are the only ones with signal.\n",
      "Histogram of Rank of First Column (Red) and Second Column (Blue)\n"
     ]
    },
    {
     "data": {
      "image/png": "[encoded data removed]",
      "text/plain": [
       "<Figure size 640x480 with 1 Axes>"
      ]
     },
     "metadata": {},
     "output_type": "display_data"
    }
   ],
   "source": [
    "print(\"Local MDI+ w/ Leave-One-Out Coefficients and Outer Absolute Value\")\n",
    "print(\"------------------------------------\")\n",
    "lfi_loo_outer = mdi_plus_scores[\"lfi\"]\n",
    "print(lfi_loo_outer)\n",
    "print(\"------------------------------------\")\n",
    "print(\"Recall that the first two columns are the only ones with signal.\")\n",
    "print(\"Histogram of Rank of First Column (Red) and Second Column (Blue)\")\n",
    "lfi_rank = lfi_loo_outer.rank(axis=1, method=\"dense\", ascending=False)\n",
    "fig, ax = plt.subplots()\n",
    "ax.hist(lfi_rank.iloc[:, 0], alpha = 0.5, label='Feature #1', align = \"left\",\n",
    "        width = 0.4, color = \"red\")\n",
    "ax.hist(lfi_rank.iloc[:, 1], alpha = 0.5, label='Feature #2', align = \"right\",\n",
    "        width = 0.4, color = \"blue\")\n",
    "ax.set_xlabel('Ranked Importance')\n",
    "ax.set_ylabel('Frequency')\n",
    "ax.set_title('Paired Histogram')\n",
    "ax.legend()\n",
    "plt.show()"
   ]
  },
  {
   "cell_type": "markdown",
   "metadata": {},
   "source": [
    "#### Leave-One-Out Coefficients: $LFI(i,k)=\\sum_{j=1}^p\\hat{\\beta}^{(k)}_{-i,j}*\\Psi^{(k)}_{i,j}$"
   ]
  },
  {
   "cell_type": "code",
   "execution_count": 10,
   "metadata": {},
   "outputs": [
    {
     "name": "stdout",
     "output_type": "stream",
     "text": [
      "True\n"
     ]
    }
   ],
   "source": [
    "# get MDI+ scores (higher r^2 value = greater importance)\n",
    "Xtraincopy = copy.deepcopy(X_train)\n",
    "mdi_plus_scores = rf_plus_model.get_mdi_plus_scores(X_train, y_train, lfi=True,\n",
    "                                                    lfi_abs = \"none\")\n",
    "# check if X_train has been modified\n",
    "print(np.array_equal(X_train, Xtraincopy))"
   ]
  },
  {
   "cell_type": "code",
   "execution_count": 11,
   "metadata": {},
   "outputs": [
    {
     "name": "stdout",
     "output_type": "stream",
     "text": [
      "True\n"
     ]
    }
   ],
   "source": [
    "# get MDI+ scores (higher r^2 value = greater importance)\n",
    "Xtestcopy = copy.deepcopy(X_test)\n",
    "mdi_plus_scores = rf_plus_model.get_mdi_plus_scores(X_test, y_test, lfi=True,\n",
    "                                                    lfi_abs = \"none\", train_or_test = \"test\",\n",
    "                                                    sample_split = None)\n",
    "# check if X_test has been modified\n",
    "print(np.array_equal(X_test, Xtestcopy))"
   ]
  },
  {
   "cell_type": "code",
   "execution_count": 12,
   "metadata": {},
   "outputs": [
    {
     "name": "stdout",
     "output_type": "stream",
     "text": [
      "Local MDI+ w/ Leave-One-Out Coefficients and Outer Absolute Value\n",
      "------------------------------------\n",
      "           0         1         2         3         4         5         6  \\\n",
      "0  -0.612518 -0.233865 -0.019366 -0.005137  0.013640 -0.026954 -0.057513   \n",
      "1  -0.616848  0.241251  0.014381 -0.025470  0.037838 -0.005244  0.039499   \n",
      "2   0.250852  0.220097 -0.013537  0.015817  0.122494 -0.009855  0.024375   \n",
      "3   0.398347  0.398843 -0.003681  0.108051 -0.097339  0.022152 -0.005007   \n",
      "4  -0.420028 -0.721166 -0.013371 -0.022331  0.023841 -0.040975  0.046131   \n",
      "..       ...       ...       ...       ...       ...       ...       ...   \n",
      "61 -0.541249  0.327067  0.007995 -0.032408 -0.064986  0.010670  0.032212   \n",
      "62  0.286810 -0.761167 -0.017463 -0.051808 -0.060441 -0.015466 -0.036604   \n",
      "63  0.465622 -0.638668 -0.022841 -0.046794  0.206094 -0.038479 -0.009107   \n",
      "64 -0.281037 -0.791475  0.031824 -0.026122 -0.070774 -0.002338 -0.030279   \n",
      "65 -0.613498  0.180568 -0.013571 -0.015026  0.064937 -0.006692  0.031749   \n",
      "\n",
      "           7         8         9  \n",
      "0  -0.015904  0.013358  0.026427  \n",
      "1   0.003101  0.008629 -0.033925  \n",
      "2   0.007334 -0.015315 -0.005039  \n",
      "3   0.017068 -0.009845 -0.036366  \n",
      "4  -0.005035  0.061205 -0.001494  \n",
      "..       ...       ...       ...  \n",
      "61 -0.003161  0.020102  0.022977  \n",
      "62  0.007438 -0.013632 -0.039492  \n",
      "63 -0.003633 -0.020405 -0.005261  \n",
      "64 -0.011420 -0.007644 -0.029516  \n",
      "65 -0.024104 -0.000381  0.012555  \n",
      "\n",
      "[66 rows x 10 columns]\n",
      "------------------------------------\n",
      "Recall that the first two columns are the only ones with signal.\n",
      "Histogram of Rank of First Column (Red) and Second Column (Blue)\n"
     ]
    },
    {
     "data": {
      "image/png": "[encoded data removed]",
      "text/plain": [
       "<Figure size 640x480 with 1 Axes>"
      ]
     },
     "metadata": {},
     "output_type": "display_data"
    }
   ],
   "source": [
    "print(\"Local MDI+ w/ Leave-One-Out Coefficients and Outer Absolute Value\")\n",
    "print(\"------------------------------------\")\n",
    "lfi_loo_outer = mdi_plus_scores[\"lfi\"]\n",
    "print(lfi_loo_outer)\n",
    "print(\"------------------------------------\")\n",
    "print(\"Recall that the first two columns are the only ones with signal.\")\n",
    "print(\"Histogram of Rank of First Column (Red) and Second Column (Blue)\")\n",
    "lfi_rank = lfi_loo_outer.rank(axis=1, method=\"dense\", ascending=False)\n",
    "fig, ax = plt.subplots()\n",
    "ax.hist(lfi_rank.iloc[:, 0], alpha = 0.5, label='Feature #1', align = \"left\",\n",
    "        width = 0.4, color = \"red\")\n",
    "ax.hist(lfi_rank.iloc[:, 1], alpha = 0.5, label='Feature #2', align = \"right\",\n",
    "        width = 0.4, color = \"blue\")\n",
    "ax.set_xlabel('Ranked Importance')\n",
    "ax.set_ylabel('Frequency')\n",
    "ax.set_title('Paired Histogram')\n",
    "ax.legend()\n",
    "plt.show()"
   ]
  }
 ],
 "metadata": {
  "kernelspec": {
   "display_name": "Python 3",
   "language": "python",
   "name": "python3"
  },
  "language_info": {
   "codemirror_mode": {
    "name": "ipython",
    "version": 3
   },
   "file_extension": ".py",
   "mimetype": "text/x-python",
   "name": "python",
   "nbconvert_exporter": "python",
   "pygments_lexer": "ipython3",
   "version": "3.11.0"
  }
 },
 "nbformat": 4,
 "nbformat_minor": 0
}
