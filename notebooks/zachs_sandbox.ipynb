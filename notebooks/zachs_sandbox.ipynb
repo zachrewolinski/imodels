{
 "cells": [
  {
   "cell_type": "markdown",
   "metadata": {
    "collapsed": false
   },
   "source": [
    "# MDI+: Example Usages"
   ]
  },
  {
   "cell_type": "code",
   "execution_count": 1,
   "metadata": {
    "collapsed": false
   },
   "outputs": [],
   "source": [
    "%reload_ext autoreload\n",
    "%autoreload 2\n",
    "import sys\n",
    "sys.path.append(\"../\")\n",
    "sys.path.append(\"../../\")\n",
    "\n",
    "import numpy as np\n",
    "import pandas as pd\n",
    "import matplotlib.pyplot as plt\n",
    "from sklearn.model_selection import train_test_split\n",
    "from sklearn.ensemble import RandomForestRegressor, RandomForestClassifier\n",
    "from sklearn.metrics import r2_score, mean_absolute_error, accuracy_score, roc_auc_score, mean_squared_error\n",
    "import copy\n",
    "\n",
    "from imodels.importance import RandomForestPlusRegressor, RandomForestPlusClassifier, \\\n",
    "    RidgeRegressorPPM, LassoRegressorPPM, IdentityTransformer\n",
    "from imodels.importance.rf_plus import _fast_r2_score"
   ]
  },
  {
   "cell_type": "code",
   "execution_count": 2,
   "metadata": {
    "collapsed": false
   },
   "outputs": [],
   "source": [
    "# helper variables\n",
    "rf_regressor = RandomForestRegressor(n_estimators=100, min_samples_leaf=5, max_features=0.33, random_state=331)\n",
    "rf_classifier = RandomForestClassifier(n_estimators=100, min_samples_leaf=1, max_features=\"sqrt\", random_state=331)"
   ]
  },
  {
   "cell_type": "markdown",
   "metadata": {
    "collapsed": false
   },
   "source": [
    "## 1. Regression Example"
   ]
  },
  {
   "cell_type": "code",
   "execution_count": 3,
   "metadata": {
    "collapsed": false
   },
   "outputs": [],
   "source": [
    "# generate data from linear model: y = x1 + x2 + N(0, 1)\n",
    "n = 200\n",
    "p = 10\n",
    "s = 2\n",
    "X = np.random.normal(size=(n, p))\n",
    "beta = np.concatenate((np.ones(s), np.zeros(p-s)))\n",
    "y = np.matmul(X, beta) + np.random.normal(size=n)\n",
    "X_train, X_test, y_train, y_test = train_test_split(X, y, test_size=0.33, random_state=12345)"
   ]
  },
  {
   "cell_type": "markdown",
   "metadata": {
    "collapsed": false
   },
   "source": [
    "### 1.1 Local MDI+ (Feature Contribution) w/ Regression"
   ]
  },
  {
   "cell_type": "code",
   "execution_count": 4,
   "metadata": {
    "collapsed": false
   },
   "outputs": [],
   "source": [
    "# fit RF+\n",
    "rf_plus_model = RandomForestPlusRegressor(rf_model=rf_regressor, include_raw=False)\n",
    "rf_plus_model.fit(X_train, y_train)"
   ]
  },
  {
   "cell_type": "code",
   "execution_count": 5,
   "metadata": {
    "collapsed": false
   },
   "outputs": [
    {
     "data": {
      "text/plain": [
       "0.3668483947136493"
      ]
     },
     "execution_count": 5,
     "metadata": {},
     "output_type": "execute_result"
    }
   ],
   "source": [
    "# make predictions with RF+\n",
    "preds = rf_plus_model.predict(X_test)\n",
    "r2_score(y_test, preds)"
   ]
  },
  {
   "cell_type": "markdown",
   "metadata": {},
   "source": [
    "#### Leave-One-Out Coefficients: $LFI(i,k)=\\sum_{j=1}^p|\\hat{\\beta}^{(k)}_{-i,j}*\\Psi^{(k)}_{i,j}|$"
   ]
  },
  {
   "cell_type": "code",
   "execution_count": 6,
   "metadata": {
    "collapsed": false
   },
   "outputs": [],
   "source": [
    "# get MDI+ scores (higher r^2 value = greater importance)\n",
    "mdi_plus_scores = rf_plus_model.get_mdi_plus_scores(X_train, y_train, lfi=True,\n",
    "                                                    lfi_abs = \"inside\")"
   ]
  },
  {
   "cell_type": "code",
   "execution_count": 7,
   "metadata": {},
   "outputs": [
    {
     "name": "stdout",
     "output_type": "stream",
     "text": [
      "Local MDI+ w/ Leave-One-Out Coefficients and Inner Absolute Value\n",
      "------------------------------------\n",
      "            0         1         2         3         4         5         6  \\\n",
      "0    0.313525  0.429314  0.028768  0.027789  0.067966  0.067263  0.155701   \n",
      "1    0.309911  0.512796  0.056878  0.027836  0.059945  0.043261  0.082292   \n",
      "2    0.418521  0.488947  0.033151  0.039811  0.080017  0.063078  0.108197   \n",
      "3    0.247684  0.506542  0.035502  0.028619  0.074017  0.074475  0.074613   \n",
      "4    0.349484  0.490318  0.056752  0.031866  0.071115  0.048201  0.088609   \n",
      "..        ...       ...       ...       ...       ...       ...       ...   \n",
      "129  0.259915  0.661036  0.055470  0.052382  0.056172  0.070119  0.122368   \n",
      "130  0.258238  0.598808  0.073939  0.044840  0.046658  0.069065  0.105740   \n",
      "131  0.265978  0.652354  0.057540  0.022938  0.057635  0.089518  0.116559   \n",
      "132  0.244179  0.684709  0.052427  0.024384  0.067664  0.059018  0.096328   \n",
      "133  0.206518  0.460291  0.071721  0.035733  0.066440  0.060700  0.268452   \n",
      "\n",
      "            7         8         9  \n",
      "0    0.050292  0.084886  0.031395  \n",
      "1    0.055238  0.088848  0.057212  \n",
      "2    0.045639  0.103516  0.036182  \n",
      "3    0.059505  0.071984  0.040225  \n",
      "4    0.046474  0.072751  0.036353  \n",
      "..        ...       ...       ...  \n",
      "129  0.035357  0.038612  0.045557  \n",
      "130  0.045206  0.029818  0.067887  \n",
      "131  0.047026  0.033633  0.053682  \n",
      "132  0.052345  0.026144  0.051950  \n",
      "133  0.040961  0.039320  0.031010  \n",
      "\n",
      "[134 rows x 10 columns]\n",
      "------------------------------------\n",
      "Recall that the first two columns are the only ones with signal.\n",
      "Histogram of Rank of First Column (Red) and Second Column (Blue)\n"
     ]
    },
    {
     "data": {
      "image/png": "[encoded data removed]",
      "text/plain": [
       "<Figure size 640x480 with 1 Axes>"
      ]
     },
     "metadata": {},
     "output_type": "display_data"
    }
   ],
   "source": [
    "print(\"Local MDI+ w/ Leave-One-Out Coefficients and Inner Absolute Value\")\n",
    "print(\"------------------------------------\")\n",
    "lfi_loo_inner = mdi_plus_scores[\"lfi\"]\n",
    "print(lfi_loo_inner)\n",
    "print(\"------------------------------------\")\n",
    "print(\"Recall that the first two columns are the only ones with signal.\")\n",
    "print(\"Histogram of Rank of First Column (Red) and Second Column (Blue)\")\n",
    "lfi_rank = lfi_loo_inner.rank(axis=1, method=\"dense\", ascending=False)\n",
    "fig, ax = plt.subplots()\n",
    "ax.hist(lfi_rank.iloc[:, 0], alpha = 0.5, label='Feature #1', align = \"left\",\n",
    "        width = 0.4, color = \"red\")\n",
    "ax.hist(lfi_rank.iloc[:, 1], alpha = 0.5, label='Feature #2', align = \"right\",\n",
    "        width = 0.4, color = \"blue\")\n",
    "ax.set_xlabel('Ranked Importance')\n",
    "ax.set_ylabel('Frequency')\n",
    "ax.set_title('Paired Histogram')\n",
    "ax.legend()\n",
    "plt.show()"
   ]
  },
  {
   "cell_type": "markdown",
   "metadata": {},
   "source": [
    "#### Leave-One-Out Coefficients: $LFI(i,k)=|\\sum_{j=1}^p\\hat{\\beta}^{(k)}_{-i,j}*\\Psi^{(k)}_{i,j}|$"
   ]
  },
  {
   "cell_type": "code",
   "execution_count": 8,
   "metadata": {},
   "outputs": [],
   "source": [
    "# get MDI+ scores (higher r^2 value = greater importance)\n",
    "mdi_plus_scores = rf_plus_model.get_mdi_plus_scores(X_train, y_train, lfi=True,\n",
    "                                                    lfi_abs = \"outside\")"
   ]
  },
  {
   "cell_type": "code",
   "execution_count": 9,
   "metadata": {},
   "outputs": [
    {
     "name": "stdout",
     "output_type": "stream",
     "text": [
      "Local MDI+ w/ Leave-One-Out Coefficients and Outer Absolute Value\n",
      "------------------------------------\n",
      "            0         1         2         3         4         5         6  \\\n",
      "0    0.293315  0.303037  0.026601  0.023607  0.053338  0.065393  0.140661   \n",
      "1    0.276341  0.388806  0.054039  0.024643  0.044688  0.039238  0.072094   \n",
      "2    0.414523  0.373033  0.031768  0.037452  0.070409  0.050665  0.081850   \n",
      "3    0.189998  0.410882  0.032112  0.025356  0.069012  0.072417  0.065362   \n",
      "4    0.330228  0.384954  0.055044  0.028747  0.057078  0.044156  0.077087   \n",
      "..        ...       ...       ...       ...       ...       ...       ...   \n",
      "129  0.231330  0.646837  0.051185  0.049929  0.048550  0.054501  0.115786   \n",
      "130  0.233872  0.580724  0.066529  0.043925  0.041054  0.052513  0.083073   \n",
      "131  0.239103  0.640505  0.054896  0.020645  0.047881  0.085247  0.088703   \n",
      "132  0.223563  0.657603  0.041244  0.022312  0.063429  0.046797  0.088318   \n",
      "133  0.181459  0.341256  0.066493  0.033621  0.059525  0.048455  0.254924   \n",
      "\n",
      "            7         8         9  \n",
      "0    0.041983  0.077638  0.030173  \n",
      "1    0.049739  0.080563  0.045340  \n",
      "2    0.038573  0.094556  0.033796  \n",
      "3    0.046827  0.066759  0.039057  \n",
      "4    0.034886  0.064171  0.034131  \n",
      "..        ...       ...       ...  \n",
      "129  0.028676  0.036810  0.040544  \n",
      "130  0.041025  0.029028  0.065006  \n",
      "131  0.042339  0.032124  0.050601  \n",
      "132  0.039341  0.024778  0.043122  \n",
      "133  0.033540  0.035195  0.028983  \n",
      "\n",
      "[134 rows x 10 columns]\n",
      "------------------------------------\n",
      "Recall that the first two columns are the only ones with signal.\n",
      "Histogram of Rank of First Column (Red) and Second Column (Blue)\n"
     ]
    },
    {
     "data": {
      "image/png": "[encoded data removed]",
      "text/plain": [
       "<Figure size 640x480 with 1 Axes>"
      ]
     },
     "metadata": {},
     "output_type": "display_data"
    }
   ],
   "source": [
    "print(\"Local MDI+ w/ Leave-One-Out Coefficients and Outer Absolute Value\")\n",
    "print(\"------------------------------------\")\n",
    "lfi_loo_outer = mdi_plus_scores[\"lfi\"]\n",
    "print(lfi_loo_outer)\n",
    "print(\"------------------------------------\")\n",
    "print(\"Recall that the first two columns are the only ones with signal.\")\n",
    "print(\"Histogram of Rank of First Column (Red) and Second Column (Blue)\")\n",
    "lfi_rank = lfi_loo_outer.rank(axis=1, method=\"dense\", ascending=False)\n",
    "fig, ax = plt.subplots()\n",
    "ax.hist(lfi_rank.iloc[:, 0], alpha = 0.5, label='Feature #1', align = \"left\",\n",
    "        width = 0.4, color = \"red\")\n",
    "ax.hist(lfi_rank.iloc[:, 1], alpha = 0.5, label='Feature #2', align = \"right\",\n",
    "        width = 0.4, color = \"blue\")\n",
    "ax.set_xlabel('Ranked Importance')\n",
    "ax.set_ylabel('Frequency')\n",
    "ax.set_title('Paired Histogram')\n",
    "ax.legend()\n",
    "plt.show()"
   ]
  },
  {
   "cell_type": "markdown",
   "metadata": {},
   "source": [
    "#### Leave-One-Out Coefficients: $LFI(i,k)=\\sum_{j=1}^p\\hat{\\beta}^{(k)}_{-i,j}*\\Psi^{(k)}_{i,j}$"
   ]
  },
  {
   "cell_type": "code",
   "execution_count": 10,
   "metadata": {},
   "outputs": [
    {
     "name": "stdout",
     "output_type": "stream",
     "text": [
      "True\n"
     ]
    }
   ],
   "source": [
    "# get MDI+ scores (higher r^2 value = greater importance)\n",
    "Xtraincopy = copy.deepcopy(X_train)\n",
    "mdi_plus_scores = rf_plus_model.get_mdi_plus_scores(X_train, y_train, lfi=True,\n",
    "                                                    lfi_abs = \"none\")\n",
    "# check if X_train has been modified\n",
    "print(np.array_equal(X_train, Xtraincopy))"
   ]
  },
  {
   "cell_type": "code",
   "execution_count": 11,
   "metadata": {},
   "outputs": [
    {
     "name": "stdout",
     "output_type": "stream",
     "text": [
      "True\n"
     ]
    }
   ],
   "source": [
    "# get MDI+ scores (higher r^2 value = greater importance)\n",
    "Xtestcopy = copy.deepcopy(X_test)\n",
    "mdi_plus_scores = rf_plus_model.get_mdi_plus_scores(X_test, y_test, lfi=True,\n",
    "                                                    lfi_abs = \"none\", train_or_test = \"test\",\n",
    "                                                    sample_split = None)\n",
    "# check if X_test has been modified\n",
    "print(np.array_equal(X_test, Xtestcopy))"
   ]
  },
  {
   "cell_type": "code",
   "execution_count": 12,
   "metadata": {},
   "outputs": [
    {
     "name": "stdout",
     "output_type": "stream",
     "text": [
      "Local MDI+ w/ Leave-One-Out Coefficients and Outer Absolute Value\n",
      "------------------------------------\n",
      "           0         1         2         3         4         5         6  \\\n",
      "0   0.239756  0.465646 -0.010871 -0.033241 -0.035038 -0.066534 -0.101521   \n",
      "1   0.239297 -0.438911  0.018191  0.017313 -0.001677  0.003874 -0.059363   \n",
      "2  -0.212988  0.000338 -0.006484 -0.001745 -0.041681  0.001250  0.081959   \n",
      "3  -0.146209  0.458980  0.055258 -0.008284 -0.005985  0.053664  0.071105   \n",
      "4   0.024615 -0.593175 -0.015993 -0.008293  0.008762  0.035339 -0.241235   \n",
      "..       ...       ...       ...       ...       ...       ...       ...   \n",
      "61 -0.166371 -0.532176  0.007755  0.006888  0.022217  0.068932 -0.000887   \n",
      "62  0.021791  0.096287 -0.021711  0.013195  0.010209  0.023033  0.057885   \n",
      "63  0.088404 -0.696341 -0.012986  0.012357 -0.050800 -0.065975  0.043493   \n",
      "64  0.312000  0.497276  0.054026  0.005429 -0.022688 -0.055160  0.083739   \n",
      "65 -0.041940  0.543191  0.014045  0.003723 -0.017327 -0.040575  0.109543   \n",
      "\n",
      "           7         8         9  \n",
      "0   0.017046  0.011367 -0.025670  \n",
      "1  -0.018366 -0.013280 -0.019089  \n",
      "2   0.059481  0.042075  0.006650  \n",
      "3  -0.021146 -0.014512 -0.025762  \n",
      "4  -0.010094  0.009733 -0.020787  \n",
      "..       ...       ...       ...  \n",
      "61 -0.014072 -0.030094  0.019123  \n",
      "62  0.016292  0.001478 -0.019230  \n",
      "63  0.056778  0.021976 -0.011919  \n",
      "64 -0.040948 -0.001776  0.014040  \n",
      "65 -0.019916 -0.003656 -0.020245  \n",
      "\n",
      "[66 rows x 10 columns]\n",
      "------------------------------------\n",
      "Recall that the first two columns are the only ones with signal.\n",
      "Histogram of Rank of First Column (Red) and Second Column (Blue)\n"
     ]
    },
    {
     "data": {
      "image/png": "[encoded data removed]",
      "text/plain": [
       "<Figure size 640x480 with 1 Axes>"
      ]
     },
     "metadata": {},
     "output_type": "display_data"
    }
   ],
   "source": [
    "print(\"Local MDI+ w/ Leave-One-Out Coefficients and Outer Absolute Value\")\n",
    "print(\"------------------------------------\")\n",
    "lfi_loo_outer = mdi_plus_scores[\"lfi\"]\n",
    "print(lfi_loo_outer)\n",
    "print(\"------------------------------------\")\n",
    "print(\"Recall that the first two columns are the only ones with signal.\")\n",
    "print(\"Histogram of Rank of First Column (Red) and Second Column (Blue)\")\n",
    "lfi_rank = lfi_loo_outer.rank(axis=1, method=\"dense\", ascending=False)\n",
    "fig, ax = plt.subplots()\n",
    "ax.hist(lfi_rank.iloc[:, 0], alpha = 0.5, label='Feature #1', align = \"left\",\n",
    "        width = 0.4, color = \"red\")\n",
    "ax.hist(lfi_rank.iloc[:, 1], alpha = 0.5, label='Feature #2', align = \"right\",\n",
    "        width = 0.4, color = \"blue\")\n",
    "ax.set_xlabel('Ranked Importance')\n",
    "ax.set_ylabel('Frequency')\n",
    "ax.set_title('Paired Histogram')\n",
    "ax.legend()\n",
    "plt.show()"
   ]
  }
 ],
 "metadata": {
  "kernelspec": {
   "display_name": "Python 3",
   "language": "python",
   "name": "python3"
  },
  "language_info": {
   "codemirror_mode": {
    "name": "ipython",
    "version": 3
   },
   "file_extension": ".py",
   "mimetype": "text/x-python",
   "name": "python",
   "nbconvert_exporter": "python",
   "pygments_lexer": "ipython3",
   "version": "3.11.0"
  }
 },
 "nbformat": 4,
 "nbformat_minor": 0
}
