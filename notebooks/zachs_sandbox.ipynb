{
 "cells": [
  {
   "cell_type": "markdown",
   "metadata": {
    "collapsed": false
   },
   "source": [
    "# MDI+: Example Usages"
   ]
  },
  {
   "cell_type": "code",
   "execution_count": 291,
   "metadata": {
    "collapsed": false
   },
   "outputs": [],
   "source": [
    "%reload_ext autoreload\n",
    "%autoreload 2\n",
    "import sys\n",
    "sys.path.append(\"../\")\n",
    "sys.path.append(\"../../\")\n",
    "\n",
    "import numpy as np\n",
    "import pandas as pd\n",
    "import matplotlib.pyplot as plt\n",
    "from sklearn.model_selection import train_test_split\n",
    "from sklearn.ensemble import RandomForestRegressor, RandomForestClassifier\n",
    "from sklearn.metrics import r2_score, mean_absolute_error, accuracy_score, roc_auc_score, mean_squared_error\n",
    "\n",
    "from imodels.importance import RandomForestPlusRegressor, RandomForestPlusClassifier, \\\n",
    "    RidgeRegressorPPM, LassoRegressorPPM, IdentityTransformer\n",
    "from imodels.importance.rf_plus import _fast_r2_score"
   ]
  },
  {
   "cell_type": "code",
   "execution_count": 292,
   "metadata": {
    "collapsed": false
   },
   "outputs": [],
   "source": [
    "# helper variables\n",
    "rf_regressor = RandomForestRegressor(n_estimators=100, min_samples_leaf=5, max_features=0.33, random_state=331)\n",
    "rf_classifier = RandomForestClassifier(n_estimators=100, min_samples_leaf=1, max_features=\"sqrt\", random_state=331)"
   ]
  },
  {
   "cell_type": "markdown",
   "metadata": {
    "collapsed": false
   },
   "source": [
    "## 1. Regression Example"
   ]
  },
  {
   "cell_type": "code",
   "execution_count": 293,
   "metadata": {
    "collapsed": false
   },
   "outputs": [],
   "source": [
    "# generate data from linear model: y = x1 + x2 + N(0, 1)\n",
    "n = 200\n",
    "p = 10\n",
    "s = 2\n",
    "X = np.random.normal(size=(n, p))\n",
    "beta = np.concatenate((np.ones(s), np.zeros(p-s)))\n",
    "y = np.matmul(X, beta) + np.random.normal(size=n)\n",
    "X_train, X_test, y_train, y_test = train_test_split(X, y, test_size=0.33, random_state=12345)"
   ]
  },
  {
   "cell_type": "markdown",
   "metadata": {
    "collapsed": false
   },
   "source": [
    "### 1.1 Local MDI+ (Feature Contribution) w/ Regression"
   ]
  },
  {
   "cell_type": "code",
   "execution_count": 294,
   "metadata": {
    "collapsed": false
   },
   "outputs": [],
   "source": [
    "# fit RF+\n",
    "rf_plus_model = RandomForestPlusRegressor(rf_model=rf_regressor, include_raw=False)\n",
    "rf_plus_model.fit(X_train, y_train)"
   ]
  },
  {
   "cell_type": "code",
   "execution_count": 295,
   "metadata": {
    "collapsed": false
   },
   "outputs": [
    {
     "data": {
      "text/plain": [
       "0.36153922459269183"
      ]
     },
     "execution_count": 295,
     "metadata": {},
     "output_type": "execute_result"
    }
   ],
   "source": [
    "# make predictions with RF+\n",
    "preds = rf_plus_model.predict(X_test)\n",
    "r2_score(y_test, preds)"
   ]
  },
  {
   "cell_type": "markdown",
   "metadata": {},
   "source": [
    "#### Leave-One-Out Coefficients: $LFI(i,k)=\\sum_{j=1}^p|\\hat{\\beta}^{(k)}_{-i,j}*\\Psi^{(k)}_{i,j}|$"
   ]
  },
  {
   "cell_type": "code",
   "execution_count": 296,
   "metadata": {
    "collapsed": false
   },
   "outputs": [],
   "source": [
    "# get MDI+ scores (higher r^2 value = greater importance)\n",
    "mdi_plus_scores = rf_plus_model.get_mdi_plus_scores(X_train, y_train, lfi=True,\n",
    "                                                    lfi_abs = \"inside\")"
   ]
  },
  {
   "cell_type": "code",
   "execution_count": 297,
   "metadata": {},
   "outputs": [
    {
     "name": "stdout",
     "output_type": "stream",
     "text": [
      "Local MDI+ w/ Leave-One-Out Coefficients and Inner Absolute Value\n",
      "------------------------------------\n",
      "            0         1         2         3         4         5         6  \\\n",
      "0    0.492901  0.754909  0.188679  0.078771  0.070798  0.061140  0.166825   \n",
      "1    0.558364  0.693242  0.123109  0.072985  0.072128  0.057468  0.197374   \n",
      "2    0.554491  0.862104  0.129659  0.060557  0.053545  0.059279  0.115065   \n",
      "3    0.559630  1.101681  0.108913  0.064710  0.051627  0.051499  0.149503   \n",
      "4    0.448522  0.622109  0.111504  0.065669  0.094904  0.101208  0.259028   \n",
      "..        ...       ...       ...       ...       ...       ...       ...   \n",
      "129  0.645876  0.627457  0.128792  0.078334  0.150669  0.058992  0.200149   \n",
      "130  0.467203  0.615661  0.106387  0.085278  0.084828  0.157217  0.197231   \n",
      "131  0.456709  1.103035  0.113017  0.064620  0.070451  0.042618  0.156995   \n",
      "132  0.440427  0.785996  0.163472  0.097232  0.059953  0.102608  0.135983   \n",
      "133  0.555986  0.703879  0.138478  0.073279  0.107760  0.060125  0.149241   \n",
      "\n",
      "            7         8         9  \n",
      "0    0.036058  0.131577  0.081353  \n",
      "1    0.045801  0.085626  0.066946  \n",
      "2    0.058154  0.114872  0.069750  \n",
      "3    0.064243  0.061290  0.059030  \n",
      "4    0.059627  0.083186  0.087883  \n",
      "..        ...       ...       ...  \n",
      "129  0.065194  0.072337  0.068990  \n",
      "130  0.041880  0.090210  0.067117  \n",
      "131  0.054331  0.079571  0.050959  \n",
      "132  0.042347  0.139263  0.069581  \n",
      "133  0.063653  0.104334  0.054270  \n",
      "\n",
      "[134 rows x 10 columns]\n",
      "------------------------------------\n",
      "Recall that the first two columns are the only ones with signal.\n",
      "Histogram of Rank of First Column (Red) and Second Column (Blue)\n"
     ]
    },
    {
     "data": {
      "image/png": "[encoded data removed]",
      "text/plain": [
       "<Figure size 640x480 with 1 Axes>"
      ]
     },
     "metadata": {},
     "output_type": "display_data"
    }
   ],
   "source": [
    "print(\"Local MDI+ w/ Leave-One-Out Coefficients and Inner Absolute Value\")\n",
    "print(\"------------------------------------\")\n",
    "lfi_loo_inner = mdi_plus_scores[\"lfi\"]\n",
    "print(lfi_loo_inner)\n",
    "print(\"------------------------------------\")\n",
    "print(\"Recall that the first two columns are the only ones with signal.\")\n",
    "print(\"Histogram of Rank of First Column (Red) and Second Column (Blue)\")\n",
    "lfi_rank = lfi_loo_inner.rank(axis=1, method=\"dense\", ascending=False)\n",
    "fig, ax = plt.subplots()\n",
    "ax.hist(lfi_rank.iloc[:, 0], alpha = 0.5, label='Feature #1', align = \"left\",\n",
    "        width = 0.4, color = \"red\")\n",
    "ax.hist(lfi_rank.iloc[:, 1], alpha = 0.5, label='Feature #2', align = \"right\",\n",
    "        width = 0.4, color = \"blue\")\n",
    "ax.set_xlabel('Ranked Importance')\n",
    "ax.set_ylabel('Frequency')\n",
    "ax.set_title('Paired Histogram')\n",
    "ax.legend()\n",
    "plt.show()"
   ]
  },
  {
   "cell_type": "markdown",
   "metadata": {},
   "source": [
    "#### Leave-One-Out Coefficients: $LFI(i,k)=|\\sum_{j=1}^p\\hat{\\beta}^{(k)}_{-i,j}*\\Psi^{(k)}_{i,j}|$"
   ]
  },
  {
   "cell_type": "code",
   "execution_count": 298,
   "metadata": {},
   "outputs": [],
   "source": [
    "# get MDI+ scores (higher r^2 value = greater importance)\n",
    "mdi_plus_scores = rf_plus_model.get_mdi_plus_scores(X_train, y_train, lfi=True,\n",
    "                                                    lfi_abs = \"outside\")"
   ]
  },
  {
   "cell_type": "code",
   "execution_count": 299,
   "metadata": {},
   "outputs": [
    {
     "name": "stdout",
     "output_type": "stream",
     "text": [
      "Local MDI+ w/ Leave-One-Out Coefficients and Outer Absolute Value\n",
      "------------------------------------\n",
      "            0         1         2         3         4         5         6  \\\n",
      "0    0.367065  0.551174  0.174281  0.072101  0.062353  0.057159  0.152092   \n",
      "1    0.537364  0.653855  0.106859  0.071054  0.070166  0.055975  0.180863   \n",
      "2    0.529237  0.720000  0.109712  0.058669  0.050777  0.058030  0.102724   \n",
      "3    0.447723  1.077215  0.095042  0.053882  0.047162  0.050443  0.136759   \n",
      "4    0.318608  0.410197  0.098078  0.059598  0.080806  0.094618  0.241092   \n",
      "..        ...       ...       ...       ...       ...       ...       ...   \n",
      "129  0.479824  0.494950  0.104098  0.075739  0.148691  0.056233  0.175729   \n",
      "130  0.420175  0.469492  0.086205  0.077942  0.083203  0.153574  0.192270   \n",
      "131  0.327169  1.081896  0.098757  0.052750  0.064203  0.040643  0.131323   \n",
      "132  0.375815  0.617672  0.139750  0.082301  0.056783  0.097471  0.123307   \n",
      "133  0.529976  0.642240  0.119891  0.071148  0.105836  0.058796  0.132738   \n",
      "\n",
      "            7         8         9  \n",
      "0    0.035537  0.126671  0.063620  \n",
      "1    0.039262  0.080421  0.062393  \n",
      "2    0.051358  0.105820  0.061699  \n",
      "3    0.063068  0.058198  0.043858  \n",
      "4    0.055639  0.070445  0.081686  \n",
      "..        ...       ...       ...  \n",
      "129  0.063658  0.063821  0.054104  \n",
      "130  0.041302  0.078757  0.060024  \n",
      "131  0.053717  0.070303  0.045233  \n",
      "132  0.041871  0.135799  0.061036  \n",
      "133  0.057455  0.096260  0.049265  \n",
      "\n",
      "[134 rows x 10 columns]\n",
      "------------------------------------\n",
      "Recall that the first two columns are the only ones with signal.\n",
      "Histogram of Rank of First Column (Red) and Second Column (Blue)\n"
     ]
    },
    {
     "data": {
      "image/png": "[encoded data removed]",
      "text/plain": [
       "<Figure size 640x480 with 1 Axes>"
      ]
     },
     "metadata": {},
     "output_type": "display_data"
    }
   ],
   "source": [
    "print(\"Local MDI+ w/ Leave-One-Out Coefficients and Outer Absolute Value\")\n",
    "print(\"------------------------------------\")\n",
    "lfi_loo_outer = mdi_plus_scores[\"lfi\"]\n",
    "print(lfi_loo_outer)\n",
    "print(\"------------------------------------\")\n",
    "print(\"Recall that the first two columns are the only ones with signal.\")\n",
    "print(\"Histogram of Rank of First Column (Red) and Second Column (Blue)\")\n",
    "lfi_rank = lfi_loo_outer.rank(axis=1, method=\"dense\", ascending=False)\n",
    "fig, ax = plt.subplots()\n",
    "ax.hist(lfi_rank.iloc[:, 0], alpha = 0.5, label='Feature #1', align = \"left\",\n",
    "        width = 0.4, color = \"red\")\n",
    "ax.hist(lfi_rank.iloc[:, 1], alpha = 0.5, label='Feature #2', align = \"right\",\n",
    "        width = 0.4, color = \"blue\")\n",
    "ax.set_xlabel('Ranked Importance')\n",
    "ax.set_ylabel('Frequency')\n",
    "ax.set_title('Paired Histogram')\n",
    "ax.legend()\n",
    "plt.show()"
   ]
  }
 ],
 "metadata": {
  "kernelspec": {
   "display_name": "Python 3",
   "language": "python",
   "name": "python3"
  },
  "language_info": {
   "codemirror_mode": {
    "name": "ipython",
    "version": 3
   },
   "file_extension": ".py",
   "mimetype": "text/x-python",
   "name": "python",
   "nbconvert_exporter": "python",
   "pygments_lexer": "ipython3",
   "version": "3.11.0"
  }
 },
 "nbformat": 4,
 "nbformat_minor": 0
}
