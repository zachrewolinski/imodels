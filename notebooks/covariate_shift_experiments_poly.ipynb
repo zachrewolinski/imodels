{
 "cells": [
  {
   "cell_type": "markdown",
   "metadata": {},
   "source": [
    "### Introduction:\n",
    "##### This notebook delves into covariate shift experiments within a linear + polynomial interaction data distribution setting.\n",
    "\n",
    "### Methods Considered:\n",
    "##### a) MDI+ (\"All\" version) with and without raw features\n",
    "##### b) LFI (\"none\" version) with and without raw features\n",
    "##### c) Treeshap"
   ]
  },
  {
   "cell_type": "code",
   "execution_count": null,
   "metadata": {},
   "outputs": [],
   "source": [
    "%reload_ext autoreload\n",
    "%autoreload 2\n",
    "import sys\n",
    "sys.path.append(\"../\")\n",
    "sys.path.append(\"../../\")\n",
    "\n",
    "import numpy as np\n",
    "import pandas as pd\n",
    "import matplotlib.pyplot as plt\n",
    "from sklearn.model_selection import train_test_split\n",
    "from sklearn.ensemble import RandomForestRegressor, RandomForestClassifier\n",
    "from sklearn.metrics import r2_score, mean_absolute_error, accuracy_score, roc_auc_score, mean_squared_error\n",
    "\n",
    "from imodels.importance import RandomForestPlusRegressor, RandomForestPlusClassifier, \\\n",
    "    RidgeRegressorPPM, LassoRegressorPPM, IdentityTransformer\n",
    "from imodels.importance.rf_plus import _fast_r2_score\n",
    "import seaborn as sns\n",
    "import shap\n",
    "import sklearn\n",
    "import copy\n",
    "coolwarm_camp = sns.color_palette(\"coolwarm\", as_cmap=True)"
   ]
  },
  {
   "cell_type": "code",
   "execution_count": null,
   "metadata": {},
   "outputs": [],
   "source": [
    "def sample_normal_X_subgroups(n, d, mean, scale):\n",
    "    \"\"\"\n",
    "    :param n: Number of samples\n",
    "    :param d: Number of features\n",
    "    :param mean: Nested list of mean of normal distribution for each subgroup\n",
    "    :param scale: Nested ist of scale of normal distribution for each subgroup\n",
    "    :return:\n",
    "    \"\"\"\n",
    "    np.random.seed(0)\n",
    "    assert len(mean[0]) == len(scale[0]) == d\n",
    "    num_groups = len(mean)\n",
    "    result = []\n",
    "    group_size = n // num_groups\n",
    "    for i in range(num_groups):\n",
    "        X = np.zeros((group_size, d))\n",
    "        for j in range(d):\n",
    "            X[:, j] = np.random.normal(mean[i][j], scale[i][j], size=group_size)\n",
    "        result.append(X)\n",
    "    return np.vstack(result)"
   ]
  },
  {
   "cell_type": "code",
   "execution_count": null,
   "metadata": {},
   "outputs": [],
   "source": [
    "def tree_shap_local(X, y, fit):\n",
    "    \"\"\"\n",
    "    Compute average treeshap value across observations.\n",
    "    Larger absolute values indicate more important features.\n",
    "    :param X: design matrix\n",
    "    :param y: response\n",
    "    :param fit: fitted model of interest (tree-based)\n",
    "    :return: dataframe of shape: (n_samples, n_features)\n",
    "    \"\"\"\n",
    "    explainer = shap.TreeExplainer(fit)\n",
    "    shap_values = explainer.shap_values(X, check_additivity=False)\n",
    "    if sklearn.base.is_classifier(fit):\n",
    "        # Shape values are returned as a list of arrays, one for each class\n",
    "        assert False, \"Not implemented for classification\"\n",
    "        def add_abs(a, b):\n",
    "            return abs(a) + abs(b)\n",
    "        results = reduce(add_abs, shap_values)\n",
    "    else:\n",
    "        results = shap_values\n",
    "    result_table = pd.DataFrame(results, columns=[f'Feature_{i}' for i in range(X.shape[1])])\n",
    "\n",
    "    return result_table"
   ]
  },
  {
   "cell_type": "code",
   "execution_count": null,
   "metadata": {},
   "outputs": [],
   "source": [
    "def reg_func(x, beta, m, r):\n",
    "    y = 0\n",
    "    for i in range(m):\n",
    "        hier_term = 1.0\n",
    "        for j in range(r):\n",
    "            hier_term += x[i * r + j] * hier_term\n",
    "        y += hier_term * beta[i]\n",
    "    return y"
   ]
  },
  {
   "cell_type": "markdown",
   "metadata": {},
   "source": [
    "# Two Groups Analysis 1\n",
    "Sample Size: 200  \n",
    "Features: 10  \n",
    "Signal Features: 5  \n",
    "First group: all 10 features ~ N(0,1)  \n",
    "Second group: all 10 features ~ N(10,1)  "
   ]
  },
  {
   "cell_type": "code",
   "execution_count": null,
   "metadata": {},
   "outputs": [],
   "source": [
    "n = 200\n",
    "d = 10\n",
    "mean = [[0]*10, [10]*10]\n",
    "scale = [[1]*10,[1]*10]\n",
    "s = 5\n",
    "X = sample_normal_X_subgroups(n, d, mean, scale)\n",
    "m = 3\n",
    "r = 2\n",
    "beta = np.ones(m)\n",
    "y = np.array([reg_func(X[i, :], beta, m, r) for i in range(X.shape[0])])"
   ]
  },
  {
   "cell_type": "markdown",
   "metadata": {},
   "source": [
    "# Without Raw"
   ]
  },
  {
   "cell_type": "code",
   "execution_count": null,
   "metadata": {},
   "outputs": [],
   "source": [
    "rf_regressor = RandomForestRegressor(n_estimators=100, min_samples_leaf=5, max_features=0.33, random_state=331)\n",
    "rf_plus_model = RandomForestPlusRegressor(rf_model=copy.deepcopy(rf_regressor), include_raw=False)\n",
    "rf_plus_model.fit(X, y)"
   ]
  },
  {
   "cell_type": "code",
   "execution_count": null,
   "metadata": {},
   "outputs": [],
   "source": [
    "mdi_plus_scores = rf_plus_model.get_mdi_plus_scores(X, y, local_scoring_fns=mean_squared_error, version=\"all\", lfi=False)\n",
    "plt.figure(figsize=(15, 5))  \n",
    "plt.subplot(1, 3, 1)\n",
    "sns.heatmap(mdi_plus_scores[\"local\"], cmap=coolwarm_camp, xticklabels=\"auto\", yticklabels=\"auto\")\n",
    "plt.title(\"MDI\")\n",
    "plt.xlabel(\"Feature Number\")\n",
    "plt.ylabel(\"Feature Importance Score - lower better\")\n",
    "\n",
    "rf_regressor.fit(X, y)\n",
    "shap_val = tree_shap_local(X, y, rf_regressor)\n",
    "shap_val.columns = [f'{i}' for i in range(X.shape[1])]\n",
    "plt.subplot(1, 3, 2)\n",
    "sns.heatmap(shap_val, cmap=coolwarm_camp, xticklabels=\"auto\", yticklabels=\"auto\", vmin=-50, vmax=50)\n",
    "plt.title(\"SHAP Values\")\n",
    "plt.xlabel(\"Feature Number\")\n",
    "plt.ylabel(\"Feature Importance Score - higher absolute better\")\n",
    "\n",
    "mdi_plus_scores = rf_plus_model.get_mdi_plus_scores(X, y, lfi=True, lfi_abs=\"none\")\n",
    "plt.subplot(1, 3, 3)\n",
    "sns.heatmap(mdi_plus_scores[\"lfi\"], cmap=coolwarm_camp, xticklabels=\"auto\", yticklabels=\"auto\", vmin=-50, vmax=50)\n",
    "plt.title(\"LFI without Absolute Values\")\n",
    "plt.xlabel(\"Feature Number\")\n",
    "plt.ylabel(\"Feature Importance Score - higher absolute better\")\n",
    "\n",
    "plt.tight_layout() \n",
    "plt.savefig(\"twogroups1_without_raw_poly.png\")\n",
    "plt.show()"
   ]
  },
  {
   "cell_type": "markdown",
   "metadata": {},
   "source": [
    "# With Raw"
   ]
  },
  {
   "cell_type": "code",
   "execution_count": null,
   "metadata": {},
   "outputs": [],
   "source": [
    "rf_regressor = RandomForestRegressor(n_estimators=100, min_samples_leaf=5, max_features=0.33, random_state=331)\n",
    "rf_plus_model = RandomForestPlusRegressor(rf_model=copy.deepcopy(rf_regressor), include_raw=True)\n",
    "rf_plus_model.fit(X, y)"
   ]
  },
  {
   "cell_type": "code",
   "execution_count": null,
   "metadata": {},
   "outputs": [],
   "source": [
    "mdi_plus_scores = rf_plus_model.get_mdi_plus_scores(X, y, local_scoring_fns=mean_squared_error, version=\"all\", lfi=False)\n",
    "plt.figure(figsize=(15, 5)) \n",
    "plt.subplot(1, 3, 1)\n",
    "sns.heatmap(mdi_plus_scores[\"local\"], cmap=coolwarm_camp, xticklabels=\"auto\", yticklabels=\"auto\")\n",
    "plt.title(\"MDI\")\n",
    "plt.xlabel(\"Feature Number\")\n",
    "plt.ylabel(\"Feature Importance Score - lower better\")\n",
    "\n",
    "rf_regressor.fit(X, y)\n",
    "shap_val = tree_shap_local(X, y, rf_regressor)\n",
    "shap_val.columns = [f'{i}' for i in range(X.shape[1])]\n",
    "plt.subplot(1, 3, 2)\n",
    "sns.heatmap(shap_val, cmap=coolwarm_camp, xticklabels=\"auto\", yticklabels=\"auto\", vmin=-50, vmax=50)\n",
    "plt.title(\"SHAP Values\")\n",
    "plt.xlabel(\"Feature Number\")\n",
    "plt.ylabel(\"Feature Importance Score - higher absolute better\")\n",
    "\n",
    "mdi_plus_scores = rf_plus_model.get_mdi_plus_scores(X, y, lfi=True, lfi_abs=\"none\")\n",
    "plt.subplot(1, 3, 3)\n",
    "sns.heatmap(mdi_plus_scores[\"lfi\"], cmap=coolwarm_camp, xticklabels=\"auto\", yticklabels=\"auto\", vmin=-50, vmax=50)\n",
    "plt.title(\"LFI without Absolute Values\")\n",
    "plt.xlabel(\"Feature Number\")\n",
    "plt.ylabel(\"Feature Importance Score - higher absolute better\")\n",
    "\n",
    "plt.tight_layout() \n",
    "plt.savefig(\"twogroups1_with_raw_poly.png\")\n",
    "plt.show()"
   ]
  },
  {
   "cell_type": "markdown",
   "metadata": {},
   "source": [
    "# Two Groups Analysis 2\n",
    "Sample Size: 200  \n",
    "Features: 10  \n",
    "Signal Features: 5  \n",
    "First group: signal features ~ N(0,1), other features ~ N(0,1)  \n",
    "Second group: signal features ~ N(10,1), other features ~ N(0,1)  "
   ]
  },
  {
   "cell_type": "code",
   "execution_count": null,
   "metadata": {},
   "outputs": [],
   "source": [
    "n = 200\n",
    "d = 10\n",
    "mean = [[0]*10, [10]*6 + [0]*4]\n",
    "scale = [[1]*10,[1]*10]\n",
    "s = 5\n",
    "X = sample_normal_X_subgroups(n, d, mean, scale)     \n",
    "m = 3\n",
    "r = 2\n",
    "beta = np.ones(m)\n",
    "y = np.array([reg_func(X[i, :], beta, m, r) for i in range(X.shape[0])])"
   ]
  },
  {
   "cell_type": "markdown",
   "metadata": {},
   "source": [
    "# Without Raw"
   ]
  },
  {
   "cell_type": "code",
   "execution_count": null,
   "metadata": {},
   "outputs": [],
   "source": [
    "rf_regressor = RandomForestRegressor(n_estimators=100, min_samples_leaf=5, max_features=0.33, random_state=331)\n",
    "rf_plus_model = RandomForestPlusRegressor(rf_model=copy.deepcopy(rf_regressor), include_raw=False)\n",
    "rf_plus_model.fit(X, y)"
   ]
  },
  {
   "cell_type": "code",
   "execution_count": null,
   "metadata": {},
   "outputs": [],
   "source": [
    "mdi_plus_scores = rf_plus_model.get_mdi_plus_scores(X, y, local_scoring_fns=mean_squared_error, version=\"all\", lfi=False)\n",
    "plt.figure(figsize=(15, 5)) \n",
    "plt.subplot(1, 3, 1)\n",
    "sns.heatmap(mdi_plus_scores[\"local\"], cmap=coolwarm_camp, xticklabels=\"auto\", yticklabels=\"auto\")\n",
    "plt.title(\"MDI\")\n",
    "plt.xlabel(\"Feature Number\")\n",
    "plt.ylabel(\"Feature Importance Score - lower better\")\n",
    "\n",
    "rf_regressor.fit(X, y)\n",
    "shap_val = tree_shap_local(X, y, rf_regressor)\n",
    "shap_val.columns = [f'{i}' for i in range(X.shape[1])]\n",
    "plt.subplot(1, 3, 2)\n",
    "sns.heatmap(shap_val, cmap=coolwarm_camp, xticklabels=\"auto\", yticklabels=\"auto\", vmin=-50, vmax=50)\n",
    "plt.title(\"SHAP Values\")\n",
    "plt.xlabel(\"Feature Number\")\n",
    "plt.ylabel(\"Feature Importance Score - higher absolute better\")\n",
    "\n",
    "mdi_plus_scores = rf_plus_model.get_mdi_plus_scores(X, y, lfi=True, lfi_abs=\"none\")\n",
    "plt.subplot(1, 3, 3)\n",
    "sns.heatmap(mdi_plus_scores[\"lfi\"], cmap=coolwarm_camp, xticklabels=\"auto\", yticklabels=\"auto\", vmin=-50, vmax=50)\n",
    "plt.title(\"LFI without Absolute Values\")\n",
    "plt.xlabel(\"Feature Number\")\n",
    "plt.ylabel(\"Feature Importance Score - higher absolute better\")\n",
    "\n",
    "plt.tight_layout() \n",
    "plt.savefig(\"twogroups2_without_raw_poly.png\")\n",
    "plt.show()"
   ]
  },
  {
   "cell_type": "markdown",
   "metadata": {},
   "source": [
    "# With Raw"
   ]
  },
  {
   "cell_type": "code",
   "execution_count": null,
   "metadata": {},
   "outputs": [],
   "source": [
    "rf_regressor = RandomForestRegressor(n_estimators=100, min_samples_leaf=5, max_features=0.33, random_state=331)\n",
    "rf_plus_model = RandomForestPlusRegressor(rf_model=copy.deepcopy(rf_regressor), include_raw=True)\n",
    "rf_plus_model.fit(X, y)"
   ]
  },
  {
   "cell_type": "code",
   "execution_count": null,
   "metadata": {},
   "outputs": [],
   "source": [
    "mdi_plus_scores = rf_plus_model.get_mdi_plus_scores(X, y, local_scoring_fns=mean_squared_error, version=\"all\", lfi=False)\n",
    "plt.figure(figsize=(15, 5))  # Adjusted width to accommodate three plots side-by-side\n",
    "plt.subplot(1, 3, 1)\n",
    "sns.heatmap(mdi_plus_scores[\"local\"], cmap=coolwarm_camp, xticklabels=\"auto\", yticklabels=\"auto\")\n",
    "plt.title(\"MDI\")\n",
    "plt.xlabel(\"Feature Number\")\n",
    "plt.ylabel(\"Feature Importance Score - lower better\")\n",
    "\n",
    "rf_regressor.fit(X, y)\n",
    "shap_val = tree_shap_local(X, y, rf_regressor)\n",
    "shap_val.columns = [f'{i}' for i in range(X.shape[1])]\n",
    "plt.subplot(1, 3, 2)\n",
    "sns.heatmap(shap_val, cmap=coolwarm_camp, xticklabels=\"auto\", yticklabels=\"auto\", vmin=-50, vmax=50)\n",
    "plt.title(\"SHAP Values\")\n",
    "plt.xlabel(\"Feature Number\")\n",
    "plt.ylabel(\"Feature Importance Score - higher absolute better\")\n",
    "\n",
    "mdi_plus_scores = rf_plus_model.get_mdi_plus_scores(X, y, lfi=True, lfi_abs=\"none\")\n",
    "plt.subplot(1, 3, 3)\n",
    "sns.heatmap(mdi_plus_scores[\"lfi\"], cmap=coolwarm_camp, xticklabels=\"auto\", yticklabels=\"auto\", vmin=-50, vmax=50)\n",
    "plt.title(\"LFI without Absolute Values\")\n",
    "plt.xlabel(\"Feature Number\")\n",
    "plt.ylabel(\"Feature Importance Score - higher absolute better\")\n",
    "\n",
    "plt.tight_layout() \n",
    "plt.savefig(\"twogroups2_with_raw_poly.png\")\n",
    "plt.show()"
   ]
  },
  {
   "cell_type": "markdown",
   "metadata": {},
   "source": [
    "# Two Groups Variance Analysis\n",
    "Sample Size: 200  \n",
    "Features: 10  \n",
    "Signal Features: 5  \n",
    "First group: signal features ~ N(0,1), other features ~ N(0,1)  \n",
    "Second group: signal features ~ N(10,10), other features ~ N(0,1)"
   ]
  },
  {
   "cell_type": "markdown",
   "metadata": {},
   "source": [
    "# Without Raw"
   ]
  },
  {
   "cell_type": "code",
   "execution_count": null,
   "metadata": {},
   "outputs": [],
   "source": [
    "n = 300\n",
    "d = 10\n",
    "mean = [[0]*6+[0]*4, [10]*6+[0]*4]\n",
    "scale = [[1]*6+[1]*4,[10]*6+[1]*4]\n",
    "s = 5\n",
    "X = sample_normal_X_subgroups(n, d, mean, scale)\n",
    "m = 3\n",
    "r = 2\n",
    "beta = np.ones(m)\n",
    "y = np.array([reg_func(X[i, :], beta, m, r) for i in range(X.shape[0])])"
   ]
  },
  {
   "cell_type": "code",
   "execution_count": null,
   "metadata": {},
   "outputs": [],
   "source": [
    "rf_regressor = RandomForestRegressor(n_estimators=100, min_samples_leaf=5, max_features=0.33, random_state=331)\n",
    "rf_plus_model = RandomForestPlusRegressor(rf_model=copy.deepcopy(rf_regressor), include_raw=False)\n",
    "rf_plus_model.fit(X, y)"
   ]
  },
  {
   "cell_type": "code",
   "execution_count": null,
   "metadata": {},
   "outputs": [],
   "source": [
    "mdi_plus_scores = rf_plus_model.get_mdi_plus_scores(X, y, local_scoring_fns=mean_squared_error, version=\"all\", lfi=False)\n",
    "plt.figure(figsize=(15, 5))  # Adjusted width to accommodate three plots side-by-side\n",
    "plt.subplot(1, 3, 1)\n",
    "sns.heatmap(mdi_plus_scores[\"local\"], cmap=coolwarm_camp, xticklabels=\"auto\", yticklabels=\"auto\")\n",
    "plt.title(\"MDI\")\n",
    "plt.xlabel(\"Feature Number\")\n",
    "plt.ylabel(\"Feature Importance Score - lower better\")\n",
    "\n",
    "rf_regressor.fit(X, y)\n",
    "shap_val = tree_shap_local(X, y, rf_regressor)\n",
    "shap_val.columns = [f'{i}' for i in range(X.shape[1])]\n",
    "plt.subplot(1, 3, 2)\n",
    "sns.heatmap(shap_val, cmap=coolwarm_camp, xticklabels=\"auto\", yticklabels=\"auto\", vmin=-170, vmax=170)\n",
    "plt.title(\"SHAP Values\")\n",
    "plt.xlabel(\"Feature Number\")\n",
    "plt.ylabel(\"Feature Importance Score - higher absolute better\")\n",
    "\n",
    "mdi_plus_scores = rf_plus_model.get_mdi_plus_scores(X, y, lfi=True, lfi_abs=\"none\")\n",
    "plt.subplot(1, 3, 3)\n",
    "sns.heatmap(mdi_plus_scores[\"lfi\"], cmap=coolwarm_camp, xticklabels=\"auto\", yticklabels=\"auto\", vmin=-170, vmax=170)\n",
    "plt.title(\"LFI without Absolute Values\")\n",
    "plt.xlabel(\"Feature Number\")\n",
    "plt.ylabel(\"Feature Importance Score - higher absolute better\")\n",
    "\n",
    "plt.tight_layout() \n",
    "plt.savefig(\"twogroups3_without_raw_poly.png\")\n",
    "plt.show()"
   ]
  },
  {
   "cell_type": "markdown",
   "metadata": {},
   "source": [
    "# With Raw"
   ]
  },
  {
   "cell_type": "code",
   "execution_count": null,
   "metadata": {},
   "outputs": [],
   "source": [
    "rf_regressor = RandomForestRegressor(n_estimators=100, min_samples_leaf=5, max_features=0.33, random_state=331)\n",
    "rf_plus_model = RandomForestPlusRegressor(rf_model=copy.deepcopy(rf_regressor), include_raw=True)\n",
    "rf_plus_model.fit(X, y)"
   ]
  },
  {
   "cell_type": "code",
   "execution_count": null,
   "metadata": {},
   "outputs": [],
   "source": [
    "mdi_plus_scores = rf_plus_model.get_mdi_plus_scores(X, y, local_scoring_fns=mean_squared_error, version=\"all\", lfi=False)\n",
    "plt.figure(figsize=(15, 5))  # Adjusted width to accommodate three plots side-by-side\n",
    "plt.subplot(1, 3, 1)\n",
    "sns.heatmap(mdi_plus_scores[\"local\"], cmap=coolwarm_camp, xticklabels=\"auto\", yticklabels=\"auto\")\n",
    "plt.title(\"MDI\")\n",
    "plt.xlabel(\"Feature Number\")\n",
    "plt.ylabel(\"Feature Importance Score - lower better\")\n",
    "\n",
    "rf_regressor.fit(X, y)\n",
    "shap_val = tree_shap_local(X, y, rf_regressor)\n",
    "shap_val.columns = [f'{i}' for i in range(X.shape[1])]\n",
    "plt.subplot(1, 3, 2)\n",
    "sns.heatmap(shap_val, cmap=coolwarm_camp, xticklabels=\"auto\", yticklabels=\"auto\", vmin=-170, vmax=170)\n",
    "plt.title(\"SHAP Values\")\n",
    "plt.xlabel(\"Feature Number\")\n",
    "plt.ylabel(\"Feature Importance Score - higher absolute better\")\n",
    "\n",
    "mdi_plus_scores = rf_plus_model.get_mdi_plus_scores(X, y, lfi=True, lfi_abs=\"none\")\n",
    "plt.subplot(1, 3, 3)\n",
    "sns.heatmap(mdi_plus_scores[\"lfi\"], cmap=coolwarm_camp, xticklabels=\"auto\", yticklabels=\"auto\", vmin=-170, vmax=170)\n",
    "plt.title(\"LFI without Absolute Values\")\n",
    "plt.xlabel(\"Feature Number\")\n",
    "plt.ylabel(\"Feature Importance Score - higher absolute better\")\n",
    "\n",
    "plt.tight_layout() \n",
    "plt.savefig(\"twogroups3_with_raw_poly.png\")\n",
    "plt.show()"
   ]
  },
  {
   "cell_type": "markdown",
   "metadata": {},
   "source": [
    "# Three Groups Analysis\n",
    "Sample Size: 300  \n",
    "Features: 10  \n",
    "Signal Features: 5  \n",
    "First group: signal features ~ N(0,1), other features ~ N(0,1)  \n",
    "Second group: signal features ~ N(10,1), other features ~ N(0,1)  \n",
    "Third group: signal features ~ N(20,1), other features ~ N(0,1)  "
   ]
  },
  {
   "cell_type": "code",
   "execution_count": null,
   "metadata": {},
   "outputs": [],
   "source": [
    "n = 300\n",
    "d = 10\n",
    "mean = [[0]*6+[0]*4,[10]*6+[0]*4,[20]*6+[0]*4]\n",
    "scale = [[1]*10,[1]*10,[1]*10]\n",
    "s = 5\n",
    "X = sample_normal_X_subgroups(n, d, mean, scale)\n",
    "m = 3\n",
    "r = 2\n",
    "beta = np.ones(m)\n",
    "y = np.array([reg_func(X[i, :], beta, m, r) for i in range(X.shape[0])])"
   ]
  },
  {
   "cell_type": "markdown",
   "metadata": {},
   "source": [
    "# Without Raw"
   ]
  },
  {
   "cell_type": "code",
   "execution_count": null,
   "metadata": {},
   "outputs": [],
   "source": [
    "rf_regressor = RandomForestRegressor(n_estimators=100, min_samples_leaf=5, max_features=0.33, random_state=331)\n",
    "rf_plus_model = RandomForestPlusRegressor(rf_model=copy.deepcopy(rf_regressor), include_raw=False)\n",
    "rf_plus_model.fit(X, y)"
   ]
  },
  {
   "cell_type": "code",
   "execution_count": null,
   "metadata": {},
   "outputs": [],
   "source": [
    "mdi_plus_scores = rf_plus_model.get_mdi_plus_scores(X, y, local_scoring_fns=mean_squared_error, version=\"all\", lfi=False)\n",
    "plt.figure(figsize=(15, 5))  # Adjusted width to accommodate three plots side-by-side\n",
    "plt.subplot(1, 3, 1)\n",
    "sns.heatmap(mdi_plus_scores[\"local\"], cmap=coolwarm_camp, xticklabels=\"auto\", yticklabels=\"auto\")\n",
    "plt.title(\"MDI\")\n",
    "plt.xlabel(\"Feature Number\")\n",
    "plt.ylabel(\"Feature Importance Score - lower better\")\n",
    "\n",
    "rf_regressor.fit(X, y)\n",
    "shap_val = tree_shap_local(X, y, rf_regressor)\n",
    "shap_val.columns = [f'{i}' for i in range(X.shape[1])]\n",
    "plt.subplot(1, 3, 2)\n",
    "sns.heatmap(shap_val, cmap=coolwarm_camp, xticklabels=\"auto\", yticklabels=\"auto\", vmin=-175, vmax=175)\n",
    "plt.title(\"SHAP Values\")\n",
    "plt.xlabel(\"Feature Number\")\n",
    "plt.ylabel(\"Feature Importance Score - higher absolute better\")\n",
    "\n",
    "mdi_plus_scores = rf_plus_model.get_mdi_plus_scores(X, y, lfi=True, lfi_abs=\"none\")\n",
    "plt.subplot(1, 3, 3)\n",
    "sns.heatmap(mdi_plus_scores[\"lfi\"], cmap=coolwarm_camp, xticklabels=\"auto\", yticklabels=\"auto\", vmin=-175, vmax=175)\n",
    "plt.title(\"LFI without Absolute Values\")\n",
    "plt.xlabel(\"Feature Number\")\n",
    "plt.ylabel(\"Feature Importance Score - higher absolute better\")\n",
    "\n",
    "plt.tight_layout() \n",
    "plt.savefig(\"threesubgroups1_without_raw_poly.png\")\n",
    "plt.show()"
   ]
  },
  {
   "cell_type": "markdown",
   "metadata": {},
   "source": [
    "# With Raw"
   ]
  },
  {
   "cell_type": "code",
   "execution_count": null,
   "metadata": {},
   "outputs": [],
   "source": [
    "rf_regressor = RandomForestRegressor(n_estimators=100, min_samples_leaf=5, max_features=0.33, random_state=331)\n",
    "rf_plus_model = RandomForestPlusRegressor(rf_model=copy.deepcopy(rf_regressor), include_raw=True)\n",
    "rf_plus_model.fit(X, y)"
   ]
  },
  {
   "cell_type": "code",
   "execution_count": null,
   "metadata": {},
   "outputs": [],
   "source": [
    "mdi_plus_scores = rf_plus_model.get_mdi_plus_scores(X, y, local_scoring_fns=mean_squared_error, version=\"all\", lfi=False)\n",
    "plt.figure(figsize=(15, 5))  # Adjusted width to accommodate three plots side-by-side\n",
    "plt.subplot(1, 3, 1)\n",
    "sns.heatmap(mdi_plus_scores[\"local\"], cmap=coolwarm_camp, xticklabels=\"auto\", yticklabels=\"auto\")\n",
    "plt.title(\"MDI\")\n",
    "plt.xlabel(\"Feature Number\")\n",
    "plt.ylabel(\"Feature Importance Score - lower better\")\n",
    "\n",
    "rf_regressor.fit(X, y)\n",
    "shap_val = tree_shap_local(X, y, rf_regressor)\n",
    "shap_val.columns = [f'{i}' for i in range(X.shape[1])]\n",
    "plt.subplot(1, 3, 2)\n",
    "sns.heatmap(shap_val, cmap=coolwarm_camp, xticklabels=\"auto\", yticklabels=\"auto\", vmin=-175, vmax=175)\n",
    "plt.title(\"SHAP Values\")\n",
    "plt.xlabel(\"Feature Number\")\n",
    "plt.ylabel(\"Feature Importance Score - higher absolute better\")\n",
    "\n",
    "mdi_plus_scores = rf_plus_model.get_mdi_plus_scores(X, y, lfi=True, lfi_abs=\"none\")\n",
    "plt.subplot(1, 3, 3)\n",
    "sns.heatmap(mdi_plus_scores[\"lfi\"], cmap=coolwarm_camp, xticklabels=\"auto\", yticklabels=\"auto\", vmin=-175, vmax=175)\n",
    "plt.title(\"LFI without Absolute Values\")\n",
    "plt.xlabel(\"Feature Number\")\n",
    "plt.ylabel(\"Feature Importance Score - higher absolute better\")\n",
    "\n",
    "plt.tight_layout()\n",
    "plt.savefig(\"threesubgroups1_with_raw_poly.png\")\n",
    "plt.show()"
   ]
  },
  {
   "cell_type": "markdown",
   "metadata": {},
   "source": [
    "# Three Groups Analysis\n",
    "Sample Size: 300  \n",
    "Features: 10  \n",
    "Signal Features: 5  \n",
    "First group: signal features ~ N(0,1), other features ~ N(0,1)  \n",
    "Second group: signal features ~ N(10,1), other features ~ N(10,1)  \n",
    "Third group: signal features ~ N(20,1), other features ~ N(20,1)  "
   ]
  },
  {
   "cell_type": "code",
   "execution_count": null,
   "metadata": {},
   "outputs": [],
   "source": [
    "n = 300\n",
    "d = 10\n",
    "mean = [[0]*10,[10]*10,[20]*10]\n",
    "scale = [[1]*10,[1]*10,[1]*10]\n",
    "s = 5\n",
    "X = sample_normal_X_subgroups(n, d, mean, scale)\n",
    "m = 3\n",
    "r = 2\n",
    "beta = np.ones(m)\n",
    "y = np.array([reg_func(X[i, :], beta, m, r) for i in range(X.shape[0])])"
   ]
  },
  {
   "cell_type": "markdown",
   "metadata": {},
   "source": [
    "# Without Raw"
   ]
  },
  {
   "cell_type": "code",
   "execution_count": null,
   "metadata": {},
   "outputs": [],
   "source": [
    "rf_regressor = RandomForestRegressor(n_estimators=100, min_samples_leaf=5, max_features=0.33, random_state=331)\n",
    "rf_plus_model = RandomForestPlusRegressor(rf_model=copy.deepcopy(rf_regressor), include_raw=False)\n",
    "rf_plus_model.fit(X, y)"
   ]
  },
  {
   "cell_type": "code",
   "execution_count": null,
   "metadata": {},
   "outputs": [],
   "source": [
    "mdi_plus_scores = rf_plus_model.get_mdi_plus_scores(X, y, local_scoring_fns=mean_squared_error, version=\"all\", lfi=False)\n",
    "plt.figure(figsize=(15, 5))  # Adjusted width to accommodate three plots side-by-side\n",
    "plt.subplot(1, 3, 1)\n",
    "sns.heatmap(mdi_plus_scores[\"local\"], cmap=coolwarm_camp, xticklabels=\"auto\", yticklabels=\"auto\")\n",
    "plt.title(\"MDI\")\n",
    "plt.xlabel(\"Feature Number\")\n",
    "plt.ylabel(\"Feature Importance Score - lower better\")\n",
    "\n",
    "rf_regressor.fit(X, y)\n",
    "shap_val = tree_shap_local(X, y, rf_regressor)\n",
    "shap_val.columns = [f'{i}' for i in range(X.shape[1])]\n",
    "plt.subplot(1, 3, 2)\n",
    "sns.heatmap(shap_val, cmap=coolwarm_camp, xticklabels=\"auto\", yticklabels=\"auto\", vmin=-175, vmax=175)\n",
    "plt.title(\"SHAP Values\")\n",
    "plt.xlabel(\"Feature Number\")\n",
    "plt.ylabel(\"Feature Importance Score - higher absolute better\")\n",
    "\n",
    "mdi_plus_scores = rf_plus_model.get_mdi_plus_scores(X, y, lfi=True, lfi_abs=\"none\")\n",
    "plt.subplot(1, 3, 3)\n",
    "sns.heatmap(mdi_plus_scores[\"lfi\"], cmap=coolwarm_camp, xticklabels=\"auto\", yticklabels=\"auto\", vmin=-175, vmax=175)\n",
    "plt.title(\"LFI without Absolute Values\")\n",
    "plt.xlabel(\"Feature Number\")\n",
    "plt.ylabel(\"Feature Importance Score - higher absolute better\")\n",
    "\n",
    "plt.tight_layout() \n",
    "plt.savefig(\"threesubgroups2_without_raw_poly.png\")\n",
    "plt.show()"
   ]
  },
  {
   "cell_type": "markdown",
   "metadata": {},
   "source": [
    "# With Raw"
   ]
  },
  {
   "cell_type": "code",
   "execution_count": null,
   "metadata": {},
   "outputs": [],
   "source": [
    "rf_regressor = RandomForestRegressor(n_estimators=100, min_samples_leaf=5, max_features=0.33, random_state=331)\n",
    "rf_plus_model = RandomForestPlusRegressor(rf_model=copy.deepcopy(rf_regressor), include_raw=True)\n",
    "rf_plus_model.fit(X, y)"
   ]
  },
  {
   "cell_type": "code",
   "execution_count": null,
   "metadata": {},
   "outputs": [],
   "source": [
    "mdi_plus_scores = rf_plus_model.get_mdi_plus_scores(X, y, local_scoring_fns=mean_squared_error, version=\"all\", lfi=False)\n",
    "plt.figure(figsize=(15, 5))  # Adjusted width to accommodate three plots side-by-side\n",
    "plt.subplot(1, 3, 1)\n",
    "sns.heatmap(mdi_plus_scores[\"local\"], cmap=coolwarm_camp, xticklabels=\"auto\", yticklabels=\"auto\")\n",
    "plt.title(\"MDI\")\n",
    "plt.xlabel(\"Feature Number\")\n",
    "plt.ylabel(\"Feature Importance Score - lower better\")\n",
    "\n",
    "rf_regressor.fit(X, y)\n",
    "shap_val = tree_shap_local(X, y, rf_regressor)\n",
    "shap_val.columns = [f'{i}' for i in range(X.shape[1])]\n",
    "plt.subplot(1, 3, 2)\n",
    "sns.heatmap(shap_val, cmap=coolwarm_camp, xticklabels=\"auto\", yticklabels=\"auto\", vmin=-175, vmax=175)\n",
    "plt.title(\"SHAP Values\")\n",
    "plt.xlabel(\"Feature Number\")\n",
    "plt.ylabel(\"Feature Importance Score - higher absolute better\")\n",
    "\n",
    "mdi_plus_scores = rf_plus_model.get_mdi_plus_scores(X, y, lfi=True, lfi_abs=\"none\")\n",
    "plt.subplot(1, 3, 3)\n",
    "sns.heatmap(mdi_plus_scores[\"lfi\"], cmap=coolwarm_camp, xticklabels=\"auto\", yticklabels=\"auto\", vmin=-175, vmax=175)\n",
    "plt.title(\"LFI without Absolute Values\")\n",
    "plt.xlabel(\"Feature Number\")\n",
    "plt.ylabel(\"Feature Importance Score - higher absolute better\")\n",
    "\n",
    "plt.tight_layout()\n",
    "plt.savefig(\"threesubgroups2_with_raw_poly.png\")\n",
    "plt.show()"
   ]
  }
 ],
 "metadata": {
  "kernelspec": {
   "display_name": "base",
   "language": "python",
   "name": "python3"
  },
  "language_info": {
   "codemirror_mode": {
    "name": "ipython",
    "version": 3
   },
   "file_extension": ".py",
   "mimetype": "text/x-python",
   "name": "python",
   "nbconvert_exporter": "python",
   "pygments_lexer": "ipython3",
   "version": "3.11.4"
  },
  "orig_nbformat": 4
 },
 "nbformat": 4,
 "nbformat_minor": 2
}
