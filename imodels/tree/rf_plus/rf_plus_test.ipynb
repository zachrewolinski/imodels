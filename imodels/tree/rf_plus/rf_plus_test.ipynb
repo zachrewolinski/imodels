{
 "cells": [
  {
   "cell_type": "code",
   "execution_count": 13,
   "metadata": {},
   "outputs": [
    {
     "name": "stdout",
     "output_type": "stream",
     "text": [
      "The autoreload extension is already loaded. To reload it, use:\n",
      "  %reload_ext autoreload\n"
     ]
    }
   ],
   "source": [
    "%load_ext autoreload\n",
    "%autoreload 2\n",
    "import imodels\n",
    "from imodels.tree.rf_plus.rf_plus import RandomForestPlusRegressor , RandomForestPlusClassifier\n",
    "from sklearn.ensemble import RandomForestRegressor, RandomForestClassifier\n",
    "from xgboost import XGBRegressor\n",
    "from sklearn.metrics import r2_score, mean_squared_error, mean_absolute_error, log_loss, accuracy_score, balanced_accuracy_score, f1_score, roc_auc_score, average_precision_score\n",
    "from sklearn.model_selection import train_test_split\n",
    "import pprint\n",
    "from glmnet import ElasticNet\n",
    "import numpy as np\n",
    "import pytorch_lightning as pl\n",
    "import torch\n",
    "import xgboost as xgb\n",
    "import pandas as pd\n",
    "from torch.utils.data import TensorDataset, DataLoader\n",
    "from matplotlib import pyplot as plt\n",
    "from imodels.tree.rf_plus.ppms.ppms_regression import GlmNetElasticNetRegressorPPM, GlmNetRidgeRegressorPPM, GlmNetLassoRegressorPPM\n",
    "from imodels.tree.rf_plus.ppms.ppms_classification import GLMLogisticElasticNetPPM\n",
    "from imodels.tree.rf_plus.data_transformations.block_transformers import MDIPlusDefaultTransformer, IdentityTransformer, CompositeTransformer, TreeTransformer\n",
    "import tensorly as tl\n",
    "from sklearn.ensemble import GradientBoostingRegressor, GradientBoostingClassifier\n",
    "from catboost import CatBoostClassifier, CatBoostRegressor\n",
    "import graphviz\n",
    "from sklearn import tree\n",
    "from IPython.display import Image, display\n",
    "from sklearn.linear_model import LinearRegression    \n",
    "import copy"
   ]
  },
  {
   "cell_type": "code",
   "execution_count": 330,
   "metadata": {},
   "outputs": [],
   "source": [
    "from pandas.api.types import is_categorical_dtype\n",
    "\n",
    "def convert_categories_to_numpy(obj):\n",
    "    \"\"\"\n",
    "    Checks if an object is a pandas categories object.\n",
    "    If so, converts it to a NumPy float array.\n",
    "    If not, returns the object as is.\n",
    "    \"\"\"\n",
    "    # Check if the object is a pandas categories object\n",
    "    if isinstance(obj, pd.Categorical) or is_categorical_dtype(obj.dtype):\n",
    "        # Convert to codes\n",
    "        codes = obj.codes\n",
    "        \n",
    "        # Create a NumPy array from the codes\n",
    "        arr = np.array(codes)\n",
    "        \n",
    "        # Cast the array to float\n",
    "        arr_float = arr.astype(float)\n",
    "        \n",
    "        return arr_float\n",
    "    else:\n",
    "        return obj"
   ]
  },
  {
   "cell_type": "code",
   "execution_count": 2,
   "metadata": {},
   "outputs": [
    {
     "name": "stdout",
     "output_type": "stream",
     "text": [
      "fetching csi_pecarn_pred from imodels\n"
     ]
    }
   ],
   "source": [
    "X, y,f = imodels.get_clean_dataset(\"csi_pecarn\",data_source=\"imodels\")\n",
    "X_train, X_test, y_train, y_test = train_test_split(X, y, test_size=0.33)\n"
   ]
  },
  {
   "cell_type": "code",
   "execution_count": 339,
   "metadata": {},
   "outputs": [
    {
     "name": "stdout",
     "output_type": "stream",
     "text": [
      "[ 40.70776925 -34.41374828  46.3880488   47.26042973 -85.22913348\n",
      "  12.58172706 -28.12048068 -34.85692668 -70.67935296  43.56785272]\n"
     ]
    }
   ],
   "source": [
    "gbr_transform = MDIPlusDefaultTransformer(gbr.estimators_[0][0])\n",
    "X_train_gbr_transform = gbr_transform.fit_transform(copy.deepcopy(X_train),center=True)\n",
    "gbr_lr = LinearRegression()\n",
    "gbr_lr.fit(X_train_gbr_transform.get_all_data(), y_train - np.mean(y_train))\n",
    "gbr_lr_preds = gbr_lr.predict(X_train_gbr_transform.get_all_data())\n",
    "print(gbr_lr_preds[:10])"
   ]
  },
  {
   "cell_type": "code",
   "execution_count": 351,
   "metadata": {},
   "outputs": [
    {
     "data": {
      "text/plain": [
       "(296, 2)"
      ]
     },
     "execution_count": 351,
     "metadata": {},
     "output_type": "execute_result"
    }
   ],
   "source": [
    "X_train_gbr_transform._data_blocks[5].shape"
   ]
  },
  {
   "cell_type": "code",
   "execution_count": 341,
   "metadata": {},
   "outputs": [
    {
     "data": {
      "text/plain": [
       "(10, 296, 4)"
      ]
     },
     "execution_count": 341,
     "metadata": {},
     "output_type": "execute_result"
    }
   ],
   "source": [
    "X_train_gbr_transform.tensorize_all_data().shape"
   ]
  },
  {
   "cell_type": "code",
   "execution_count": 334,
   "metadata": {},
   "outputs": [
    {
     "data": {
      "text/plain": [
       "array([ 38.38219741, -43.00950951,  38.38219741,  38.38219741,\n",
       "       -69.08238884,   5.17567568, -22.67617618, -43.00950951,\n",
       "       -69.08238884,  38.38219741])"
      ]
     },
     "execution_count": 334,
     "metadata": {},
     "output_type": "execute_result"
    }
   ],
   "source": [
    "gbr.estimators_[0][0].predict(X_train[:10])"
   ]
  },
  {
   "cell_type": "code",
   "execution_count": 9,
   "metadata": {},
   "outputs": [
    {
     "name": "stdout",
     "output_type": "stream",
     "text": [
      "'R2 0.4918751318777482'\n"
     ]
    }
   ],
   "source": [
    "rf = RandomForestClassifier()\n",
    "rf.fit(X_train, y_train)\n",
    "metrics = [r2_score, mean_squared_error]\n",
    "pprint.pprint(f\"R2 {average_precision_score(y_test,rf.predict_proba(X_test)[:,1])}\")\n"
   ]
  },
  {
   "cell_type": "code",
   "execution_count": 14,
   "metadata": {},
   "outputs": [
    {
     "name": "stderr",
     "output_type": "stream",
     "text": [
      "pkg_resources is deprecated as an API. See https://setuptools.pypa.io/en/latest/pkg_resources.html\n",
      "pkg_resources is deprecated as an API. See https://setuptools.pypa.io/en/latest/pkg_resources.html\n",
      "Deprecated call to `pkg_resources.declare_namespace('google')`.\n",
      "Implementing implicit namespace packages (as specified in PEP 420) is preferred to `pkg_resources.declare_namespace`. See https://setuptools.pypa.io/en/latest/references/keywords.html#keyword-namespace-packages\n",
      "Deprecated call to `pkg_resources.declare_namespace('google')`.\n",
      "Implementing implicit namespace packages (as specified in PEP 420) is preferred to `pkg_resources.declare_namespace`. See https://setuptools.pypa.io/en/latest/references/keywords.html#keyword-namespace-packages\n",
      "Deprecated call to `pkg_resources.declare_namespace('zope')`.\n",
      "Implementing implicit namespace packages (as specified in PEP 420) is preferred to `pkg_resources.declare_namespace`. See https://setuptools.pypa.io/en/latest/references/keywords.html#keyword-namespace-packages\n",
      "Deprecated call to `pkg_resources.declare_namespace('zope')`.\n",
      "Implementing implicit namespace packages (as specified in PEP 420) is preferred to `pkg_resources.declare_namespace`. See https://setuptools.pypa.io/en/latest/references/keywords.html#keyword-namespace-packages\n",
      "Deprecated call to `pkg_resources.declare_namespace('zope')`.\n",
      "Implementing implicit namespace packages (as specified in PEP 420) is preferred to `pkg_resources.declare_namespace`. See https://setuptools.pypa.io/en/latest/references/keywords.html#keyword-namespace-packages\n",
      "Deprecated call to `pkg_resources.declare_namespace('zope')`.\n",
      "Implementing implicit namespace packages (as specified in PEP 420) is preferred to `pkg_resources.declare_namespace`. See https://setuptools.pypa.io/en/latest/references/keywords.html#keyword-namespace-packages\n",
      "pkg_resources is deprecated as an API. See https://setuptools.pypa.io/en/latest/pkg_resources.html\n",
      "pkg_resources is deprecated as an API. See https://setuptools.pypa.io/en/latest/pkg_resources.html\n",
      "pkg_resources is deprecated as an API. See https://setuptools.pypa.io/en/latest/pkg_resources.html\n",
      "pkg_resources is deprecated as an API. See https://setuptools.pypa.io/en/latest/pkg_resources.html\n",
      "Deprecated call to `pkg_resources.declare_namespace('google')`.\n",
      "Implementing implicit namespace packages (as specified in PEP 420) is preferred to `pkg_resources.declare_namespace`. See https://setuptools.pypa.io/en/latest/references/keywords.html#keyword-namespace-packages\n",
      "Deprecated call to `pkg_resources.declare_namespace('google')`.\n",
      "Implementing implicit namespace packages (as specified in PEP 420) is preferred to `pkg_resources.declare_namespace`. See https://setuptools.pypa.io/en/latest/references/keywords.html#keyword-namespace-packages\n",
      "Deprecated call to `pkg_resources.declare_namespace('zope')`.\n",
      "Implementing implicit namespace packages (as specified in PEP 420) is preferred to `pkg_resources.declare_namespace`. See https://setuptools.pypa.io/en/latest/references/keywords.html#keyword-namespace-packages\n",
      "Deprecated call to `pkg_resources.declare_namespace('google')`.\n",
      "Implementing implicit namespace packages (as specified in PEP 420) is preferred to `pkg_resources.declare_namespace`. See https://setuptools.pypa.io/en/latest/references/keywords.html#keyword-namespace-packages\n",
      "Deprecated call to `pkg_resources.declare_namespace('zope')`.\n",
      "Implementing implicit namespace packages (as specified in PEP 420) is preferred to `pkg_resources.declare_namespace`. See https://setuptools.pypa.io/en/latest/references/keywords.html#keyword-namespace-packages\n",
      "Deprecated call to `pkg_resources.declare_namespace('zope')`.\n",
      "Implementing implicit namespace packages (as specified in PEP 420) is preferred to `pkg_resources.declare_namespace`. See https://setuptools.pypa.io/en/latest/references/keywords.html#keyword-namespace-packages\n",
      "Deprecated call to `pkg_resources.declare_namespace('zope')`.\n",
      "Implementing implicit namespace packages (as specified in PEP 420) is preferred to `pkg_resources.declare_namespace`. See https://setuptools.pypa.io/en/latest/references/keywords.html#keyword-namespace-packages\n",
      "Deprecated call to `pkg_resources.declare_namespace('zope')`.\n",
      "Implementing implicit namespace packages (as specified in PEP 420) is preferred to `pkg_resources.declare_namespace`. See https://setuptools.pypa.io/en/latest/references/keywords.html#keyword-namespace-packages\n",
      "Deprecated call to `pkg_resources.declare_namespace('zope')`.\n",
      "Implementing implicit namespace packages (as specified in PEP 420) is preferred to `pkg_resources.declare_namespace`. See https://setuptools.pypa.io/en/latest/references/keywords.html#keyword-namespace-packages\n",
      "pkg_resources is deprecated as an API. See https://setuptools.pypa.io/en/latest/pkg_resources.html\n",
      "Deprecated call to `pkg_resources.declare_namespace('google')`.\n",
      "Implementing implicit namespace packages (as specified in PEP 420) is preferred to `pkg_resources.declare_namespace`. See https://setuptools.pypa.io/en/latest/references/keywords.html#keyword-namespace-packages\n",
      "pkg_resources is deprecated as an API. See https://setuptools.pypa.io/en/latest/pkg_resources.html\n",
      "Deprecated call to `pkg_resources.declare_namespace('zope')`.\n",
      "Implementing implicit namespace packages (as specified in PEP 420) is preferred to `pkg_resources.declare_namespace`. See https://setuptools.pypa.io/en/latest/references/keywords.html#keyword-namespace-packages\n",
      "Deprecated call to `pkg_resources.declare_namespace('zope')`.\n",
      "Implementing implicit namespace packages (as specified in PEP 420) is preferred to `pkg_resources.declare_namespace`. See https://setuptools.pypa.io/en/latest/references/keywords.html#keyword-namespace-packages\n",
      "Deprecated call to `pkg_resources.declare_namespace('google')`.\n",
      "Implementing implicit namespace packages (as specified in PEP 420) is preferred to `pkg_resources.declare_namespace`. See https://setuptools.pypa.io/en/latest/references/keywords.html#keyword-namespace-packages\n",
      "Deprecated call to `pkg_resources.declare_namespace('zope')`.\n",
      "Implementing implicit namespace packages (as specified in PEP 420) is preferred to `pkg_resources.declare_namespace`. See https://setuptools.pypa.io/en/latest/references/keywords.html#keyword-namespace-packages\n",
      "Deprecated call to `pkg_resources.declare_namespace('zope')`.\n",
      "Implementing implicit namespace packages (as specified in PEP 420) is preferred to `pkg_resources.declare_namespace`. See https://setuptools.pypa.io/en/latest/references/keywords.html#keyword-namespace-packages\n",
      "Deprecated call to `pkg_resources.declare_namespace('google')`.\n",
      "Implementing implicit namespace packages (as specified in PEP 420) is preferred to `pkg_resources.declare_namespace`. See https://setuptools.pypa.io/en/latest/references/keywords.html#keyword-namespace-packages\n",
      "Deprecated call to `pkg_resources.declare_namespace('zope')`.\n",
      "Implementing implicit namespace packages (as specified in PEP 420) is preferred to `pkg_resources.declare_namespace`. See https://setuptools.pypa.io/en/latest/references/keywords.html#keyword-namespace-packages\n",
      "Deprecated call to `pkg_resources.declare_namespace('zope')`.\n",
      "Implementing implicit namespace packages (as specified in PEP 420) is preferred to `pkg_resources.declare_namespace`. See https://setuptools.pypa.io/en/latest/references/keywords.html#keyword-namespace-packages\n"
     ]
    }
   ],
   "source": [
    "rf_plus_reg = RandomForestPlusClassifier(rf_model=rf,prediction_model=GLMLogisticElasticNetPPM(n_alphas=50,standardize=False,l1_ratio=0.5),center=True,fit_on=\"all\")\n",
    "                                        #GlmNetRidgeRegressorPPM(n_alphas=20,max_iter=200,tol=1e-4,standardize=False,cv=3))\n",
    "rf_plus_reg.fit(X_train, y_train,n_jobs=8)\n"
   ]
  },
  {
   "cell_type": "code",
   "execution_count": 15,
   "metadata": {},
   "outputs": [
    {
     "name": "stdout",
     "output_type": "stream",
     "text": [
      "'R2 -0.4515757831947771'\n"
     ]
    }
   ],
   "source": [
    "pprint.pprint(f\"R2 {average_precision_score(y_test,rf_plus_reg.predict_proba(X_test))}\")\n"
   ]
  },
  {
   "cell_type": "code",
   "execution_count": 288,
   "metadata": {},
   "outputs": [
    {
     "data": {
      "text/plain": [
       "array([ 6.61386574,  5.364272  ,  4.61451539,  3.73219657,  8.15435689,\n",
       "        1.98560367,  4.28895439,  3.87048424,  4.14637551,  2.71114369,\n",
       "        7.63454674,  2.04098631,  3.88290087,  4.84522212,  3.72577546,\n",
       "        5.16313886,  4.62234108,  2.73652675,  5.13330948,  5.37036246,\n",
       "        5.21897538,  2.30783739,  2.63252872,  6.20875764,  6.25032211,\n",
       "        5.05097113,  3.61111703,  2.90862392,  0.64022212,  7.25400592,\n",
       "        0.32103774,  8.17873402,  3.75913542,  5.38186742,  4.73276125,\n",
       "        3.24590448,  7.74072143,  7.67946929,  5.61560278,  5.59507658,\n",
       "        4.18816031,  5.43764245,  4.6496616 ,  6.17140282,  0.49937229,\n",
       "        3.78862126,  5.21379152,  3.72522973,  4.17538869, -0.15389314,\n",
       "        0.476042  ,  5.20108642,  6.97721538,  4.57239606,  0.03230882,\n",
       "        5.07683404,  4.38282092,  8.45427934,  4.61211387,  3.17541514,\n",
       "        5.45522339,  5.0502946 ,  4.11879441,  4.94539471,  7.85516565,\n",
       "        1.70309513,  4.38999737,  8.11507591,  7.90910097,  0.74209645,\n",
       "        5.72554964,  4.00065914,  5.3427583 ,  5.00366177,  8.07380202,\n",
       "        3.27718507,  4.07511115,  3.36578231,  3.65567146,  4.4755931 ,\n",
       "        5.69640448, -0.16580289, -0.3316962 ,  6.39138354,  7.95703584,\n",
       "        4.16073035,  3.99138161,  3.23930482,  1.96954571,  0.80268986,\n",
       "        7.95548402,  5.41073212,  2.09174071,  4.15447173,  8.08986149,\n",
       "        3.52337665,  4.95941765, -0.22262709,  7.32947297,  4.88768097,\n",
       "        7.60015993,  4.09172265,  3.27238337,  4.87993855,  7.00892227,\n",
       "        5.11010688,  8.37609026,  0.95725204,  4.45629061,  3.8094003 ,\n",
       "        4.34577946,  0.06477467,  2.22636646,  0.27101233,  3.24259   ,\n",
       "        3.36815402,  7.07523524,  0.06491826,  4.54872639,  2.43094228,\n",
       "        4.38963625,  4.6969152 ,  4.05054787,  6.92603891,  2.66977837,\n",
       "        3.22561931,  0.32609074,  3.90385336,  8.6770064 ,  6.02668238,\n",
       "        5.24378828,  2.27182833,  8.18458098,  4.25025047, -0.36789791,\n",
       "        7.40222818,  5.96430892,  4.45169219,  3.36971443,  4.28934837,\n",
       "        1.73588481,  8.12504343,  5.30047064,  5.04538762,  8.67214262,\n",
       "        5.33093372,  4.926992  ,  5.45758759,  3.35567171,  7.84771086,\n",
       "        8.84417492,  2.1086078 ,  4.71505489,  7.76708345,  4.48617172,\n",
       "        4.77461892,  4.51341278,  4.84420416,  5.07021727,  5.67566492,\n",
       "        3.10633186,  3.21553004,  6.87864879,  0.11028792,  4.82413706,\n",
       "        7.77877104,  8.76891898,  7.09899915,  2.15435146,  4.45714754,\n",
       "        4.64271408,  0.33011205,  4.32352562,  3.22310184,  5.31385895,\n",
       "        5.48677065,  8.382405  ,  4.15617156,  4.64132803,  0.59101125,\n",
       "        1.93224054,  8.09049916,  4.49770792,  5.35541216,  4.62524877,\n",
       "        5.06620939,  8.26550673,  3.66239747,  5.04640683,  5.07518867,\n",
       "        3.91732077,  1.26852496,  3.49611322,  3.28386396,  3.33032433,\n",
       "        4.32742299,  4.75471883,  2.14288045,  0.11655207,  6.06073069,\n",
       "        3.95165636,  5.06738107,  7.55275749,  2.20778215,  6.20729278,\n",
       "        8.67854843,  4.68609543,  5.61560278,  3.56837098,  4.58974943,\n",
       "        5.82161218,  4.52269285,  4.3094674 ,  2.9050512 ,  4.50001638,\n",
       "        4.29472774,  4.59868473,  3.87209631,  4.68469343,  5.32769641,\n",
       "        5.03830606, -0.03330991,  4.91460493,  4.19783125,  6.11364178,\n",
       "        2.00807883,  5.1773785 ,  4.68827097,  4.94614924,  2.72637533,\n",
       "        4.8957061 ,  4.0783882 ,  2.72067268,  0.17311082, -0.1486626 ,\n",
       "        3.87553157,  0.47296608,  5.1786539 ,  4.41255531,  4.88957051,\n",
       "        3.34624768,  7.38520491,  2.95168598,  4.18522584,  5.36427249,\n",
       "        2.78987364,  7.40654008,  8.88263521,  5.72455301,  8.24757612,\n",
       "        5.34496279,  4.59106497,  7.25402888,  3.36544347,  2.75844494,\n",
       "        8.07623937,  4.88033929,  7.52087711,  3.11276792,  3.4796339 ,\n",
       "        2.93198145,  8.05639687,  3.65488158,  3.18775179,  5.83626575,\n",
       "        0.72121123,  3.7591347 , -0.15451071,  3.41611848,  4.57228866,\n",
       "        6.56196276,  3.05888529,  4.93195731,  0.70854612,  2.9617813 ,\n",
       "        0.67153253,  5.07825209,  3.94046217,  4.38656111,  5.12750042,\n",
       "        3.71877893,  5.7040874 ,  5.19173556,  5.2070717 ,  5.53104012,\n",
       "        4.72700763,  5.2374046 ,  8.51196218,  2.80586368,  8.27559248,\n",
       "        2.87703469,  4.57161908,  4.51791348,  4.36674004,  3.3824454 ,\n",
       "        6.23628221,  1.63534383,  5.75030818,  3.17767894,  5.25471081,\n",
       "        5.29522785,  4.10195445,  4.01913245,  8.09900696,  2.901638  ,\n",
       "       -0.53028947,  4.76788898,  8.5218533 ,  7.37010473, -0.4312824 ,\n",
       "        2.97442024,  3.80844383,  4.16733546,  0.52729086,  8.24909157,\n",
       "        8.14282877,  7.16519422,  2.81827674,  7.65174869,  7.04475878,\n",
       "        3.63647541,  6.23731629,  2.32317364,  7.28476375,  5.1228733 ,\n",
       "        3.84070934,  4.03708038,  4.37805812,  4.03308488,  4.78223199,\n",
       "       -0.20580169,  5.19996285,  3.63892076,  0.89727962,  5.03042859,\n",
       "        0.16633711,  4.92959817,  4.00951734,  6.91950174,  5.48893759,\n",
       "        2.65153113,  3.33053746, -0.02568806,  2.93106918, -0.06494863,\n",
       "        6.51927824,  7.21738746,  4.9738955 ,  4.93457348,  4.3236926 ,\n",
       "        8.43619437,  3.50798804,  5.64969581,  2.26694232,  8.23837871,\n",
       "        5.05844785,  2.31758146,  4.87413767,  2.98363048,  5.32460625,\n",
       "        5.07005001,  2.95344268,  3.98545192,  1.90301013,  4.61206866,\n",
       "       -0.04421613,  5.55912744,  6.17012088,  4.93968755,  0.95651957,\n",
       "        4.55097547,  3.98888847,  4.6680237 ,  1.890578  ,  3.28841673,\n",
       "        6.08515329,  5.02296769,  5.51771488,  5.05844774,  4.40234122,\n",
       "        8.26639964,  7.45706335,  3.47894377,  4.81682614,  4.12918559,\n",
       "        0.41816722, -0.22498493,  4.60154149,  3.82088513,  5.17049971,\n",
       "        5.70695501,  4.65400483,  8.12629624,  3.64798713,  0.45729024,\n",
       "        8.68683367,  4.99028852,  6.5833828 ,  6.63301696,  4.14024368,\n",
       "        4.20045497,  3.94163357,  2.92447499,  7.64300497,  4.73736348,\n",
       "        3.5588677 ,  3.19363189,  2.97421537,  4.90841575,  6.26961787,\n",
       "        4.90933874,  3.68947887,  8.57656149,  3.42969411,  4.12988283,\n",
       "        4.74699939,  4.68291778,  2.66315463,  4.95865691,  5.21017091,\n",
       "        4.50902467,  5.42445432,  5.09774617,  2.69482182,  8.97988992,\n",
       "        0.25362589,  8.89023248,  3.12403538,  4.06707416,  4.36748496,\n",
       "        5.97738066,  4.45964525,  4.0868604 ,  3.22876774,  7.6307298 ,\n",
       "        3.89099613,  8.20963728,  4.46888754,  6.53593482,  7.59305531,\n",
       "        6.41520152,  6.45606725,  3.7635195 ,  2.45624412,  4.19419304,\n",
       "        0.50879317,  6.29114819,  1.51237255,  5.23264139,  5.71498737,\n",
       "        1.0920292 ,  4.11557433,  2.76478737,  4.76642582,  2.14783585,\n",
       "        7.37781503,  3.88834721,  6.55432544,  3.84005968,  5.89533059,\n",
       "        0.44265106,  3.25862644,  7.71760093,  2.66730272,  4.23653913,\n",
       "        3.90617563,  7.85834902,  7.87924061,  2.67801577,  4.84605314,\n",
       "        4.49689744,  0.03944423,  5.2297685 ,  2.45399597,  4.68609543,\n",
       "        4.75482536,  3.79494894,  3.88171214,  5.94318138,  4.51394944,\n",
       "        4.79609837,  5.35426013,  5.54276662,  6.08929161,  7.31450636,\n",
       "        6.02694296,  4.16395173,  7.08568815,  5.36472657,  5.43432881,\n",
       "        2.93193397,  5.51127313,  6.86393672,  5.53950362,  6.92953716,\n",
       "        4.64348519,  5.89512053,  8.10059324,  4.45044537,  8.69688511,\n",
       "        3.45450371,  8.15706174,  2.33226784,  6.97207915,  4.17395531,\n",
       "        2.83668653,  3.99906887,  7.96857111,  0.1838311 ,  8.0444722 ,\n",
       "        4.15191056,  3.08505754,  3.82594265,  4.66965489,  8.12763061,\n",
       "        3.34656981,  2.84104299,  3.91367315,  5.79406986,  1.88357739,\n",
       "        3.54252393,  0.55913587,  4.57161908,  6.21401393,  8.39143969,\n",
       "        3.65924938,  7.82812895,  4.90269734,  3.82447385,  7.88338634,\n",
       "        6.09850007,  8.08975812,  3.59739883,  6.62444114,  4.41640385,\n",
       "        5.04497137,  2.66051835,  4.7665482 ,  4.52846983,  8.19744127,\n",
       "        7.74734275,  4.81385975,  2.52766637,  3.95580858,  2.74158325,\n",
       "        3.51339415,  0.50925311,  3.47635826,  1.80130272,  4.2520616 ,\n",
       "       -0.28770073,  2.72106198,  8.55733076,  5.03591402,  4.15953507,\n",
       "        3.93546669,  5.02451746,  8.81450582,  5.41302139,  7.7529136 ,\n",
       "        4.76177721,  3.83325387,  2.53941819,  8.88260316,  5.3388494 ,\n",
       "        2.25275077,  2.527495  ,  4.03462739,  7.59715941,  3.24744653,\n",
       "        7.73568373,  4.64968083,  6.89797652,  4.46135499,  0.26051729,\n",
       "        1.99838516,  5.36684959,  3.22184999,  4.96423629,  4.14440192,\n",
       "        4.26840371,  4.85469061,  5.86242962, -0.03509406,  4.06897275,\n",
       "        7.96092436,  3.21069043,  3.22365173,  6.42288012,  3.91942561,\n",
       "        2.03258779,  3.56825134,  7.07671551,  5.08748717,  2.47425833,\n",
       "        4.87098008,  2.92881593,  5.1671536 ,  1.96325988,  4.76083026,\n",
       "        8.58684116,  4.10292379,  4.19021792,  4.95972109,  3.72416305,\n",
       "        3.93480347,  5.32902046,  7.72320644,  4.18522635,  4.75757744,\n",
       "        4.45177328,  4.9227743 ,  6.12944153,  8.76609084,  3.91097075,\n",
       "        2.73197648,  0.01120402,  4.97388476, -0.05771007,  6.23841745,\n",
       "        5.39801552,  4.90933823,  4.94436517,  7.82152198,  3.9594523 ,\n",
       "        5.92085137,  3.94872354,  4.57429239,  6.30742424,  2.75009619,\n",
       "        4.03681541,  3.18054923,  4.07453589,  2.84772254,  4.65646829,\n",
       "        4.82853704,  3.91321872,  3.90550914,  4.6994622 ,  5.17351329,\n",
       "        2.9248472 ,  3.73232214,  4.1012364 ,  5.62174239,  4.35943051,\n",
       "        6.29609023,  8.40299722,  4.45648236,  4.21491833,  4.59040021,\n",
       "        7.32500489,  4.75581015,  7.60791698,  7.93016417,  4.44387241,\n",
       "        4.9410762 ,  4.67430531,  3.89819635,  3.02187807,  3.81563574])"
      ]
     },
     "execution_count": 288,
     "metadata": {},
     "output_type": "execute_result"
    }
   ],
   "source": [
    "rf_plus_reg.predict(X_test)"
   ]
  },
  {
   "cell_type": "code",
   "execution_count": 250,
   "metadata": {},
   "outputs": [],
   "source": [
    "a = rf_plus_reg.transformers_[0]\n"
   ]
  },
  {
   "cell_type": "code",
   "execution_count": 247,
   "metadata": {},
   "outputs": [
    {
     "name": "stdout",
     "output_type": "stream",
     "text": [
      "(2798, 12)\n",
      "(2798, 31)\n",
      "(2798, 32)\n",
      "(2798, 32)\n",
      "(2798, 45)\n",
      "(2798, 52)\n",
      "(2798, 39)\n",
      "(2798, 45)\n"
     ]
    }
   ],
   "source": [
    "\n",
    "for i in range(X_train.shape[1]):\n",
    "    print(rf_plus_reg.transformers_[0]._transform_one_feature(X_train,i).shape)\n",
    "\n",
    "\n",
    "#X_transformed_train = rf_plus_reg.transformers_[0].fit_transform(X_train).get_all_data()\n",
    "#X_transformed_train.shape\n",
    "#X_transformed_test = rf_plus_reg.transformers_[0].transform(X_test).get_all_data()\n"
   ]
  },
  {
   "cell_type": "code",
   "execution_count": 278,
   "metadata": {},
   "outputs": [
    {
     "name": "stdout",
     "output_type": "stream",
     "text": [
      "'R2 -2.350750072885908'\n"
     ]
    }
   ],
   "source": [
    "xgb_m = xgb.XGBClassifier()\n",
    "xgb_m.fit(X_train, y_train)\n",
    "pprint.pprint(f\"R2 {r2_score(y_test,xgb_m.predict_proba(X_test)[:,1])}\")"
   ]
  },
  {
   "cell_type": "code",
   "execution_count": 279,
   "metadata": {},
   "outputs": [
    {
     "data": {
      "text/plain": [
       "0.055677809109055065"
      ]
     },
     "execution_count": 279,
     "metadata": {},
     "output_type": "execute_result"
    }
   ],
   "source": [
    "xgb_reg = xgb.XGBRegressor()\n",
    "xgb_reg.fit(X_train, y_train)\n",
    "r2_score(xgb_reg.predict(X_test),y_test)"
   ]
  },
  {
   "cell_type": "code",
   "execution_count": 103,
   "metadata": {},
   "outputs": [
    {
     "data": {
      "image/png": "[encoded data removed]",
      "text/plain": [
       "<Figure size 800x600 with 1 Axes>"
      ]
     },
     "metadata": {},
     "output_type": "display_data"
    }
   ],
   "source": [
    "eigenvalues, eigenvectors = np.linalg.eig(X_transformed_test.T @ X_transformed_test)\n",
    "\n",
    "# Sort the eigenvalues in descending order\n",
    "sorted_indices = np.argsort(np.abs(eigenvalues))[::-1]\n",
    "sorted_eigenvalues = eigenvalues[sorted_indices]\n",
    "\n",
    "# Plot the top 100 eigenvalues\n",
    "top_n = 100\n",
    "plt.figure(figsize=(8, 6))\n",
    "plt.scatter(np.arange(top_n), np.real(sorted_eigenvalues[:top_n]), color='b', label='Real part')\n",
    "plt.scatter(np.arange(top_n), np.imag(sorted_eigenvalues[:top_n]), color='r', label='Imaginary part')\n",
    "plt.title(f'Top {top_n} Eigenvalues of a Random Matrix')\n",
    "plt.xlabel('Eigenvalue Index')\n",
    "plt.ylabel('Eigenvalue')\n",
    "plt.legend()\n",
    "plt.grid(True)\n",
    "plt.show()\n"
   ]
  },
  {
   "cell_type": "code",
   "execution_count": 34,
   "metadata": {},
   "outputs": [],
   "source": [
    "\n",
    "class ElasticLinear(pl.LightningModule):\n",
    "    def __init__(\n",
    "        self, loss_fn, n_inputs: int = 1, learning_rate=0.05, l1_lambda=0.05, l2_lambda=0.05\n",
    "    ):\n",
    "        super().__init__()\n",
    "\n",
    "        self.learning_rate = learning_rate\n",
    "        self.loss_fn = loss_fn\n",
    "        self.l1_lambda = l1_lambda\n",
    "        self.l2_lambda = l2_lambda\n",
    "        self.output_layer = torch.nn.Linear(n_inputs, 1)\n",
    "        self.train_log = []\n",
    "        self.val_log = []\n",
    "\n",
    "    def forward(self, x):\n",
    "        outputs = self.output_layer(x)\n",
    "        return outputs\n",
    "\n",
    "    def configure_optimizers(self):\n",
    "        optimizer = torch.optim.Adam(self.parameters(), lr=self.learning_rate)\n",
    "        return optimizer\n",
    "\n",
    "    def l1_reg(self):\n",
    "        l1_norm = self.output_layer.weight.abs().sum()\n",
    "\n",
    "        return self.l1_lambda * l1_norm\n",
    "\n",
    "    def l2_reg(self):\n",
    "        l2_norm = self.output_layer.weight.pow(2).sum()\n",
    "        \n",
    "        return self.l2_lambda * l2_norm\n",
    "\n",
    "    def training_step(self, batch, batch_idx):\n",
    "        x, y = batch\n",
    "        y_hat = self(x)\n",
    "        loss = self.loss_fn(y_hat, y) + self.l1_reg() + self.l2_reg()\n",
    "        self.log(\"loss\", loss)\n",
    "        self.train_log.append(loss.detach().numpy())\n",
    "        return loss\n",
    "    \n",
    "    def validation_step(self, batch, batch_idx):\n",
    "        x, y = batch\n",
    "        y_hat = self(x)\n",
    "        val_loss = self.loss_fn(y_hat, y) \n",
    "        self.log(\"val_loss\", val_loss)\n",
    "        self.val_log.append(val_loss.detach().numpy())\n",
    "        return val_loss\n",
    "    \n",
    "    def on_fit_start(self):\n",
    "        self.device = torch.device(\"mps\" if torch.cuda.is_available() else \"cpu\")\n",
    "        self.to(self.device)  # Move the model to the device\n",
    "\n",
    "\n"
   ]
  },
  {
   "cell_type": "code",
   "execution_count": 35,
   "metadata": {},
   "outputs": [],
   "source": [
    "x_train_t = torch.tensor(X_train, dtype=torch.float32)\n",
    "y_train_t = torch.tensor(y_train[:,np.newaxis],dtype=torch.float32)\n",
    "x_test_t = torch.tensor(X_test, dtype=torch.float32 )\n",
    "y_test_t = torch.tensor(y_test[:, np.newaxis],dtype=torch.float32)\n",
    "\n",
    "dataset_train = TensorDataset(x_train_t, y_train_t)\n",
    "dataloader_train = DataLoader(dataset_train, batch_size=256, shuffle=True,num_workers=4)\n",
    "dataset_val = TensorDataset(x_test_t, y_test_t)\n",
    "dataloader_val = DataLoader(dataset_val, batch_size=x_test_t.shape[0], shuffle=False)"
   ]
  },
  {
   "cell_type": "code",
   "execution_count": 39,
   "metadata": {},
   "outputs": [
    {
     "name": "stderr",
     "output_type": "stream",
     "text": [
      "GPU available: False, used: False\n",
      "TPU available: False, using: 0 TPU cores\n",
      "IPU available: False, using: 0 IPUs\n",
      "HPU available: False, using: 0 HPUs\n",
      "\n",
      "  | Name         | Type    | Params\n",
      "-----------------------------------------\n",
      "0 | loss_fn      | MSELoss | 0     \n",
      "1 | output_layer | Linear  | 9     \n",
      "-----------------------------------------\n",
      "9         Trainable params\n",
      "0         Non-trainable params\n",
      "9         Total params\n",
      "0.000     Total estimated model params size (MB)\n"
     ]
    },
    {
     "data": {
      "application/vnd.jupyter.widget-view+json": {
       "model_id": "2d23508f52e24d1aa76d812e4117d395",
       "version_major": 2,
       "version_minor": 0
      },
      "text/plain": [
       "Sanity Checking: 0it [00:00, ?it/s]"
      ]
     },
     "metadata": {},
     "output_type": "display_data"
    },
    {
     "data": {
      "application/vnd.jupyter.widget-view+json": {
       "model_id": "6e76df2d18c24bc5ba4a8a349462af8e",
       "version_major": 2,
       "version_minor": 0
      },
      "text/plain": [
       "Training: 0it [00:00, ?it/s]"
      ]
     },
     "metadata": {},
     "output_type": "display_data"
    },
    {
     "data": {
      "application/vnd.jupyter.widget-view+json": {
       "model_id": "a0f4779fcf384b66a10e822dd5882c89",
       "version_major": 2,
       "version_minor": 0
      },
      "text/plain": [
       "Validation: 0it [00:00, ?it/s]"
      ]
     },
     "metadata": {},
     "output_type": "display_data"
    },
    {
     "data": {
      "application/vnd.jupyter.widget-view+json": {
       "model_id": "b07267fc4455451e877ca1d4c46951b2",
       "version_major": 2,
       "version_minor": 0
      },
      "text/plain": [
       "Validation: 0it [00:00, ?it/s]"
      ]
     },
     "metadata": {},
     "output_type": "display_data"
    },
    {
     "data": {
      "application/vnd.jupyter.widget-view+json": {
       "model_id": "3cbfa76b3bf74ab2bbc37d94ff44d916",
       "version_major": 2,
       "version_minor": 0
      },
      "text/plain": [
       "Validation: 0it [00:00, ?it/s]"
      ]
     },
     "metadata": {},
     "output_type": "display_data"
    },
    {
     "data": {
      "application/vnd.jupyter.widget-view+json": {
       "model_id": "3141d7ec498a43b49827d9228b82134b",
       "version_major": 2,
       "version_minor": 0
      },
      "text/plain": [
       "Validation: 0it [00:00, ?it/s]"
      ]
     },
     "metadata": {},
     "output_type": "display_data"
    },
    {
     "data": {
      "application/vnd.jupyter.widget-view+json": {
       "model_id": "76dbc82fa648438ba8a0f1155b59aac9",
       "version_major": 2,
       "version_minor": 0
      },
      "text/plain": [
       "Validation: 0it [00:00, ?it/s]"
      ]
     },
     "metadata": {},
     "output_type": "display_data"
    },
    {
     "data": {
      "application/vnd.jupyter.widget-view+json": {
       "model_id": "9ce0bf9c20e74099a951d359ca72c1ac",
       "version_major": 2,
       "version_minor": 0
      },
      "text/plain": [
       "Validation: 0it [00:00, ?it/s]"
      ]
     },
     "metadata": {},
     "output_type": "display_data"
    },
    {
     "data": {
      "application/vnd.jupyter.widget-view+json": {
       "model_id": "478bf527fdaf41e6be702f7924fef01c",
       "version_major": 2,
       "version_minor": 0
      },
      "text/plain": [
       "Validation: 0it [00:00, ?it/s]"
      ]
     },
     "metadata": {},
     "output_type": "display_data"
    },
    {
     "data": {
      "application/vnd.jupyter.widget-view+json": {
       "model_id": "d936307bfb2d4444bca46eef9fe78ab7",
       "version_major": 2,
       "version_minor": 0
      },
      "text/plain": [
       "Validation: 0it [00:00, ?it/s]"
      ]
     },
     "metadata": {},
     "output_type": "display_data"
    },
    {
     "data": {
      "application/vnd.jupyter.widget-view+json": {
       "model_id": "8c3a236984fe4d82ae9a83723685eb4b",
       "version_major": 2,
       "version_minor": 0
      },
      "text/plain": [
       "Validation: 0it [00:00, ?it/s]"
      ]
     },
     "metadata": {},
     "output_type": "display_data"
    },
    {
     "data": {
      "application/vnd.jupyter.widget-view+json": {
       "model_id": "ef77170e0425460e88e8a9e96c63248e",
       "version_major": 2,
       "version_minor": 0
      },
      "text/plain": [
       "Validation: 0it [00:00, ?it/s]"
      ]
     },
     "metadata": {},
     "output_type": "display_data"
    },
    {
     "name": "stderr",
     "output_type": "stream",
     "text": [
      "`Trainer.fit` stopped: `max_epochs=10` reached.\n"
     ]
    }
   ],
   "source": [
    "#from pytorch_lightning.loggers import TensorBoardLogger\n",
    "\n",
    "model = ElasticLinear(\n",
    "    loss_fn=torch.nn.MSELoss(),\n",
    "    n_inputs=X_train.shape[1],\n",
    "    l1_lambda=0.0,\n",
    "    l2_lambda=0.0,\n",
    "    learning_rate=0.05,\n",
    ")\n",
    "\n",
    "\n",
    "# fit model\n",
    "trainer = pl.Trainer(max_epochs=10)\n",
    "trainer.fit(model, dataloader_train, dataloader_val)\n",
    "\n",
    "w_model = np.append(\n",
    "    model.output_layer.bias.detach().numpy()[0],\n",
    "    model.output_layer.weight.detach().numpy(),\n",
    ")\n",
    "\n",
    "#plot_convergence(model.train_log)"
   ]
  },
  {
   "cell_type": "code",
   "execution_count": 51,
   "metadata": {},
   "outputs": [],
   "source": [
    "def plot_convergence(train_loss):\n",
    "    fig, ax = plt.subplots(figsize=(5, 3))\n",
    "    ax.plot(train_loss)\n",
    "    ax.set_xlabel('Epoch')\n",
    "    ax.set_ylabel('Loss')\n",
    "    # set log scale \n",
    "    ax.set_yscale('log')\n",
    "    fig.show()\n",
    "\n"
   ]
  },
  {
   "cell_type": "code",
   "execution_count": 52,
   "metadata": {},
   "outputs": [
    {
     "name": "stderr",
     "output_type": "stream",
     "text": [
      "FigureCanvasAgg is non-interactive, and thus cannot be shown\n"
     ]
    },
    {
     "data": {
      "image/png": "[encoded data removed]",
      "text/plain": [
       "<Figure size 500x300 with 1 Axes>"
      ]
     },
     "metadata": {},
     "output_type": "display_data"
    }
   ],
   "source": [
    "plot_convergence(model.train_log)\n"
   ]
  },
  {
   "cell_type": "code",
   "execution_count": 53,
   "metadata": {},
   "outputs": [
    {
     "name": "stderr",
     "output_type": "stream",
     "text": [
      "FigureCanvasAgg is non-interactive, and thus cannot be shown\n"
     ]
    },
    {
     "data": {
      "image/png": "[encoded data removed]",
      "text/plain": [
       "<Figure size 500x300 with 1 Axes>"
      ]
     },
     "metadata": {},
     "output_type": "display_data"
    }
   ],
   "source": [
    "plot_convergence(model.val_log)\n"
   ]
  },
  {
   "cell_type": "code",
   "execution_count": 54,
   "metadata": {},
   "outputs": [
    {
     "name": "stdout",
     "output_type": "stream",
     "text": [
      "False\n"
     ]
    }
   ],
   "source": [
    "print(torch.backends.mps.is_available())\n"
   ]
  },
  {
   "cell_type": "code",
   "execution_count": 60,
   "metadata": {},
   "outputs": [
    {
     "name": "stdout",
     "output_type": "stream",
     "text": [
      "Is MPS (Metal Performance Shader) built? False\n"
     ]
    }
   ],
   "source": [
    "print(f\"Is MPS (Metal Performance Shader) built? {torch.backends.mps.is_built()}\")"
   ]
  },
  {
   "cell_type": "code",
   "execution_count": 59,
   "metadata": {},
   "outputs": [
    {
     "data": {
      "text/plain": [
       "False"
      ]
     },
     "execution_count": 59,
     "metadata": {},
     "output_type": "execute_result"
    }
   ],
   "source": [
    "torch.backends.mps.is_available()\n",
    "#pytorch version\n",
    "#torch.__version__"
   ]
  }
 ],
 "metadata": {
  "kernelspec": {
   "display_name": "local_fi",
   "language": "python",
   "name": "python3"
  },
  "language_info": {
   "codemirror_mode": {
    "name": "ipython",
    "version": 3
   },
   "file_extension": ".py",
   "mimetype": "text/x-python",
   "name": "python",
   "nbconvert_exporter": "python",
   "pygments_lexer": "ipython3",
   "version": "3.10.14"
  }
 },
 "nbformat": 4,
 "nbformat_minor": 2
}
