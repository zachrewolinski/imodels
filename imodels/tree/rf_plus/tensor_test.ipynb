{
 "cells": [
  {
   "cell_type": "code",
   "execution_count": 90,
   "metadata": {},
   "outputs": [
    {
     "name": "stdout",
     "output_type": "stream",
     "text": [
      "The autoreload extension is already loaded. To reload it, use:\n",
      "  %reload_ext autoreload\n"
     ]
    }
   ],
   "source": [
    "%load_ext autoreload\n",
    "%autoreload 2\n",
    "\n",
    "import matplotlib.pyplot as plt\n",
    "from tensorly.base import tensor_to_vec, partial_tensor_to_vec\n",
    "from tensorly.datasets.synthetic import gen_image\n",
    "from tensorly.regression.cp_regression import CPRegressor\n",
    "from tensorly.regression.tucker_regression import TuckerRegressor\n",
    "from tensorly.decomposition import parafac, tucker\n",
    "from tensorly.metrics import regression\n",
    "import tensorly as tl\n",
    "from imodels.tree.rf_plus.rf_plus import RandomForestPlusRegressor, RandomForestPlusClassifier\n",
    "from sklearn.ensemble import RandomForestRegressor\n",
    "from xgboost import XGBRegressor\n",
    "from sklearn.metrics import r2_score, mean_squared_error, mean_absolute_error, log_loss, accuracy_score, balanced_accuracy_score, f1_score, roc_auc_score\n",
    "from sklearn.model_selection import train_test_split\n",
    "import pprint\n",
    "from glmnet import ElasticNet, LogitNet\n",
    "import numpy as np\n",
    "import pytorch_lightning as pl\n",
    "import torch\n",
    "import xgboost as xgb\n",
    "import pandas as pd\n",
    "from torch.utils.data import TensorDataset, DataLoader\n",
    "from matplotlib import pyplot as plt\n",
    "from imodels.tree.rf_plus.ppms.ppms_regression import GlmNetElasticNetRegressorPPM, GlmNetRidgeRegressorPPM, GlmNetLassoRegressorPPM\n",
    "from imodels.tree.rf_plus.data_transformations.block_transformers import MDIPlusDefaultTransformer, IdentityTransformer, CompositeTransformer, TreeTransformer\n",
    "import tensorly as tl\n",
    "from sklearn.ensemble import GradientBoostingRegressor, GradientBoostingClassifier\n",
    "from catboost import CatBoostClassifier, CatBoostRegressor\n",
    "import graphviz\n",
    "from sklearn import tree\n",
    "from IPython.display import Image, display\n",
    "from sklearn.linear_model import LinearRegression    \n",
    "import copy,imodels\n",
    "from tabpfn import TabPFNClassifier\n"
   ]
  },
  {
   "cell_type": "code",
   "execution_count": 77,
   "metadata": {},
   "outputs": [
    {
     "name": "stdout",
     "output_type": "stream",
     "text": [
      "fetching 183 from openml\n"
     ]
    }
   ],
   "source": [
    "X, y,f = imodels.get_clean_dataset(\"abalone\",data_source=\"imodels\")\n",
    "#y = np.array([1 if y[i] == 'positive' else 0 for i in range(len(y))])\n",
    "X_train, X_test, y_train, y_test = train_test_split(X, y, test_size=0.33)"
   ]
  },
  {
   "cell_type": "code",
   "execution_count": 79,
   "metadata": {},
   "outputs": [
    {
     "name": "stdout",
     "output_type": "stream",
     "text": [
      "'R2 0.5432871792911682'\n"
     ]
    }
   ],
   "source": [
    "rf_reg = RandomForestRegressor(min_samples_leaf=5,max_features=0.33,n_estimators = 60)\n",
    "rf_reg.fit(X_train, y_train)\n",
    "metrics = [r2_score, mean_squared_error]\n",
    "pprint.pprint(f\"R2 {r2_score(y_test,rf_reg.predict(X_test))}\")"
   ]
  },
  {
   "cell_type": "code",
   "execution_count": 87,
   "metadata": {},
   "outputs": [],
   "source": [
    "import warnings\n",
    "warnings.filterwarnings(\"ignore\")\n",
    "rf_plus_reg = RandomForestPlusRegressor(rf_model=rf_reg,prediction_model=GlmNetElasticNetRegressorPPM(n_alphas=50,l1_ratio=0.2,standardize=True),center=True,fit_on=\"all\")\n",
    "rf_plus_reg.fit(X_train, y_train,n_jobs=8)\n",
    "\n"
   ]
  },
  {
   "cell_type": "code",
   "execution_count": 89,
   "metadata": {},
   "outputs": [
    {
     "name": "stdout",
     "output_type": "stream",
     "text": [
      "'R2 0.558641692719913'\n"
     ]
    }
   ],
   "source": [
    "pprint.pprint(f\"R2 {r2_score(y_test,rf_plus_reg.predict(X_test))}\")\n"
   ]
  },
  {
   "cell_type": "markdown",
   "metadata": {},
   "source": [
    "## Tensor padding "
   ]
  },
  {
   "cell_type": "markdown",
   "metadata": {},
   "source": [
    "## Tensor investigation\n"
   ]
  },
  {
   "cell_type": "code",
   "execution_count": 53,
   "metadata": {},
   "outputs": [
    {
     "name": "stdout",
     "output_type": "stream",
     "text": [
      "MSE 0.10720422483338962\n",
      "MSE 0.12186483536975001\n",
      "MSE 0.11070320190684023\n",
      "MSE 0.11654588807956753\n",
      "MSE 0.11699601761066675\n",
      "MSE 0.10877486932215004\n",
      "MSE 0.11905254548530306\n",
      "MSE 0.10707133534213062\n",
      "MSE 0.10986384728765068\n",
      "MSE 0.11129569949813292\n",
      "MSE 0.11227995114824825\n",
      "MSE 0.11311582470629426\n",
      "MSE 0.12235024047308864\n",
      "MSE 0.11689297804997449\n",
      "MSE 0.10658412220113687\n",
      "MSE 0.11226504566666251\n",
      "MSE 0.10865675813726824\n",
      "MSE 0.1081907866357041\n",
      "MSE 0.10637235904079227\n",
      "MSE 0.10649351805591187\n",
      "MSE 0.11200027883997303\n",
      "MSE 0.10752936396545479\n",
      "MSE 0.10691907158129682\n",
      "MSE 0.11603752033924587\n",
      "MSE 0.11364167950832758\n",
      "MSE 0.11578875917189199\n",
      "MSE 0.10749086200212396\n",
      "MSE 0.11092353222994229\n",
      "MSE 0.1071129183465349\n",
      "MSE 0.1077840667196854\n",
      "MSE 0.11332131869710896\n",
      "MSE 0.11959386524248222\n",
      "MSE 0.11183213728716625\n",
      "MSE 0.10905137550537758\n",
      "MSE 0.10834066160996715\n",
      "MSE 0.11001722023152498\n",
      "MSE 0.10919916929750242\n",
      "MSE 0.11017898613841051\n",
      "MSE 0.10652971088742023\n",
      "MSE 0.10879560994162267\n",
      "MSE 0.11300574184787643\n",
      "MSE 0.11307012447458811\n",
      "MSE 0.11480644291348854\n",
      "MSE 0.1171858770287101\n",
      "MSE 0.10695272645990467\n",
      "MSE 0.10857859452787917\n",
      "MSE 0.10619950325165574\n",
      "MSE 0.1120776295164546\n",
      "MSE 0.11307511774509804\n",
      "MSE 0.10773737989734725\n",
      "MSE 0.12067495963044417\n",
      "MSE 0.10557838374495267\n",
      "MSE 0.11019433589055441\n",
      "MSE 0.10610143255286904\n",
      "MSE 0.10745699547913518\n",
      "MSE 0.11374647288190351\n",
      "MSE 0.11349582997824403\n",
      "MSE 0.11701194909711973\n",
      "MSE 0.11141503874488656\n",
      "MSE 0.10983431223915081\n"
     ]
    }
   ],
   "source": [
    "all_preds = []\n",
    "all_errors = []\n",
    "all_training_errors = []\n",
    "for i in range(len(rf_plus_reg.transformers_)):\n",
    "    transformed_flat_tensor = rf_plus_reg.transformers_[i].transform(X_train).get_all_data()\n",
    "    #pprint.pprint(f\"Shape of learnt matrix for tree {i} is {transformed_flat_tensor.shape}\")\n",
    "    test_flat_tensor = rf_plus_reg.transformers_[i].transform(X_test).get_all_data()\n",
    "    ith_preds = rf_plus_reg.estimators_[i].predict(test_flat_tensor)\n",
    "    all_preds.append(ith_preds)\n",
    "    all_errors.append(np.abs(y_test-ith_preds))\n",
    "    all_training_errors.append(np.abs(y_train-rf_plus_reg.estimators_[i].predict(transformed_flat_tensor)))\n",
    "    print(f\"MSE {mean_squared_error(y_test,ith_preds)}\")   \n",
    "    all_preds.append(rf_plus_reg.estimators_[i].predict(test_flat_tensor))\n",
    "preds = np.mean(all_preds, axis=0)\n",
    "#print(all_errors)"
   ]
  },
  {
   "cell_type": "code",
   "execution_count": 18,
   "metadata": {},
   "outputs": [
    {
     "data": {
      "text/plain": [
       "(array([ 1,  2,  3,  4,  5,  6,  7,  8,  9, 10]),\n",
       " [Text(0, 1, 'Row 1'),\n",
       "  Text(0, 2, 'Row 2'),\n",
       "  Text(0, 3, 'Row 3'),\n",
       "  Text(0, 4, 'Row 4'),\n",
       "  Text(0, 5, 'Row 5'),\n",
       "  Text(0, 6, 'Row 6'),\n",
       "  Text(0, 7, 'Row 7'),\n",
       "  Text(0, 8, 'Row 8'),\n",
       "  Text(0, 9, 'Row 9'),\n",
       "  Text(0, 10, 'Row 10')])"
      ]
     },
     "execution_count": 18,
     "metadata": {},
     "output_type": "execute_result"
    },
    {
     "data": {
      "image/png": "[encoded data removed]",
      "text/plain": [
       "<Figure size 1000x600 with 1 Axes>"
      ]
     },
     "metadata": {},
     "output_type": "display_data"
    }
   ],
   "source": [
    "error_matrix = np.column_stack(all_errors)\n",
    "training_error_matrix = np.column_stack(all_training_errors)\n",
    "fig, ax = plt.subplots(figsize=(10, 6))\n",
    "\n",
    "# Create box plots for the first 10 rows\n",
    "box_plots = ax.boxplot(error_matrix[:10].T, vert=False, patch_artist=True)\n",
    "\n",
    "# Set the x-axis tick labels to the row numbers\n",
    "ax.set_yticks(np.arange(1, 11))\n",
    "ax.set_yticklabels([f\"Row {i+1}\" for i in range(10)])\n",
    "\n",
    "# Rotate the y-axis tick labels for better visibility\n",
    "plt.sca(ax)\n",
    "plt.yticks(rotation=45)\n"
   ]
  },
  {
   "cell_type": "code",
   "execution_count": 15,
   "metadata": {},
   "outputs": [
    {
     "name": "stdout",
     "output_type": "stream",
     "text": [
      "'R2 for tree i 0 is -0.09984469917591321'\n",
      "'R2 for tree i 0 is -0.11468342703525747'\n",
      "'R2 for tree i 0 is -0.11525885226671528'\n",
      "'R2 for tree i 0 is -0.09996208355821756'\n",
      "'R2 for tree i 0 is -0.10548969248936801'\n",
      "'R2 for tree i 1 is -0.07946634637734107'\n",
      "'R2 for tree i 1 is -0.07907430687046313'\n",
      "'R2 for tree i 1 is -0.0862459409072347'\n",
      "'R2 for tree i 1 is -0.07755184589047137'\n",
      "'R2 for tree i 1 is -0.07703045017382837'\n",
      "'R2 for tree i 2 is -0.10695021643898972'\n",
      "'R2 for tree i 2 is -0.10992807228872392'\n"
     ]
    },
    {
     "ename": "KeyboardInterrupt",
     "evalue": "",
     "output_type": "error",
     "traceback": [
      "\u001b[0;31m---------------------------------------------------------------------------\u001b[0m",
      "\u001b[0;31mKeyboardInterrupt\u001b[0m                         Traceback (most recent call last)",
      "Cell \u001b[0;32mIn[15], line 15\u001b[0m\n\u001b[1;32m     12\u001b[0m         estimator \u001b[38;5;241m=\u001b[39m CPRegressor(weight_rank\u001b[38;5;241m=\u001b[39mrank, tol\u001b[38;5;241m=\u001b[39m\u001b[38;5;241m10e-7\u001b[39m, n_iter_max\u001b[38;5;241m=\u001b[39m\u001b[38;5;241m100\u001b[39m, reg_W\u001b[38;5;241m=\u001b[39m\u001b[38;5;241m0.2\u001b[39m, verbose\u001b[38;5;241m=\u001b[39m\u001b[38;5;241m0\u001b[39m)\n\u001b[1;32m     14\u001b[0m \u001b[38;5;66;03m# Fit the estimator to the data\u001b[39;00m\n\u001b[0;32m---> 15\u001b[0m         \u001b[43mestimator\u001b[49m\u001b[38;5;241;43m.\u001b[39;49m\u001b[43mfit\u001b[49m\u001b[43m(\u001b[49m\u001b[43mtransformed_tensor\u001b[49m\u001b[43m,\u001b[49m\u001b[43m \u001b[49m\u001b[43my_train\u001b[49m\u001b[43m)\u001b[49m\n\u001b[1;32m     17\u001b[0m \u001b[38;5;66;03m# Predict the data\u001b[39;00m\n\u001b[1;32m     18\u001b[0m         y_pred \u001b[38;5;241m=\u001b[39m estimator\u001b[38;5;241m.\u001b[39mpredict(test_tensor)\n",
      "File \u001b[0;32m~/miniconda3/envs/local_fi/lib/python3.10/site-packages/tensorly/regression/cp_regression.py:108\u001b[0m, in \u001b[0;36mCPRegressor.fit\u001b[0;34m(self, X, y)\u001b[0m\n\u001b[1;32m     98\u001b[0m     phi \u001b[38;5;241m=\u001b[39m T\u001b[38;5;241m.\u001b[39mreshape(\n\u001b[1;32m     99\u001b[0m         T\u001b[38;5;241m.\u001b[39mdot(\n\u001b[1;32m    100\u001b[0m             partial_unfold(X, i, skip_begin\u001b[38;5;241m=\u001b[39m\u001b[38;5;241m1\u001b[39m), khatri_rao(W, skip_matrix\u001b[38;5;241m=\u001b[39mi)\n\u001b[1;32m    101\u001b[0m         ),\n\u001b[1;32m    102\u001b[0m         (X\u001b[38;5;241m.\u001b[39mshape[\u001b[38;5;241m0\u001b[39m], \u001b[38;5;241m-\u001b[39m\u001b[38;5;241m1\u001b[39m),\n\u001b[1;32m    103\u001b[0m     )\n\u001b[1;32m    104\u001b[0m     inv_term \u001b[38;5;241m=\u001b[39m T\u001b[38;5;241m.\u001b[39mdot(T\u001b[38;5;241m.\u001b[39mtranspose(phi), phi) \u001b[38;5;241m+\u001b[39m \u001b[38;5;28mself\u001b[39m\u001b[38;5;241m.\u001b[39mreg_W \u001b[38;5;241m*\u001b[39m T\u001b[38;5;241m.\u001b[39mtensor(\n\u001b[1;32m    105\u001b[0m         np\u001b[38;5;241m.\u001b[39meye(phi\u001b[38;5;241m.\u001b[39mshape[\u001b[38;5;241m1\u001b[39m]), \u001b[38;5;241m*\u001b[39m\u001b[38;5;241m*\u001b[39mT\u001b[38;5;241m.\u001b[39mcontext(X)\n\u001b[1;32m    106\u001b[0m     )\n\u001b[1;32m    107\u001b[0m     W[i] \u001b[38;5;241m=\u001b[39m T\u001b[38;5;241m.\u001b[39mreshape(\n\u001b[0;32m--> 108\u001b[0m         T\u001b[38;5;241m.\u001b[39msolve(inv_term, \u001b[43mT\u001b[49m\u001b[38;5;241;43m.\u001b[39;49m\u001b[43mdot\u001b[49m\u001b[43m(\u001b[49m\u001b[43mT\u001b[49m\u001b[38;5;241;43m.\u001b[39;49m\u001b[43mtranspose\u001b[49m\u001b[43m(\u001b[49m\u001b[43mphi\u001b[49m\u001b[43m)\u001b[49m\u001b[43m,\u001b[49m\u001b[43m \u001b[49m\u001b[43my\u001b[49m\u001b[43m)\u001b[49m),\n\u001b[1;32m    109\u001b[0m         (X\u001b[38;5;241m.\u001b[39mshape[i \u001b[38;5;241m+\u001b[39m \u001b[38;5;241m1\u001b[39m], \u001b[38;5;28mself\u001b[39m\u001b[38;5;241m.\u001b[39mweight_rank),\n\u001b[1;32m    110\u001b[0m     )\n\u001b[1;32m    112\u001b[0m weight_tensor_ \u001b[38;5;241m=\u001b[39m cp_to_tensor((weights, W))\n\u001b[1;32m    113\u001b[0m norm_W\u001b[38;5;241m.\u001b[39mappend(T\u001b[38;5;241m.\u001b[39mnorm(weight_tensor_, \u001b[38;5;241m2\u001b[39m))\n",
      "File \u001b[0;32m~/miniconda3/envs/local_fi/lib/python3.10/site-packages/tensorly/backend/__init__.py:206\u001b[0m, in \u001b[0;36mBackendManager.dispatch_backend_method.<locals>.wrapped_backend_method\u001b[0;34m(*args, **kwargs)\u001b[0m\n\u001b[1;32m    202\u001b[0m \u001b[38;5;28;01mdef\u001b[39;00m \u001b[38;5;21mwrapped_backend_method\u001b[39m(\u001b[38;5;241m*\u001b[39margs, \u001b[38;5;241m*\u001b[39m\u001b[38;5;241m*\u001b[39mkwargs):\n\u001b[1;32m    203\u001b[0m \u001b[38;5;250m    \u001b[39m\u001b[38;5;124;03m\"\"\"A dynamically dispatched method\u001b[39;00m\n\u001b[1;32m    204\u001b[0m \n\u001b[1;32m    205\u001b[0m \u001b[38;5;124;03m    Returns the queried method from the currently set backend\"\"\"\u001b[39;00m\n\u001b[0;32m--> 206\u001b[0m     \u001b[38;5;28;01mreturn\u001b[39;00m \u001b[38;5;28;43mgetattr\u001b[39;49m\u001b[43m(\u001b[49m\n\u001b[1;32m    207\u001b[0m \u001b[43m        \u001b[49m\u001b[38;5;28;43mcls\u001b[39;49m\u001b[38;5;241;43m.\u001b[39;49m\u001b[43m_THREAD_LOCAL_DATA\u001b[49m\u001b[38;5;241;43m.\u001b[39;49m\u001b[38;5;18;43m__dict__\u001b[39;49m\u001b[38;5;241;43m.\u001b[39;49m\u001b[43mget\u001b[49m\u001b[43m(\u001b[49m\u001b[38;5;124;43m\"\u001b[39;49m\u001b[38;5;124;43mbackend\u001b[39;49m\u001b[38;5;124;43m\"\u001b[39;49m\u001b[43m,\u001b[49m\u001b[43m \u001b[49m\u001b[38;5;28;43mcls\u001b[39;49m\u001b[38;5;241;43m.\u001b[39;49m\u001b[43m_backend\u001b[49m\u001b[43m)\u001b[49m\u001b[43m,\u001b[49m\u001b[43m \u001b[49m\u001b[43mname\u001b[49m\n\u001b[1;32m    208\u001b[0m \u001b[43m    \u001b[49m\u001b[43m)\u001b[49m\u001b[43m(\u001b[49m\u001b[38;5;241;43m*\u001b[39;49m\u001b[43margs\u001b[49m\u001b[43m,\u001b[49m\u001b[43m \u001b[49m\u001b[38;5;241;43m*\u001b[39;49m\u001b[38;5;241;43m*\u001b[39;49m\u001b[43mkwargs\u001b[49m\u001b[43m)\u001b[49m\n",
      "\u001b[0;31mKeyboardInterrupt\u001b[0m: "
     ]
    }
   ],
   "source": [
    "#fit tensorly model\n",
    "ranks = [1]\n",
    "all_tensor_preds = []\n",
    "for j, rank in enumerate(ranks):\n",
    "        for i in range(len(rf_plus_reg.transformers_)):\n",
    "                transformed_tensor = np.transpose(rf_plus_reg.transformers_[i].transform(X_train).tensorize_all_data(),axes=(1,2,0))\n",
    "                transformed_tensor = np.nan_to_num(transformed_tensor, nan=0.0)\n",
    "                test_tensor = np.transpose(rf_plus_reg.transformers_[i].transform(X_test).tensorize_all_data(),axes=(1,2,0))               \n",
    "                test_tensor = np.nan_to_num(test_tensor, nan=0.0)\n",
    "                # Create a tensor Regressor estimator\n",
    "                for reg_W in [0.1, 0.2, 0.3, 0.4, 0.5]:\n",
    "                        estimator = CPRegressor(weight_rank=rank, tol=10e-7, n_iter_max=100, reg_W=0.2, verbose=0)\n",
    "\n",
    "                # Fit the estimator to the data\n",
    "                        estimator.fit(transformed_tensor, y_train)\n",
    "\n",
    "                # Predict the data\n",
    "                        y_pred = estimator.predict(test_tensor)\n",
    "                        all_tensor_preds.append(y_pred)\n",
    "\n",
    "                #get r2 score\n",
    "                        r2 = r2_score(y_test, y_pred)\n",
    "                        pprint.pprint(f\"R2 for tree i {i} is {r2}\")\n",
    "\n",
    "                        if i > 10:\n",
    "                                break\n",
    "\n",
    "        tensor_preds = np.mean(all_tensor_preds, axis=0)\n",
    "        r2 = r2_score(y_test, tensor_preds)\n",
    "        pprint.pprint(f\"R2 for tensorly model with rank {rank} is {r2}\")"
   ]
  },
  {
   "cell_type": "markdown",
   "metadata": {},
   "source": [
    "## More Tensor Tests "
   ]
  },
  {
   "cell_type": "code",
   "execution_count": 70,
   "metadata": {},
   "outputs": [],
   "source": [
    "X_train_tree_tensor = np.transpose(rf_plus_reg.tensorize(X_train, by = \"tree\"), axes=(0,2,1))\n",
    "X_test_tree_tensor = np.transpose(rf_plus_reg.tensorize(X_test, by = \"tree\"), axes=(0,2,1))\n",
    "X_train_tensor_impute = np.nan_to_num(X_train_tree_tensor, nan=0.0)\n",
    "X_test_tree_tensor_impute = np.nan_to_num(X_test_tree_tensor, nan=0.0)\n"
   ]
  },
  {
   "cell_type": "markdown",
   "metadata": {},
   "source": [
    "# Tucker and CP Regression"
   ]
  },
  {
   "cell_type": "code",
   "execution_count": 76,
   "metadata": {},
   "outputs": [
    {
     "name": "stdout",
     "output_type": "stream",
     "text": [
      "MSE for Tucker model with rank 3 and reg_W 0.01 is 0.15466285611525776\n",
      "MSE for Tucker model with rank 3 and reg_W 0.05 is 0.15372929341785307\n",
      "MSE for Tucker model with rank 3 and reg_W 0.1 is 0.15382541213060513\n",
      "MSE for Tucker model with rank 3 and reg_W 0.2 is 0.15484918289201652\n"
     ]
    },
    {
     "ename": "KeyboardInterrupt",
     "evalue": "",
     "output_type": "error",
     "traceback": [
      "\u001b[0;31m---------------------------------------------------------------------------\u001b[0m",
      "\u001b[0;31mKeyboardInterrupt\u001b[0m                         Traceback (most recent call last)",
      "Cell \u001b[0;32mIn[76], line 5\u001b[0m\n\u001b[1;32m      3\u001b[0m \u001b[38;5;28;01mfor\u001b[39;00m reg_W \u001b[38;5;129;01min\u001b[39;00m reg_Ws:\n\u001b[1;32m      4\u001b[0m     estimator \u001b[38;5;241m=\u001b[39m CPRegressor(weight_rank\u001b[38;5;241m=\u001b[39m ranks[\u001b[38;5;241m0\u001b[39m], tol\u001b[38;5;241m=\u001b[39m\u001b[38;5;241m10e-7\u001b[39m, n_iter_max\u001b[38;5;241m=\u001b[39m\u001b[38;5;241m100\u001b[39m, reg_W\u001b[38;5;241m=\u001b[39mreg_W, verbose\u001b[38;5;241m=\u001b[39m\u001b[38;5;241m1\u001b[39m)\n\u001b[0;32m----> 5\u001b[0m     \u001b[43mestimator\u001b[49m\u001b[38;5;241;43m.\u001b[39;49m\u001b[43mfit\u001b[49m\u001b[43m(\u001b[49m\u001b[43mX_train_tensor_impute\u001b[49m\u001b[43m,\u001b[49m\u001b[43m \u001b[49m\u001b[43my_train\u001b[49m\u001b[43m)\u001b[49m\n\u001b[1;32m      6\u001b[0m     \u001b[38;5;28mprint\u001b[39m(\u001b[38;5;124mf\u001b[39m\u001b[38;5;124m\"\u001b[39m\u001b[38;5;124mMSE for Tucker model with rank \u001b[39m\u001b[38;5;132;01m{\u001b[39;00mrank\u001b[38;5;132;01m}\u001b[39;00m\u001b[38;5;124m and reg_W \u001b[39m\u001b[38;5;132;01m{\u001b[39;00mreg_W\u001b[38;5;132;01m}\u001b[39;00m\u001b[38;5;124m is \u001b[39m\u001b[38;5;132;01m{\u001b[39;00mmean_squared_error(y_test,\u001b[38;5;250m \u001b[39mestimator\u001b[38;5;241m.\u001b[39mpredict(X_test_tree_tensor_impute))\u001b[38;5;132;01m}\u001b[39;00m\u001b[38;5;124m\"\u001b[39m)\n",
      "File \u001b[0;32m~/miniconda3/envs/local_fi/lib/python3.10/site-packages/tensorly/regression/cp_regression.py:99\u001b[0m, in \u001b[0;36mCPRegressor.fit\u001b[0;34m(self, X, y)\u001b[0m\n\u001b[1;32m     94\u001b[0m \u001b[38;5;28;01mfor\u001b[39;00m iteration \u001b[38;5;129;01min\u001b[39;00m \u001b[38;5;28mrange\u001b[39m(\u001b[38;5;28mself\u001b[39m\u001b[38;5;241m.\u001b[39mn_iter_max):\n\u001b[1;32m     95\u001b[0m \n\u001b[1;32m     96\u001b[0m     \u001b[38;5;66;03m# Optimise each factor of W\u001b[39;00m\n\u001b[1;32m     97\u001b[0m     \u001b[38;5;28;01mfor\u001b[39;00m i \u001b[38;5;129;01min\u001b[39;00m \u001b[38;5;28mrange\u001b[39m(\u001b[38;5;28mlen\u001b[39m(W)):\n\u001b[1;32m     98\u001b[0m         phi \u001b[38;5;241m=\u001b[39m T\u001b[38;5;241m.\u001b[39mreshape(\n\u001b[0;32m---> 99\u001b[0m             \u001b[43mT\u001b[49m\u001b[38;5;241;43m.\u001b[39;49m\u001b[43mdot\u001b[49m\u001b[43m(\u001b[49m\n\u001b[1;32m    100\u001b[0m \u001b[43m                \u001b[49m\u001b[43mpartial_unfold\u001b[49m\u001b[43m(\u001b[49m\u001b[43mX\u001b[49m\u001b[43m,\u001b[49m\u001b[43m \u001b[49m\u001b[43mi\u001b[49m\u001b[43m,\u001b[49m\u001b[43m \u001b[49m\u001b[43mskip_begin\u001b[49m\u001b[38;5;241;43m=\u001b[39;49m\u001b[38;5;241;43m1\u001b[39;49m\u001b[43m)\u001b[49m\u001b[43m,\u001b[49m\u001b[43m \u001b[49m\u001b[43mkhatri_rao\u001b[49m\u001b[43m(\u001b[49m\u001b[43mW\u001b[49m\u001b[43m,\u001b[49m\u001b[43m \u001b[49m\u001b[43mskip_matrix\u001b[49m\u001b[38;5;241;43m=\u001b[39;49m\u001b[43mi\u001b[49m\u001b[43m)\u001b[49m\n\u001b[1;32m    101\u001b[0m \u001b[43m            \u001b[49m\u001b[43m)\u001b[49m,\n\u001b[1;32m    102\u001b[0m             (X\u001b[38;5;241m.\u001b[39mshape[\u001b[38;5;241m0\u001b[39m], \u001b[38;5;241m-\u001b[39m\u001b[38;5;241m1\u001b[39m),\n\u001b[1;32m    103\u001b[0m         )\n\u001b[1;32m    104\u001b[0m         inv_term \u001b[38;5;241m=\u001b[39m T\u001b[38;5;241m.\u001b[39mdot(T\u001b[38;5;241m.\u001b[39mtranspose(phi), phi) \u001b[38;5;241m+\u001b[39m \u001b[38;5;28mself\u001b[39m\u001b[38;5;241m.\u001b[39mreg_W \u001b[38;5;241m*\u001b[39m T\u001b[38;5;241m.\u001b[39mtensor(\n\u001b[1;32m    105\u001b[0m             np\u001b[38;5;241m.\u001b[39meye(phi\u001b[38;5;241m.\u001b[39mshape[\u001b[38;5;241m1\u001b[39m]), \u001b[38;5;241m*\u001b[39m\u001b[38;5;241m*\u001b[39mT\u001b[38;5;241m.\u001b[39mcontext(X)\n\u001b[1;32m    106\u001b[0m         )\n\u001b[1;32m    107\u001b[0m         W[i] \u001b[38;5;241m=\u001b[39m T\u001b[38;5;241m.\u001b[39mreshape(\n\u001b[1;32m    108\u001b[0m             T\u001b[38;5;241m.\u001b[39msolve(inv_term, T\u001b[38;5;241m.\u001b[39mdot(T\u001b[38;5;241m.\u001b[39mtranspose(phi), y)),\n\u001b[1;32m    109\u001b[0m             (X\u001b[38;5;241m.\u001b[39mshape[i \u001b[38;5;241m+\u001b[39m \u001b[38;5;241m1\u001b[39m], \u001b[38;5;28mself\u001b[39m\u001b[38;5;241m.\u001b[39mweight_rank),\n\u001b[1;32m    110\u001b[0m         )\n",
      "File \u001b[0;32m~/miniconda3/envs/local_fi/lib/python3.10/site-packages/tensorly/backend/__init__.py:206\u001b[0m, in \u001b[0;36mBackendManager.dispatch_backend_method.<locals>.wrapped_backend_method\u001b[0;34m(*args, **kwargs)\u001b[0m\n\u001b[1;32m    202\u001b[0m \u001b[38;5;28;01mdef\u001b[39;00m \u001b[38;5;21mwrapped_backend_method\u001b[39m(\u001b[38;5;241m*\u001b[39margs, \u001b[38;5;241m*\u001b[39m\u001b[38;5;241m*\u001b[39mkwargs):\n\u001b[1;32m    203\u001b[0m \u001b[38;5;250m    \u001b[39m\u001b[38;5;124;03m\"\"\"A dynamically dispatched method\u001b[39;00m\n\u001b[1;32m    204\u001b[0m \n\u001b[1;32m    205\u001b[0m \u001b[38;5;124;03m    Returns the queried method from the currently set backend\"\"\"\u001b[39;00m\n\u001b[0;32m--> 206\u001b[0m     \u001b[38;5;28;01mreturn\u001b[39;00m \u001b[38;5;28;43mgetattr\u001b[39;49m\u001b[43m(\u001b[49m\n\u001b[1;32m    207\u001b[0m \u001b[43m        \u001b[49m\u001b[38;5;28;43mcls\u001b[39;49m\u001b[38;5;241;43m.\u001b[39;49m\u001b[43m_THREAD_LOCAL_DATA\u001b[49m\u001b[38;5;241;43m.\u001b[39;49m\u001b[38;5;18;43m__dict__\u001b[39;49m\u001b[38;5;241;43m.\u001b[39;49m\u001b[43mget\u001b[49m\u001b[43m(\u001b[49m\u001b[38;5;124;43m\"\u001b[39;49m\u001b[38;5;124;43mbackend\u001b[39;49m\u001b[38;5;124;43m\"\u001b[39;49m\u001b[43m,\u001b[49m\u001b[43m \u001b[49m\u001b[38;5;28;43mcls\u001b[39;49m\u001b[38;5;241;43m.\u001b[39;49m\u001b[43m_backend\u001b[49m\u001b[43m)\u001b[49m\u001b[43m,\u001b[49m\u001b[43m \u001b[49m\u001b[43mname\u001b[49m\n\u001b[1;32m    208\u001b[0m \u001b[43m    \u001b[49m\u001b[43m)\u001b[49m\u001b[43m(\u001b[49m\u001b[38;5;241;43m*\u001b[39;49m\u001b[43margs\u001b[49m\u001b[43m,\u001b[49m\u001b[43m \u001b[49m\u001b[38;5;241;43m*\u001b[39;49m\u001b[38;5;241;43m*\u001b[39;49m\u001b[43mkwargs\u001b[49m\u001b[43m)\u001b[49m\n",
      "\u001b[0;31mKeyboardInterrupt\u001b[0m: "
     ]
    }
   ],
   "source": [
    "ranks = [1,2,3,4,5]\n",
    "reg_Ws = [0.01,0.05,0.1, 0.2, 0.3, 0.4, 0.5]\n",
    "for reg_W in reg_Ws:\n",
    "    estimator = CPRegressor(weight_rank= ranks[0], tol=10e-7, n_iter_max=100, reg_W=reg_W, verbose=1)\n",
    "    estimator.fit(X_train_tensor_impute, y_train)\n",
    "    print(f\"MSE for Tucker model with rank {rank} and reg_W {reg_W} is {mean_squared_error(y_test, estimator.predict(X_test_tree_tensor_impute))}\")"
   ]
  },
  {
   "cell_type": "code",
   "execution_count": 71,
   "metadata": {},
   "outputs": [
    {
     "name": "stdout",
     "output_type": "stream",
     "text": [
      "MSE for Tucker model with rank 1 is 0.15403731169378534\n"
     ]
    },
    {
     "ename": "KeyboardInterrupt",
     "evalue": "",
     "output_type": "error",
     "traceback": [
      "\u001b[0;31m---------------------------------------------------------------------------\u001b[0m",
      "\u001b[0;31mKeyboardInterrupt\u001b[0m                         Traceback (most recent call last)",
      "Cell \u001b[0;32mIn[71], line 4\u001b[0m\n\u001b[1;32m      2\u001b[0m \u001b[38;5;28;01mfor\u001b[39;00m rank \u001b[38;5;129;01min\u001b[39;00m ranks:\n\u001b[1;32m      3\u001b[0m     estimator \u001b[38;5;241m=\u001b[39m TuckerRegressor(weight_ranks\u001b[38;5;241m=\u001b[39m[rank,rank], tol\u001b[38;5;241m=\u001b[39m\u001b[38;5;241m10e-7\u001b[39m, n_iter_max\u001b[38;5;241m=\u001b[39m\u001b[38;5;241m100\u001b[39m, reg_W\u001b[38;5;241m=\u001b[39m\u001b[38;5;241m1\u001b[39m, verbose\u001b[38;5;241m=\u001b[39m\u001b[38;5;241m0\u001b[39m)\n\u001b[0;32m----> 4\u001b[0m     \u001b[43mestimator\u001b[49m\u001b[38;5;241;43m.\u001b[39;49m\u001b[43mfit\u001b[49m\u001b[43m(\u001b[49m\u001b[43mX_train_tensor_impute\u001b[49m\u001b[43m,\u001b[49m\u001b[43m \u001b[49m\u001b[43my_train\u001b[49m\u001b[43m)\u001b[49m\n\u001b[1;32m      5\u001b[0m     \u001b[38;5;28mprint\u001b[39m(\u001b[38;5;124mf\u001b[39m\u001b[38;5;124m\"\u001b[39m\u001b[38;5;124mMSE for Tucker model with rank \u001b[39m\u001b[38;5;132;01m{\u001b[39;00mrank\u001b[38;5;132;01m}\u001b[39;00m\u001b[38;5;124m is \u001b[39m\u001b[38;5;132;01m{\u001b[39;00mmean_squared_error(y_test,\u001b[38;5;250m \u001b[39mestimator\u001b[38;5;241m.\u001b[39mpredict(X_test_tree_tensor_impute))\u001b[38;5;132;01m}\u001b[39;00m\u001b[38;5;124m\"\u001b[39m)\n",
      "File \u001b[0;32m~/miniconda3/envs/local_fi/lib/python3.10/site-packages/tensorly/regression/tucker_regression.py:97\u001b[0m, in \u001b[0;36mTuckerRegressor.fit\u001b[0;34m(self, X, y)\u001b[0m\n\u001b[1;32m     92\u001b[0m \u001b[38;5;28;01mfor\u001b[39;00m iteration \u001b[38;5;129;01min\u001b[39;00m \u001b[38;5;28mrange\u001b[39m(\u001b[38;5;28mself\u001b[39m\u001b[38;5;241m.\u001b[39mn_iter_max):\n\u001b[1;32m     93\u001b[0m \n\u001b[1;32m     94\u001b[0m     \u001b[38;5;66;03m# Optimise modes of W\u001b[39;00m\n\u001b[1;32m     95\u001b[0m     \u001b[38;5;28;01mfor\u001b[39;00m i \u001b[38;5;129;01min\u001b[39;00m \u001b[38;5;28mrange\u001b[39m(\u001b[38;5;28mlen\u001b[39m(W)):\n\u001b[1;32m     96\u001b[0m         phi \u001b[38;5;241m=\u001b[39m partial_tensor_to_vec(\n\u001b[0;32m---> 97\u001b[0m             \u001b[43mT\u001b[49m\u001b[38;5;241;43m.\u001b[39;49m\u001b[43mdot\u001b[49m\u001b[43m(\u001b[49m\n\u001b[1;32m     98\u001b[0m \u001b[43m                \u001b[49m\u001b[43mpartial_unfold\u001b[49m\u001b[43m(\u001b[49m\u001b[43mX\u001b[49m\u001b[43m,\u001b[49m\u001b[43m \u001b[49m\u001b[43mi\u001b[49m\u001b[43m)\u001b[49m\u001b[43m,\u001b[49m\n\u001b[1;32m     99\u001b[0m \u001b[43m                \u001b[49m\u001b[43mT\u001b[49m\u001b[38;5;241;43m.\u001b[39;49m\u001b[43mdot\u001b[49m\u001b[43m(\u001b[49m\u001b[43mkronecker\u001b[49m\u001b[43m(\u001b[49m\u001b[43mW\u001b[49m\u001b[43m,\u001b[49m\u001b[43m \u001b[49m\u001b[43mskip_matrix\u001b[49m\u001b[38;5;241;43m=\u001b[39;49m\u001b[43mi\u001b[49m\u001b[43m)\u001b[49m\u001b[43m,\u001b[49m\u001b[43m \u001b[49m\u001b[43mT\u001b[49m\u001b[38;5;241;43m.\u001b[39;49m\u001b[43mtranspose\u001b[49m\u001b[43m(\u001b[49m\u001b[43munfold\u001b[49m\u001b[43m(\u001b[49m\u001b[43mG\u001b[49m\u001b[43m,\u001b[49m\u001b[43m \u001b[49m\u001b[43mi\u001b[49m\u001b[43m)\u001b[49m\u001b[43m)\u001b[49m\u001b[43m)\u001b[49m\u001b[43m,\u001b[49m\n\u001b[1;32m    100\u001b[0m \u001b[43m            \u001b[49m\u001b[43m)\u001b[49m\n\u001b[1;32m    101\u001b[0m         )\n\u001b[1;32m    102\u001b[0m         \u001b[38;5;66;03m# Regress phi on y: we could call a package here, e.g. scikit-learn\u001b[39;00m\n\u001b[1;32m    103\u001b[0m         inv_term \u001b[38;5;241m=\u001b[39m T\u001b[38;5;241m.\u001b[39mdot(T\u001b[38;5;241m.\u001b[39mtranspose(phi), phi) \u001b[38;5;241m+\u001b[39m \u001b[38;5;28mself\u001b[39m\u001b[38;5;241m.\u001b[39mreg_W \u001b[38;5;241m*\u001b[39m T\u001b[38;5;241m.\u001b[39mtensor(\n\u001b[1;32m    104\u001b[0m             np\u001b[38;5;241m.\u001b[39meye(phi\u001b[38;5;241m.\u001b[39mshape[\u001b[38;5;241m1\u001b[39m]), \u001b[38;5;241m*\u001b[39m\u001b[38;5;241m*\u001b[39mT\u001b[38;5;241m.\u001b[39mcontext(X)\n\u001b[1;32m    105\u001b[0m         )\n",
      "File \u001b[0;32m~/miniconda3/envs/local_fi/lib/python3.10/site-packages/tensorly/backend/__init__.py:206\u001b[0m, in \u001b[0;36mBackendManager.dispatch_backend_method.<locals>.wrapped_backend_method\u001b[0;34m(*args, **kwargs)\u001b[0m\n\u001b[1;32m    202\u001b[0m \u001b[38;5;28;01mdef\u001b[39;00m \u001b[38;5;21mwrapped_backend_method\u001b[39m(\u001b[38;5;241m*\u001b[39margs, \u001b[38;5;241m*\u001b[39m\u001b[38;5;241m*\u001b[39mkwargs):\n\u001b[1;32m    203\u001b[0m \u001b[38;5;250m    \u001b[39m\u001b[38;5;124;03m\"\"\"A dynamically dispatched method\u001b[39;00m\n\u001b[1;32m    204\u001b[0m \n\u001b[1;32m    205\u001b[0m \u001b[38;5;124;03m    Returns the queried method from the currently set backend\"\"\"\u001b[39;00m\n\u001b[0;32m--> 206\u001b[0m     \u001b[38;5;28;01mreturn\u001b[39;00m \u001b[38;5;28;43mgetattr\u001b[39;49m\u001b[43m(\u001b[49m\n\u001b[1;32m    207\u001b[0m \u001b[43m        \u001b[49m\u001b[38;5;28;43mcls\u001b[39;49m\u001b[38;5;241;43m.\u001b[39;49m\u001b[43m_THREAD_LOCAL_DATA\u001b[49m\u001b[38;5;241;43m.\u001b[39;49m\u001b[38;5;18;43m__dict__\u001b[39;49m\u001b[38;5;241;43m.\u001b[39;49m\u001b[43mget\u001b[49m\u001b[43m(\u001b[49m\u001b[38;5;124;43m\"\u001b[39;49m\u001b[38;5;124;43mbackend\u001b[39;49m\u001b[38;5;124;43m\"\u001b[39;49m\u001b[43m,\u001b[49m\u001b[43m \u001b[49m\u001b[38;5;28;43mcls\u001b[39;49m\u001b[38;5;241;43m.\u001b[39;49m\u001b[43m_backend\u001b[49m\u001b[43m)\u001b[49m\u001b[43m,\u001b[49m\u001b[43m \u001b[49m\u001b[43mname\u001b[49m\n\u001b[1;32m    208\u001b[0m \u001b[43m    \u001b[49m\u001b[43m)\u001b[49m\u001b[43m(\u001b[49m\u001b[38;5;241;43m*\u001b[39;49m\u001b[43margs\u001b[49m\u001b[43m,\u001b[49m\u001b[43m \u001b[49m\u001b[38;5;241;43m*\u001b[39;49m\u001b[38;5;241;43m*\u001b[39;49m\u001b[43mkwargs\u001b[49m\u001b[43m)\u001b[49m\n",
      "\u001b[0;31mKeyboardInterrupt\u001b[0m: "
     ]
    }
   ],
   "source": [
    "ranks = [1, 2, 3, 4, 5]\n",
    "for rank in ranks:\n",
    "    estimator = TuckerRegressor(weight_ranks=[rank,rank], tol=10e-7, n_iter_max=100, reg_W=1, verbose=0)\n",
    "    estimator.fit(X_train_tensor_impute, y_train)\n",
    "    print(f\"MSE for Tucker model with rank {rank} is {mean_squared_error(y_test, estimator.predict(X_test_tree_tensor_impute))}\")"
   ]
  }
 ],
 "metadata": {
  "kernelspec": {
   "display_name": "local_fi",
   "language": "python",
   "name": "python3"
  },
  "language_info": {
   "codemirror_mode": {
    "name": "ipython",
    "version": 3
   },
   "file_extension": ".py",
   "mimetype": "text/x-python",
   "name": "python",
   "nbconvert_exporter": "python",
   "pygments_lexer": "ipython3",
   "version": "3.10.14"
  }
 },
 "nbformat": 4,
 "nbformat_minor": 2
}
